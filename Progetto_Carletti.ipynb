{
  "nbformat": 4,
  "nbformat_minor": 0,
  "metadata": {
    "colab": {
      "name": "Progetto_Carletti.ipynb",
      "provenance": [],
      "collapsed_sections": [
        "oXQvHh38_At4",
        "iqUSnDNNAPDE",
        "SJyhNapoBjz8",
        "8smJ-4ni8PCu"
      ],
      "authorship_tag": "ABX9TyOBTJSMZWxKNjHxOWIwYMx/",
      "include_colab_link": true
    },
    "kernelspec": {
      "name": "python3",
      "display_name": "Python 3"
    },
    "language_info": {
      "name": "python"
    }
  },
  "cells": [
    {
      "cell_type": "markdown",
      "metadata": {
        "id": "view-in-github",
        "colab_type": "text"
      },
      "source": [
        "<a href=\"https://colab.research.google.com/github/WillyC7/ProgettoDataIntensive/blob/main/Progetto_Carletti.ipynb\" target=\"_parent\"><img src=\"https://colab.research.google.com/assets/colab-badge.svg\" alt=\"Open In Colab\"/></a>"
      ]
    },
    {
      "cell_type": "markdown",
      "metadata": {
        "id": "C3jN-1mu8LI1"
      },
      "source": [
        "# Determinare il prezzo di un automobile usata\n",
        "\n",
        "**Progetto finale Programmazione di Applicazioni Data Intensive**\n",
        "\n",
        "Creato da: Carletti William\n"
      ]
    },
    {
      "cell_type": "markdown",
      "metadata": {
        "id": "ZojUrWmr8oKC"
      },
      "source": [
        "## Parte 1a - Descrizione del problema\n",
        "\n",
        "Lo scopo di questo progetto è quello di creare un modello capace di predire il prezzo di vendita di un'automobile usata in base ai dati relativi alle auto attualmente presenti sul mercato.\n",
        "Il progetto considererà solo le auto usate di uno specifico brand (Mercedes), presenti nel mercato inglese."
      ]
    },
    {
      "cell_type": "markdown",
      "metadata": {
        "id": "oXQvHh38_At4"
      },
      "source": [
        "###Caricamento dei dati:"
      ]
    },
    {
      "cell_type": "code",
      "metadata": {
        "id": "lgpX7gSfztTO"
      },
      "source": [
        "import numpy as np\n",
        "import pandas as pd\n",
        "import matplotlib.pyplot as plt\n",
        "import sklearn\n",
        "%matplotlib inline"
      ],
      "execution_count": null,
      "outputs": []
    },
    {
      "cell_type": "code",
      "metadata": {
        "colab": {
          "base_uri": "https://localhost:8080/"
        },
        "id": "9I9anqjL0csi",
        "outputId": "6b7a9dcf-dd46-49f5-faa1-c9944fb22ba4"
      },
      "source": [
        "data = pd.read_csv(\"merc.csv\",)\n",
        "data[\"price\"] = data[\"price\"].astype(\"float64\")\n",
        "data"
      ],
      "execution_count": null,
      "outputs": [
        {
          "output_type": "execute_result",
          "data": {
            "text/html": [
              "<div>\n",
              "<style scoped>\n",
              "    .dataframe tbody tr th:only-of-type {\n",
              "        vertical-align: middle;\n",
              "    }\n",
              "\n",
              "    .dataframe tbody tr th {\n",
              "        vertical-align: top;\n",
              "    }\n",
              "\n",
              "    .dataframe thead th {\n",
              "        text-align: right;\n",
              "    }\n",
              "</style>\n",
              "<table border=\"1\" class=\"dataframe\">\n",
              "  <thead>\n",
              "    <tr style=\"text-align: right;\">\n",
              "      <th></th>\n",
              "      <th>model</th>\n",
              "      <th>year</th>\n",
              "      <th>price</th>\n",
              "      <th>transmission</th>\n",
              "      <th>mileage</th>\n",
              "      <th>fuelType</th>\n",
              "      <th>tax</th>\n",
              "      <th>mpg</th>\n",
              "      <th>engineSize</th>\n",
              "    </tr>\n",
              "  </thead>\n",
              "  <tbody>\n",
              "    <tr>\n",
              "      <th>0</th>\n",
              "      <td>SLK</td>\n",
              "      <td>2005</td>\n",
              "      <td>5200.0</td>\n",
              "      <td>Automatic</td>\n",
              "      <td>63000</td>\n",
              "      <td>Petrol</td>\n",
              "      <td>325</td>\n",
              "      <td>32.1</td>\n",
              "      <td>1.8</td>\n",
              "    </tr>\n",
              "    <tr>\n",
              "      <th>1</th>\n",
              "      <td>S Class</td>\n",
              "      <td>2017</td>\n",
              "      <td>34948.0</td>\n",
              "      <td>Automatic</td>\n",
              "      <td>27000</td>\n",
              "      <td>Hybrid</td>\n",
              "      <td>20</td>\n",
              "      <td>61.4</td>\n",
              "      <td>2.1</td>\n",
              "    </tr>\n",
              "    <tr>\n",
              "      <th>2</th>\n",
              "      <td>SL CLASS</td>\n",
              "      <td>2016</td>\n",
              "      <td>49948.0</td>\n",
              "      <td>Automatic</td>\n",
              "      <td>6200</td>\n",
              "      <td>Petrol</td>\n",
              "      <td>555</td>\n",
              "      <td>28.0</td>\n",
              "      <td>5.5</td>\n",
              "    </tr>\n",
              "    <tr>\n",
              "      <th>3</th>\n",
              "      <td>G Class</td>\n",
              "      <td>2016</td>\n",
              "      <td>61948.0</td>\n",
              "      <td>Automatic</td>\n",
              "      <td>16000</td>\n",
              "      <td>Petrol</td>\n",
              "      <td>325</td>\n",
              "      <td>30.4</td>\n",
              "      <td>4.0</td>\n",
              "    </tr>\n",
              "    <tr>\n",
              "      <th>4</th>\n",
              "      <td>G Class</td>\n",
              "      <td>2016</td>\n",
              "      <td>73948.0</td>\n",
              "      <td>Automatic</td>\n",
              "      <td>4000</td>\n",
              "      <td>Petrol</td>\n",
              "      <td>325</td>\n",
              "      <td>30.1</td>\n",
              "      <td>4.0</td>\n",
              "    </tr>\n",
              "    <tr>\n",
              "      <th>...</th>\n",
              "      <td>...</td>\n",
              "      <td>...</td>\n",
              "      <td>...</td>\n",
              "      <td>...</td>\n",
              "      <td>...</td>\n",
              "      <td>...</td>\n",
              "      <td>...</td>\n",
              "      <td>...</td>\n",
              "      <td>...</td>\n",
              "    </tr>\n",
              "    <tr>\n",
              "      <th>13114</th>\n",
              "      <td>C Class</td>\n",
              "      <td>2020</td>\n",
              "      <td>35999.0</td>\n",
              "      <td>Automatic</td>\n",
              "      <td>500</td>\n",
              "      <td>Diesel</td>\n",
              "      <td>145</td>\n",
              "      <td>55.4</td>\n",
              "      <td>2.0</td>\n",
              "    </tr>\n",
              "    <tr>\n",
              "      <th>13115</th>\n",
              "      <td>B Class</td>\n",
              "      <td>2020</td>\n",
              "      <td>24699.0</td>\n",
              "      <td>Automatic</td>\n",
              "      <td>2500</td>\n",
              "      <td>Diesel</td>\n",
              "      <td>145</td>\n",
              "      <td>55.4</td>\n",
              "      <td>2.0</td>\n",
              "    </tr>\n",
              "    <tr>\n",
              "      <th>13116</th>\n",
              "      <td>GLC Class</td>\n",
              "      <td>2019</td>\n",
              "      <td>30999.0</td>\n",
              "      <td>Automatic</td>\n",
              "      <td>11612</td>\n",
              "      <td>Diesel</td>\n",
              "      <td>145</td>\n",
              "      <td>41.5</td>\n",
              "      <td>2.1</td>\n",
              "    </tr>\n",
              "    <tr>\n",
              "      <th>13117</th>\n",
              "      <td>CLS Class</td>\n",
              "      <td>2019</td>\n",
              "      <td>37990.0</td>\n",
              "      <td>Automatic</td>\n",
              "      <td>2426</td>\n",
              "      <td>Diesel</td>\n",
              "      <td>145</td>\n",
              "      <td>45.6</td>\n",
              "      <td>2.0</td>\n",
              "    </tr>\n",
              "    <tr>\n",
              "      <th>13118</th>\n",
              "      <td>S Class</td>\n",
              "      <td>2019</td>\n",
              "      <td>54999.0</td>\n",
              "      <td>Automatic</td>\n",
              "      <td>2075</td>\n",
              "      <td>Diesel</td>\n",
              "      <td>145</td>\n",
              "      <td>52.3</td>\n",
              "      <td>2.9</td>\n",
              "    </tr>\n",
              "  </tbody>\n",
              "</table>\n",
              "<p>13119 rows × 9 columns</p>\n",
              "</div>"
            ],
            "text/plain": [
              "            model  year    price transmission  ...  fuelType  tax   mpg  engineSize\n",
              "0             SLK  2005   5200.0    Automatic  ...    Petrol  325  32.1         1.8\n",
              "1         S Class  2017  34948.0    Automatic  ...    Hybrid   20  61.4         2.1\n",
              "2        SL CLASS  2016  49948.0    Automatic  ...    Petrol  555  28.0         5.5\n",
              "3         G Class  2016  61948.0    Automatic  ...    Petrol  325  30.4         4.0\n",
              "4         G Class  2016  73948.0    Automatic  ...    Petrol  325  30.1         4.0\n",
              "...           ...   ...      ...          ...  ...       ...  ...   ...         ...\n",
              "13114     C Class  2020  35999.0    Automatic  ...    Diesel  145  55.4         2.0\n",
              "13115     B Class  2020  24699.0    Automatic  ...    Diesel  145  55.4         2.0\n",
              "13116   GLC Class  2019  30999.0    Automatic  ...    Diesel  145  41.5         2.1\n",
              "13117   CLS Class  2019  37990.0    Automatic  ...    Diesel  145  45.6         2.0\n",
              "13118     S Class  2019  54999.0    Automatic  ...    Diesel  145  52.3         2.9\n",
              "\n",
              "[13119 rows x 9 columns]"
            ]
          },
          "metadata": {
            "tags": []
          },
          "execution_count": 5
        }
      ]
    },
    {
      "cell_type": "markdown",
      "metadata": {
        "id": "CxiKgweR7J6Q"
      },
      "source": [
        "Il numero totale di record si attesta a 13119, con 9 feature.\n",
        "Di seguito trovamo l'occupazione di memoria del dataset grezzo."
      ]
    },
    {
      "cell_type": "code",
      "metadata": {
        "colab": {
          "base_uri": "https://localhost:8080/"
        },
        "id": "lIsQxXCX7ozK",
        "outputId": "85e23a52-cfbb-43d3-f7b2-28bce36c3138"
      },
      "source": [
        "data.info()"
      ],
      "execution_count": null,
      "outputs": [
        {
          "output_type": "stream",
          "text": [
            "<class 'pandas.core.frame.DataFrame'>\n",
            "RangeIndex: 13119 entries, 0 to 13118\n",
            "Data columns (total 9 columns):\n",
            " #   Column        Non-Null Count  Dtype  \n",
            "---  ------        --------------  -----  \n",
            " 0   model         13119 non-null  object \n",
            " 1   year          13119 non-null  int64  \n",
            " 2   price         13119 non-null  float64\n",
            " 3   transmission  13119 non-null  object \n",
            " 4   mileage       13119 non-null  int64  \n",
            " 5   fuelType      13119 non-null  object \n",
            " 6   tax           13119 non-null  int64  \n",
            " 7   mpg           13119 non-null  float64\n",
            " 8   engineSize    13119 non-null  float64\n",
            "dtypes: float64(3), int64(3), object(3)\n",
            "memory usage: 922.6+ KB\n"
          ],
          "name": "stdout"
        }
      ]
    },
    {
      "cell_type": "markdown",
      "metadata": {
        "id": "iqUSnDNNAPDE"
      },
      "source": [
        "###Significato dei dati:"
      ]
    },
    {
      "cell_type": "markdown",
      "metadata": {
        "id": "fpkGXkXYAZsm"
      },
      "source": [
        "Le feature del dataset sono le seguenti:\n",
        "\n",
        "\n",
        "####Dati categorici\n",
        "*   model : il modello di auto;\n",
        "*   transmission: il tipo di trasmissione;\n",
        "*   fuelType: il carburante utilizzato.\n",
        "\n",
        "####Dati numerici\n",
        "*   year: anno di immatricolazione del mezzo;\n",
        "*   mileage: le miglia totali percorse;\n",
        "*   tax: tassa annuale (in sterline);\n",
        "*   mpg: miglia percorse con un gallone di carburante;\n",
        "*   engineSize: dimensioni del motore, indicato come i litri di carburante e aria che esso è in grado di iniettare nei cilindri;\n",
        "*   price: prezzo (in sterline) a cui viene proposta l'automobile.\n",
        "\n",
        "Quest'ultima rappresenta anche la variabile di cui vogliamo predire il valore. Essa è continua, dunque ci troviamo davanti ad un problema di regressione.\n",
        "\n"
      ]
    },
    {
      "cell_type": "markdown",
      "metadata": {
        "id": "BcA5iztxRd8Q"
      },
      "source": [
        "Per ottimizzare l'occupazione in memoria, benchè il numero di righe non sia molto elevato, si convertono le feature model, transmission e fuelType da tipo object a category."
      ]
    },
    {
      "cell_type": "code",
      "metadata": {
        "id": "00J7KE9yIIjJ"
      },
      "source": [
        "categoric_features = [\"model\",\"transmission\",\"fuelType\"];\n",
        "numeric_features = [\"year\",\"price\",\"mileage\",\"tax\",\"mpg\",\"engineSize\"];"
      ],
      "execution_count": null,
      "outputs": []
    },
    {
      "cell_type": "code",
      "metadata": {
        "id": "oA9Zke5ZQsHP"
      },
      "source": [
        "for feature in categoric_features:\n",
        "    data[feature] = data[feature].astype(\"category\")"
      ],
      "execution_count": null,
      "outputs": []
    },
    {
      "cell_type": "code",
      "metadata": {
        "colab": {
          "base_uri": "https://localhost:8080/"
        },
        "id": "wNomY-JjR3fM",
        "outputId": "02df77e0-5795-4829-ef96-b6806b8e2d87"
      },
      "source": [
        "data.info()"
      ],
      "execution_count": null,
      "outputs": [
        {
          "output_type": "stream",
          "text": [
            "<class 'pandas.core.frame.DataFrame'>\n",
            "RangeIndex: 13119 entries, 0 to 13118\n",
            "Data columns (total 9 columns):\n",
            " #   Column        Non-Null Count  Dtype   \n",
            "---  ------        --------------  -----   \n",
            " 0   model         13119 non-null  category\n",
            " 1   year          13119 non-null  int64   \n",
            " 2   price         13119 non-null  float64 \n",
            " 3   transmission  13119 non-null  category\n",
            " 4   mileage       13119 non-null  int64   \n",
            " 5   fuelType      13119 non-null  category\n",
            " 6   tax           13119 non-null  int64   \n",
            " 7   mpg           13119 non-null  float64 \n",
            " 8   engineSize    13119 non-null  float64 \n",
            "dtypes: category(3), float64(3), int64(3)\n",
            "memory usage: 655.3 KB\n"
          ],
          "name": "stdout"
        }
      ]
    },
    {
      "cell_type": "markdown",
      "metadata": {
        "id": "SJyhNapoBjz8"
      },
      "source": [
        "###Pulizia dati\n",
        "Per prima cosa, andiamo a controllare l'eventuale presenza di record nulli."
      ]
    },
    {
      "cell_type": "code",
      "metadata": {
        "colab": {
          "base_uri": "https://localhost:8080/"
        },
        "id": "Qwk9X6jKBuyV",
        "outputId": "2dd6e110-8ced-497e-a2cd-e3634609a7b1"
      },
      "source": [
        "data.isna().sum()"
      ],
      "execution_count": null,
      "outputs": [
        {
          "output_type": "execute_result",
          "data": {
            "text/plain": [
              "model           0\n",
              "year            0\n",
              "price           0\n",
              "transmission    0\n",
              "mileage         0\n",
              "fuelType        0\n",
              "tax             0\n",
              "mpg             0\n",
              "engineSize      0\n",
              "dtype: int64"
            ]
          },
          "metadata": {
            "tags": []
          },
          "execution_count": 10
        }
      ]
    },
    {
      "cell_type": "markdown",
      "metadata": {
        "id": "xSyTSHN8B8OH"
      },
      "source": [
        "Come possiamo notare, nessuna feature presenta valori nulli.\n",
        "In seguito, andiamo ad ricavare da year la feature **age**, ossia l'età della macchina. Questa feature risulta essere più accurata di year in quanto è indipendente dall'anno in cui ci troviamo, perciò sostituirà year. Tale operazione viene fatta considerando l'anno in cui sono stati rilevati i dati, ossia il 2020. "
      ]
    },
    {
      "cell_type": "code",
      "metadata": {
        "id": "X0_7Y-gXDbAG"
      },
      "source": [
        "data[\"age\"] = 2020 - data[\"year\"];\n",
        "data.drop(columns=\"year\",inplace=True);\n",
        "numeric_features.append(\"age\");\n",
        "numeric_features.remove(\"year\");"
      ],
      "execution_count": null,
      "outputs": []
    },
    {
      "cell_type": "markdown",
      "metadata": {
        "id": "8smJ-4ni8PCu"
      },
      "source": [
        "##Parte 1b - Analisi esplorativa"
      ]
    },
    {
      "cell_type": "markdown",
      "metadata": {
        "id": "s_W-3S599B2A"
      },
      "source": [
        "Per prima cosa andiamo ad osservare le caratteristiche di base delle sole feature numeriche appartenenti ai dati analizzati."
      ]
    },
    {
      "cell_type": "code",
      "metadata": {
        "colab": {
          "base_uri": "https://localhost:8080/"
        },
        "id": "Q2si60pQ9Of5",
        "outputId": "cc5fb6be-5337-4478-d234-661a2945e895"
      },
      "source": [
        "data.describe()"
      ],
      "execution_count": null,
      "outputs": [
        {
          "output_type": "execute_result",
          "data": {
            "text/html": [
              "<div>\n",
              "<style scoped>\n",
              "    .dataframe tbody tr th:only-of-type {\n",
              "        vertical-align: middle;\n",
              "    }\n",
              "\n",
              "    .dataframe tbody tr th {\n",
              "        vertical-align: top;\n",
              "    }\n",
              "\n",
              "    .dataframe thead th {\n",
              "        text-align: right;\n",
              "    }\n",
              "</style>\n",
              "<table border=\"1\" class=\"dataframe\">\n",
              "  <thead>\n",
              "    <tr style=\"text-align: right;\">\n",
              "      <th></th>\n",
              "      <th>price</th>\n",
              "      <th>mileage</th>\n",
              "      <th>tax</th>\n",
              "      <th>mpg</th>\n",
              "      <th>engineSize</th>\n",
              "      <th>age</th>\n",
              "    </tr>\n",
              "  </thead>\n",
              "  <tbody>\n",
              "    <tr>\n",
              "      <th>count</th>\n",
              "      <td>13119.000000</td>\n",
              "      <td>13119.000000</td>\n",
              "      <td>13119.000000</td>\n",
              "      <td>13119.000000</td>\n",
              "      <td>13119.000000</td>\n",
              "      <td>13119.000000</td>\n",
              "    </tr>\n",
              "    <tr>\n",
              "      <th>mean</th>\n",
              "      <td>24698.596920</td>\n",
              "      <td>21949.559037</td>\n",
              "      <td>129.972178</td>\n",
              "      <td>55.155843</td>\n",
              "      <td>2.071530</td>\n",
              "      <td>2.703712</td>\n",
              "    </tr>\n",
              "    <tr>\n",
              "      <th>std</th>\n",
              "      <td>11842.675542</td>\n",
              "      <td>21176.512267</td>\n",
              "      <td>65.260286</td>\n",
              "      <td>15.220082</td>\n",
              "      <td>0.572426</td>\n",
              "      <td>2.224709</td>\n",
              "    </tr>\n",
              "    <tr>\n",
              "      <th>min</th>\n",
              "      <td>650.000000</td>\n",
              "      <td>1.000000</td>\n",
              "      <td>0.000000</td>\n",
              "      <td>1.100000</td>\n",
              "      <td>0.000000</td>\n",
              "      <td>0.000000</td>\n",
              "    </tr>\n",
              "    <tr>\n",
              "      <th>25%</th>\n",
              "      <td>17450.000000</td>\n",
              "      <td>6097.500000</td>\n",
              "      <td>125.000000</td>\n",
              "      <td>45.600000</td>\n",
              "      <td>1.800000</td>\n",
              "      <td>1.000000</td>\n",
              "    </tr>\n",
              "    <tr>\n",
              "      <th>50%</th>\n",
              "      <td>22480.000000</td>\n",
              "      <td>15189.000000</td>\n",
              "      <td>145.000000</td>\n",
              "      <td>56.500000</td>\n",
              "      <td>2.000000</td>\n",
              "      <td>2.000000</td>\n",
              "    </tr>\n",
              "    <tr>\n",
              "      <th>75%</th>\n",
              "      <td>28980.000000</td>\n",
              "      <td>31779.500000</td>\n",
              "      <td>145.000000</td>\n",
              "      <td>64.200000</td>\n",
              "      <td>2.100000</td>\n",
              "      <td>4.000000</td>\n",
              "    </tr>\n",
              "    <tr>\n",
              "      <th>max</th>\n",
              "      <td>159999.000000</td>\n",
              "      <td>259000.000000</td>\n",
              "      <td>580.000000</td>\n",
              "      <td>217.300000</td>\n",
              "      <td>6.200000</td>\n",
              "      <td>50.000000</td>\n",
              "    </tr>\n",
              "  </tbody>\n",
              "</table>\n",
              "</div>"
            ],
            "text/plain": [
              "               price        mileage  ...    engineSize           age\n",
              "count   13119.000000   13119.000000  ...  13119.000000  13119.000000\n",
              "mean    24698.596920   21949.559037  ...      2.071530      2.703712\n",
              "std     11842.675542   21176.512267  ...      0.572426      2.224709\n",
              "min       650.000000       1.000000  ...      0.000000      0.000000\n",
              "25%     17450.000000    6097.500000  ...      1.800000      1.000000\n",
              "50%     22480.000000   15189.000000  ...      2.000000      2.000000\n",
              "75%     28980.000000   31779.500000  ...      2.100000      4.000000\n",
              "max    159999.000000  259000.000000  ...      6.200000     50.000000\n",
              "\n",
              "[8 rows x 6 columns]"
            ]
          },
          "metadata": {
            "tags": []
          },
          "execution_count": 12
        }
      ]
    },
    {
      "cell_type": "markdown",
      "metadata": {
        "id": "YjpTiSR09rWs"
      },
      "source": [
        "Come possiamo vedere, le auto analizzate in media sono state immatricolate nell'anno **2017**, solo il 25% di esse risalgono ad un anno precedente al **2016**.\n",
        "Il prezzo medio si aggira sulle **21000** sterline, appropriato se si considera la fama del marchio automobilistico.\n",
        "Osservando i dati relativi alle miglia percorsa dai veicoli, invece, ci accorgiamo che il 75% di essi non supera le **32000** miglia (~52000 chilometri), dato sicuramente influenzato dall'età media delle auto.\n",
        "Passando al costo della tassa di registrazione del mezzo, notiamo che il prezzo medio si attesta sulle **130** £, ma la deviazione standard del dato risulta essere anch'essa elevata: controllando la tassazione effettuata nel Regno Unito, scopriamo che il prezzo deriva dalle emissioni di CO2 prodotte dal veicolo.\n",
        "###TODO"
      ]
    },
    {
      "cell_type": "markdown",
      "metadata": {
        "id": "XqSZiW8gH3Dn"
      },
      "source": [
        "Per vedere meglio questi dati, ci affidiamo alle rappresentazioni boxplot."
      ]
    },
    {
      "cell_type": "code",
      "metadata": {
        "colab": {
          "base_uri": "https://localhost:8080/"
        },
        "id": "X2VOPcp6KaMJ",
        "outputId": "14fd3947-7188-42c3-d1ab-2ac0ddaa0d1b"
      },
      "source": [
        "plt.figure(figsize=(18, 18))\n",
        "for n, col in enumerate(numeric_features, start=1):\n",
        "    data[col].plot.box(ax=plt.subplot(3, 3, n))"
      ],
      "execution_count": null,
      "outputs": [
        {
          "output_type": "display_data",
          "data": {
            "image/png": "[encoded data removed]",
            "text/plain": [
              "<Figure size 1296x1296 with 6 Axes>"
            ]
          },
          "metadata": {
            "tags": [],
            "needs_background": "light"
          }
        }
      ]
    },
    {
      "cell_type": "markdown",
      "metadata": {
        "id": "FttKeBAv-nHZ"
      },
      "source": [
        "Come possiamo notare, tutte le feature contengono diversi outliers. In alcune, questi valori sono ben distribuiti, mentre in altre, ossia age e mileage, sono presenti pochi outliers notevolmente distanti da tutti gli altri valori. Si procede perciò alla rimozione delle seguenti righe:"
      ]
    },
    {
      "cell_type": "code",
      "metadata": {
        "id": "d1ulQviF_vCc"
      },
      "source": [
        "data = data.loc[(data.age < 40) & (data.mileage < 200000),:]"
      ],
      "execution_count": null,
      "outputs": []
    },
    {
      "cell_type": "markdown",
      "metadata": {
        "id": "UgwIf0aFAN2m"
      },
      "source": [
        "Verifichiamo di nuovo il box-plot delle sopracitate feature, così da mostrare la differenza di omogeneità degli outliers."
      ]
    },
    {
      "cell_type": "code",
      "metadata": {
        "colab": {
          "base_uri": "https://localhost:8080/"
        },
        "id": "6ABJKofoAgDn",
        "outputId": "c4bc33a8-282e-455e-e50e-282cc1e98060"
      },
      "source": [
        "plt.figure(figsize=(12, 9))\n",
        "data.age.plot.box(ax=plt.subplot(1, 2, 1))\n",
        "data.mileage.plot.box(ax=plt.subplot(1, 2, 2))\n"
      ],
      "execution_count": null,
      "outputs": [
        {
          "output_type": "execute_result",
          "data": {
            "text/plain": [
              "<matplotlib.axes._subplots.AxesSubplot at 0x7ff4bab05890>"
            ]
          },
          "metadata": {
            "tags": []
          },
          "execution_count": 15
        },
        {
          "output_type": "display_data",
          "data": {
            "image/png": "[encoded data removed]",
            "text/plain": [
              "<Figure size 864x648 with 2 Axes>"
            ]
          },
          "metadata": {
            "tags": [],
            "needs_background": "light"
          }
        }
      ]
    },
    {
      "cell_type": "markdown",
      "metadata": {
        "id": "wF_KH_HJEWxx"
      },
      "source": [
        "Passando alle feature categoriche, possiamo osservarne il numero di valori distinti per ciascuna di esse."
      ]
    },
    {
      "cell_type": "code",
      "metadata": {
        "colab": {
          "base_uri": "https://localhost:8080/"
        },
        "id": "XA3ugpMwElRM",
        "outputId": "7d115f0e-3dd0-4f53-cd10-7bffff405c23"
      },
      "source": [
        "for feature in categoric_features:\n",
        "  print(\"Count of unique values of feature \" + feature + \" : {}\".format(data.loc[:,feature].nunique()))"
      ],
      "execution_count": null,
      "outputs": [
        {
          "output_type": "stream",
          "text": [
            "Count of unique values of feature model : 27\n",
            "Count of unique values of feature transmission : 4\n",
            "Count of unique values of feature fuelType : 4\n"
          ],
          "name": "stdout"
        }
      ]
    },
    {
      "cell_type": "markdown",
      "metadata": {
        "id": "pTZobz4EHIwd"
      },
      "source": [
        "Notiamo dunque che sia la trasmissione che il tipo di carburante utilizzato dai mezzi analizzati hanno scarsa variabilità."
      ]
    },
    {
      "cell_type": "code",
      "metadata": {
        "colab": {
          "base_uri": "https://localhost:8080/"
        },
        "id": "hSlve-hAUdJ0",
        "outputId": "30f89fbc-1b19-4493-c449-8aed96bdea8a"
      },
      "source": [
        "plt.figure(figsize=(22, 10))\n",
        "for n, col in enumerate(categoric_features, start=1):\n",
        "    data[col].value_counts().plot.bar(ax=plt.subplot(1, 3, n))\n",
        "    plt.title(col)"
      ],
      "execution_count": null,
      "outputs": [
        {
          "output_type": "display_data",
          "data": {
            "image/png": "[encoded data removed]",
            "text/plain": [
              "<Figure size 1584x720 with 3 Axes>"
            ]
          },
          "metadata": {
            "tags": [],
            "needs_background": "light"
          }
        }
      ]
    },
    {
      "cell_type": "markdown",
      "metadata": {
        "id": "DvZGZNLoJuLi"
      },
      "source": [
        "Da questi grafici notiamo il modello più presente sul mercato, ossia il Classe C. Notiamo inoltre che sono presenti alcuni veicoli con una trasmissione e tipo di carburante definiti come *Other*.\n",
        "Per quanto riguarda la prima feature, i record potrebbero riferirsi ad una trasmissione Continuously Variable Transmission (CVT), ossia una trasmissione per certi versi simile ad una automatica."
      ]
    },
    {
      "cell_type": "code",
      "metadata": {
        "colab": {
          "base_uri": "https://localhost:8080/"
        },
        "id": "h0mgtZ5yLK5Y",
        "outputId": "32b66ecd-f73a-408f-b825-f4714c53f508"
      },
      "source": [
        "otherCars = data.loc[data.transmission == \"Other\"];\n",
        "print(otherCars);\n",
        "print(\"Numero di veicoli: {}\".format(len(otherCars)));"
      ],
      "execution_count": null,
      "outputs": [
        {
          "output_type": "stream",
          "text": [
            "            model    price transmission  mileage  ...  tax   mpg  engineSize  age\n",
            "9650    GLA Class  18700.0        Other    30895  ...  125  56.5         0.0    4\n",
            "12762         SLK  12995.0        Other    39000  ...  150  56.5         2.1    5\n",
            "\n",
            "[2 rows x 9 columns]\n",
            "Numero di veicoli: 2\n"
          ],
          "name": "stdout"
        }
      ]
    },
    {
      "cell_type": "markdown",
      "metadata": {
        "id": "yHejT5k3L_oA"
      },
      "source": [
        "Facendo una ricerca si scopre che nessuno dei due modelli riportati sono mai state equipaggiate con quella trasmissione; si decide quindi di rimuovere i due record.\n",
        "Passando al tipo di carburante, il valore other potrebbe riferirsi ad automobili elettriche, sempre più popolari, oppure a modelli alimentati ad idrogeno, molto meno popolari nel mercato odierno."
      ]
    },
    {
      "cell_type": "code",
      "metadata": {
        "colab": {
          "base_uri": "https://localhost:8080/"
        },
        "id": "GdaXPJqJM10i",
        "outputId": "99a28941-4f8e-44c0-d722-67027e862a0a"
      },
      "source": [
        "otherCars = data.loc[data.fuelType == \"Other\"];\n",
        "print(otherCars);\n",
        "print(\"Numero di veicoli: {}\".format(len(otherCars)));"
      ],
      "execution_count": null,
      "outputs": [
        {
          "output_type": "stream",
          "text": [
            "            model    price transmission  mileage  ...  tax    mpg  engineSize  age\n",
            "9650    GLA Class  18700.0        Other    30895  ...  125   56.5         0.0    4\n",
            "11740   GLE Class  31990.0    Automatic    46000  ...    0   76.4         3.0    4\n",
            "12095     C Class  13850.0    Automatic    77814  ...    0  134.5         2.0    4\n",
            "12184     C Class  17400.0    Automatic    52897  ...    0  134.5         2.0    3\n",
            "12270     C Class  16000.0    Automatic    54011  ...    0  134.5         2.0    3\n",
            "12389     C Class  15000.0    Automatic    53400  ...    0  134.5         2.0    5\n",
            "12894     C Class  40999.0    Automatic      400  ...  135  217.3         2.0    0\n",
            "\n",
            "[7 rows x 9 columns]\n",
            "Numero di veicoli: 7\n"
          ],
          "name": "stdout"
        }
      ]
    },
    {
      "cell_type": "markdown",
      "metadata": {
        "id": "D_FxTJuGNzJ5"
      },
      "source": [
        "Anche in questo caso, le auto ottenute non sono modelli elettrici o ad idrogeno, quindi andiamo ad eliminare anche questi 7 record."
      ]
    },
    {
      "cell_type": "code",
      "metadata": {
        "id": "Tkpd-pcNMbp1"
      },
      "source": [
        "data = data.loc[(data.transmission != \"Other\") & (data.fuelType != \"Other\"),:]\n",
        "data.transmission.cat.remove_categories(removals=[\"Other\"],inplace=True)\n",
        "data.fuelType.cat.remove_categories(removals=[\"Other\"],inplace=True)"
      ],
      "execution_count": null,
      "outputs": []
    },
    {
      "cell_type": "code",
      "metadata": {
        "colab": {
          "base_uri": "https://localhost:8080/"
        },
        "id": "yRjwekX3PI3X",
        "outputId": "a64dad1d-83f3-4e69-af9b-6a4eb4e90dfd"
      },
      "source": [
        "plt.figure(figsize=(22, 10))\n",
        "for n, col in enumerate(categoric_features, start=1):\n",
        "    data[col].value_counts().plot.bar(ax=plt.subplot(1, 3, n))\n",
        "    plt.title(col)"
      ],
      "execution_count": null,
      "outputs": [
        {
          "output_type": "display_data",
          "data": {
            "image/png": "[encoded data removed]",
            "text/plain": [
              "<Figure size 1584x720 with 3 Axes>"
            ]
          },
          "metadata": {
            "tags": [],
            "needs_background": "light"
          }
        }
      ]
    },
    {
      "cell_type": "markdown",
      "metadata": {
        "id": "7mxCQuQXM89L"
      },
      "source": [
        "###Correlazione tra coppie di feature"
      ]
    },
    {
      "cell_type": "code",
      "metadata": {
        "colab": {
          "base_uri": "https://localhost:8080/"
        },
        "id": "9fE0wVYpXg3g",
        "outputId": "76f6b438-486e-433f-97fd-0324605871ec"
      },
      "source": [
        "corr = data.drop(columns=[\"price\"]).corr()\n",
        "\n",
        "fig, ax = plt.subplots(figsize=(12, 12))\n",
        "im = ax.matshow(corr,cmap=\"viridis\")\n",
        "plt.xticks(range(len(corr.columns)), corr.columns);\n",
        "plt.yticks(range(len(corr.columns)), corr.columns);\n",
        "fig.colorbar(im);\n",
        "for (i, j), z in np.ndenumerate(corr):\n",
        "    ax.text(j, i, '{:0.1f}'.format(z), ha='center', va='center',\n",
        "            bbox=dict(boxstyle='round', facecolor='white', edgecolor='0.3'))\n",
        "plt.show();"
      ],
      "execution_count": null,
      "outputs": [
        {
          "output_type": "display_data",
          "data": {
            "image/png": "[encoded data removed]",
            "text/plain": [
              "<Figure size 864x864 with 2 Axes>"
            ]
          },
          "metadata": {
            "tags": [],
            "needs_background": "light"
          }
        }
      ]
    },
    {
      "cell_type": "markdown",
      "metadata": {
        "id": "NsqBgzzjZyJS"
      },
      "source": [
        "Questo grafico mostra l'indice di correlazione di Pearson (quindi compreso tra -1 e 1) tra le coppie di feature numeriche.\n",
        "\n",
        "* Tra prezzo della tassa e miglia per gallone troviamo una correlazione negativa: questo è dovuto probabilmente al fatto che un'auto poco efficiente nell'uso di carburante produrrà anche più anidride carbonica, facendo aumentare così la sopracitata tassa.\n",
        "* Altra correlazione, sempre negativa, è quella che intercorre tra miglia percorse ed età del mezzo; risulta infatti ovvio che, più un auto è recente e meno miglia avrà percorso.\n",
        "* Possiamo notare una lieve correlazione tra dimensione del motore e miglia per gallone, indicando che un motore più potente porti solitamente a consumi più elevati ed una efficienza ridotta."
      ]
    },
    {
      "cell_type": "markdown",
      "metadata": {
        "id": "ns9AUpaqFT5J"
      },
      "source": [
        "##Parte 2 - Data Preprocessing"
      ]
    },
    {
      "cell_type": "markdown",
      "metadata": {
        "id": "R9CylzPZFiha"
      },
      "source": [
        "Per prima cosa, andiamo ad estrarre la variabile dipendente da predire dal resto dei dati. Il prezzo da calcolare, inoltre, viene convertito in migliaia di sterline, così da mantenere i coefficienti di regressione più bassi."
      ]
    },
    {
      "cell_type": "code",
      "metadata": {
        "id": "6HWyaiMdFhf2"
      },
      "source": [
        "y = data[\"price\"];\n",
        "X = data.drop(columns=[\"price\"]);\n",
        "numeric_features.remove(\"price\")"
      ],
      "execution_count": null,
      "outputs": []
    },
    {
      "cell_type": "markdown",
      "metadata": {
        "id": "lbT4vaAWG7Sd"
      },
      "source": [
        "###Utilizzo feature categoriche\n",
        "Per poter utilizzare le variabili categoriche nei modelli che vogliamo costruire, verrà utilizzata la tecnica chiamata **One Hot Encoding**.\n",
        "Questo meccanismo trasforma tali feature in feature numeriche, così da poterle utilizzare nella creazione dei modelli di regressione.\n",
        "Per poter selezionare le sole colonne categoriche ed applicare l'encoding, viene inoltre utilizzato un **ColumnTransformer**; esso ci permetterà in seguito di standardizzare le sole feature numeriche."
      ]
    },
    {
      "cell_type": "markdown",
      "metadata": {
        "id": "Txs_Q5hOzaL_"
      },
      "source": [
        "###Standardizzazione\n",
        "Per quanto riguarda la standardizzazione delle feature numeriche, considerando la differenza delle scale di valore di esse, possiamo ipotizzare che il suo utilizzo migliori i risultati notevolmente. Per dimostrare ciò, verranno creati due modelli di regressione lineare semplice, utlizzando solo nel primo caso uno StandardScaler; questi modelli verranno confrontati mediante l'utilizzo delle tre tecniche principali di valutazione di modelli di regressione."
      ]
    },
    {
      "cell_type": "code",
      "metadata": {
        "id": "tkRZNgEpF6FY"
      },
      "source": [
        "from sklearn.metrics import r2_score\n",
        "from sklearn.metrics import mean_squared_error\n",
        "from sklearn.preprocessing import StandardScaler\n",
        "\n",
        "y_scaler = StandardScaler();\n",
        "\n",
        "def relative_error(y_true, y_pred):\n",
        "    return np.mean(np.abs((y_true - y_pred) / y_true));\n",
        "\n",
        "def print_eval(X, y, model):\n",
        "    actual_printing(y,model.predict(X))\n",
        "\n",
        "def print_eval_scaled(X, y, model):\n",
        "    preds = model.predict(X)\n",
        "    unscaled_preds = y_scaler.inverse_transform(preds);\n",
        "    unscaled_y = y_scaler.inverse_transform(y);\n",
        "    actual_printing(unscaled_y,unscaled_preds)\n",
        "\n",
        "def actual_printing(y,preds):\n",
        "    print(\"   Mean squared error: {:.5}\".format(mean_squared_error(y, preds)))\n",
        "    print(\"       Relative error: {:.5%}\".format(relative_error(y, preds)))\n",
        "    print(\"R-squared coefficient: {:.5}\".format(r2_score(y, preds)))\n",
        "\n",
        "def print_param_eval(gridSearch):\n",
        "    print(\"\\nDettagli parametri GridSearch:\")\n",
        "    with pd.option_context('display.max_rows', None, 'display.max_colwidth', 100):  \n",
        "      display(pd.DataFrame(gridSearch.cv_results_).sort_values(\"mean_test_score\", ascending=False).head(5)[gsParams])"
      ],
      "execution_count": null,
      "outputs": []
    },
    {
      "cell_type": "code",
      "metadata": {
        "id": "5fmKzFSy0-3-"
      },
      "source": [
        "from sklearn.linear_model import LinearRegression\n",
        "from sklearn.compose import ColumnTransformer\n",
        "from sklearn.pipeline import Pipeline\n",
        "from sklearn.preprocessing import OneHotEncoder\n",
        "from sklearn.preprocessing import PolynomialFeatures\n",
        "from sklearn.linear_model import Lasso\n",
        "from sklearn.model_selection import train_test_split"
      ],
      "execution_count": null,
      "outputs": []
    },
    {
      "cell_type": "code",
      "metadata": {
        "colab": {
          "base_uri": "https://localhost:8080/"
        },
        "id": "v0lMJ2Rm2iqN",
        "outputId": "f17e9c46-f2c4-448b-a9a0-4f06f893234e"
      },
      "source": [
        "scaled_y = y_scaler.fit_transform(y.values[:, None]).ravel();\n",
        "model = Pipeline([\n",
        "    (\"preproc\", ColumnTransformer([\n",
        "        (\"numeric\", StandardScaler(), numeric_features),\n",
        "        (\"categorical\", OneHotEncoder(), categoric_features)\n",
        "    ])),\n",
        "    (\"linreg\" , LinearRegression())\n",
        "])\n",
        "model.fit(X,scaled_y)\n",
        "print_eval_scaled(X,scaled_y,model)"
      ],
      "execution_count": null,
      "outputs": [
        {
          "output_type": "stream",
          "text": [
            "   Mean squared error: 3.1344e+07\n",
            "       Relative error: 16.98865%\n",
            "R-squared coefficient: 0.77654\n"
          ],
          "name": "stdout"
        }
      ]
    },
    {
      "cell_type": "code",
      "metadata": {
        "colab": {
          "base_uri": "https://localhost:8080/"
        },
        "id": "mQtUtQmb33O5",
        "outputId": "88c1c253-eb4a-4005-b545-2819d4c4b5f7"
      },
      "source": [
        "model = Pipeline([\n",
        "    (\"preproc\", ColumnTransformer([\n",
        "        (\"categorical\", OneHotEncoder(), categoric_features)\n",
        "    ])),\n",
        "    (\"linreg\" , LinearRegression())\n",
        "])\n",
        "model.fit(X,y)\n",
        "print_eval(X,y,model)"
      ],
      "execution_count": null,
      "outputs": [
        {
          "output_type": "stream",
          "text": [
            "   Mean squared error: 8.2825e+07\n",
            "       Relative error: 29.84064%\n",
            "R-squared coefficient: 0.4095\n"
          ],
          "name": "stdout"
        }
      ]
    },
    {
      "cell_type": "markdown",
      "metadata": {
        "id": "VHbWn1t-4FMS"
      },
      "source": [
        "Come possiamo notare, benchè sia stato utilizzato solo un modello lineare, il guadagno in termini di accuratezza risulta essere considerevole."
      ]
    },
    {
      "cell_type": "markdown",
      "metadata": {
        "id": "5yWbMReF_bGz"
      },
      "source": [
        "###Individuazione feature più rilevanti\n",
        "\n",
        "Per rilevare le feature più rilevanti nel problema analizzato, verrà creato un modello di regressione mediante Lasso, che utilizza una regolarizzazione di tipo l1."
      ]
    },
    {
      "cell_type": "code",
      "metadata": {
        "colab": {
          "base_uri": "https://localhost:8080/"
        },
        "id": "pYGJawsWDm88",
        "outputId": "972d6be2-8ace-4c0a-9f3e-d2ff6960c7e4"
      },
      "source": [
        "scaled_y = y_scaler.fit_transform(y.values[:, None]).ravel();\n",
        "model = Pipeline([\n",
        "    (\"preproc\", ColumnTransformer([\n",
        "        (\"numeric\", StandardScaler(), numeric_features),\n",
        "        (\"categorical\", OneHotEncoder(), categoric_features)\n",
        "    ])),\n",
        "    (\"reg\" , Lasso(alpha=0.001))\n",
        "])\n",
        "model.fit(X,scaled_y)\n",
        "coefs = model.named_steps[\"reg\"].coef_;\n",
        "enc_categ_features = model.named_steps[\"preproc\"].named_transformers_['categorical'].get_feature_names()\n",
        "labels = np.concatenate([numeric_features, enc_categ_features]);\n",
        "print(pd.Series(data=coefs,index=labels))\n",
        "print_eval_scaled(X,scaled_y,model)\n",
        "\n"
      ],
      "execution_count": null,
      "outputs": [
        {
          "output_type": "stream",
          "text": [
            "mileage         -0.219173\n",
            "tax             -0.099752\n",
            "mpg             -0.216720\n",
            "engineSize       0.453992\n",
            "age             -0.395023\n",
            "x0_ A Class     -0.068753\n",
            "x0_ B Class     -0.269874\n",
            "x0_ C Class     -0.122150\n",
            "x0_ CL Class    -0.128739\n",
            "x0_ CLA Class   -0.000000\n",
            "x0_ CLC Class    0.000000\n",
            "x0_ CLK          0.000000\n",
            "x0_ CLS Class   -0.093793\n",
            "x0_ E Class     -0.000000\n",
            "x0_ G Class      3.702628\n",
            "x0_ GL Class    -0.000000\n",
            "x0_ GLA Class   -0.250618\n",
            "x0_ GLB Class    0.000000\n",
            "x0_ GLC Class    0.259132\n",
            "x0_ GLE Class    0.469727\n",
            "x0_ GLS Class    0.554485\n",
            "x0_ M Class      0.000000\n",
            "x0_ R Class      0.000000\n",
            "x0_ S Class      0.698237\n",
            "x0_ SL CLASS    -0.009897\n",
            "x0_ SLK          0.050062\n",
            "x0_ V Class      0.286140\n",
            "x0_ X-CLASS     -0.192113\n",
            "x0_180           0.000000\n",
            "x0_200          -0.000000\n",
            "x0_220          -0.000000\n",
            "x0_230           0.000000\n",
            "x1_Automatic     0.000000\n",
            "x1_Manual       -0.175762\n",
            "x1_Semi-Auto     0.000981\n",
            "x2_Diesel       -0.118007\n",
            "x2_Hybrid        0.816707\n",
            "x2_Petrol        0.000000\n",
            "dtype: float64\n",
            "   Mean squared error: 3.1803e+07\n",
            "       Relative error: 17.01531%\n",
            "R-squared coefficient: 0.77326\n"
          ],
          "name": "stdout"
        }
      ]
    },
    {
      "cell_type": "markdown",
      "metadata": {
        "id": "HafgzZquFcKB"
      },
      "source": [
        "Osservando i coefficienti di regressione associati alle relative variabili di input, possiamo vedere che diversi di loro sono stati annullati, non perdendo nulla in accuratezza. Notiamo inoltre che per la feature transmission solo un coefficiente è non nullo: questo ci fa capire che il cambio dell'automobile non incida particolarmente sul suo prezzo."
      ]
    },
    {
      "cell_type": "code",
      "metadata": {
        "colab": {
          "base_uri": "https://localhost:8080/"
        },
        "id": "C2UyVEhvGZOO",
        "outputId": "e903cea1-757d-41e1-f4af-472344ce3121"
      },
      "source": [
        "print(pd.Series(data=coefs,index=labels).abs().sort_values(ascending=False).head(5))"
      ],
      "execution_count": null,
      "outputs": [
        {
          "output_type": "stream",
          "text": [
            "x0_ G Class      3.702628\n",
            "x2_Hybrid        0.816707\n",
            "x0_ S Class      0.698237\n",
            "x0_ GLS Class    0.554485\n",
            "x0_ GLE Class    0.469727\n",
            "dtype: float64\n"
          ],
          "name": "stdout"
        }
      ]
    },
    {
      "cell_type": "markdown",
      "metadata": {
        "id": "6Uyc770KQLDH"
      },
      "source": [
        "La lista dei coefficienti più influenti ci fa intedere quanto il modello del veicolo influisca sul prezzo di quest'ultimo. Risulta chiaro che, nonostante tutto, un'automobile di lusso (come il Mercedes G Class) abbia un prezzo base più alto di, ad esempio, un'utilitaria."
      ]
    },
    {
      "cell_type": "markdown",
      "metadata": {
        "id": "xlBLzXV-H1tI"
      },
      "source": [
        "###Hold Out\n",
        "Viene in seguito diviso il dataset in training e validation set, con una divisione di 2/3 ed 1/3 rispettivamente."
      ]
    },
    {
      "cell_type": "code",
      "metadata": {
        "id": "rVENsp5QK0ya"
      },
      "source": [
        "X_train,X_val,y_train,y_val = train_test_split(X,y,test_size=1/3,random_state=42);\n",
        "#X_transformer = ColumnTransformer([\n",
        "#        (\"numeric\" , StandardScaler(), numeric_features),\n",
        "#        (\"categoric\" , OneHotEncoder(),  categoric_features)\n",
        "#    ]);\n",
        "\n",
        "#X_transformer.fit(X)\n",
        "y_scaler.fit(y.values[:,None])\n",
        "\n",
        "#X_train = X_transformer.transform(X_train)\n",
        "#X_val = X_transformer.transform(X_val)\n",
        "\n",
        "y_train = y_scaler.transform(y_train.values[:,None]).ravel()\n",
        "y_val = y_scaler.transform(y_val.values[:,None]).ravel()"
      ],
      "execution_count": null,
      "outputs": []
    },
    {
      "cell_type": "markdown",
      "metadata": {
        "id": "3ubrAYqoLhSf"
      },
      "source": [
        "##Parte 3 - Modellazione"
      ]
    },
    {
      "cell_type": "code",
      "metadata": {
        "id": "9swkBk7mL4tb"
      },
      "source": [
        "from sklearn.linear_model import Ridge\n",
        "from sklearn.linear_model import ElasticNet\n",
        "from sklearn.kernel_ridge import KernelRidge\n",
        "from sklearn.model_selection import GridSearchCV\n",
        "from sklearn.tree import DecisionTreeRegressor\n",
        "from sklearn.model_selection import KFold\n",
        "\n",
        "gsParams = [\"rank_test_score\",\"mean_test_score\",\"params\"]"
      ],
      "execution_count": null,
      "outputs": []
    },
    {
      "cell_type": "markdown",
      "metadata": {
        "id": "_h5ETRCKAo5W"
      },
      "source": [
        "Vengono in seguito creati diversi modelli di regressione."
      ]
    },
    {
      "cell_type": "markdown",
      "metadata": {
        "id": "SbPiql4rWisf"
      },
      "source": [
        "###Regressione Polinomiale"
      ]
    },
    {
      "cell_type": "markdown",
      "metadata": {
        "id": "vXgEdj0V1_nJ"
      },
      "source": [
        "Partiamo con la creazone di un modello di regressione polinomiale senza regolarizzazione, facendo una grid search per il grado migliore a cui elevare i dati."
      ]
    },
    {
      "cell_type": "code",
      "metadata": {
        "colab": {
          "base_uri": "https://localhost:8080/",
          "height": 227
        },
        "id": "Hgp_e3MZWlik",
        "outputId": "01eafe52-c593-4fc5-9712-34fcad21961a"
      },
      "source": [
        "numeric_preproc = Pipeline([\n",
        "    (\"std\",StandardScaler()),\n",
        "    (\"poly\",PolynomialFeatures(include_bias=False))\n",
        "]);\n",
        "\n",
        "model = Pipeline([\n",
        "    (\"preproc\", ColumnTransformer([\n",
        "        (\"numeric\", numeric_preproc, numeric_features),\n",
        "        (\"categoric\", OneHotEncoder(handle_unknown=\"ignore\"), categoric_features)\n",
        "    ])),\n",
        "    (\"reg\" , LinearRegression())\n",
        "])\n",
        "grid = {\n",
        "    \"preproc__numeric__poly__degree\": [2, 3, 4]\n",
        "}\n",
        "kf = KFold(3, shuffle=True, random_state=42)\n",
        "gs = GridSearchCV(model, grid, cv=kf)\n",
        "gs.fit(X_train, y_train)\n",
        "print_eval_scaled(X_val,y_val,gs)\n",
        "print_param_eval(gs)"
      ],
      "execution_count": null,
      "outputs": [
        {
          "output_type": "stream",
          "text": [
            "   Mean squared error: 2.3825e+07\n",
            "       Relative error: 11.65015%\n",
            "R-squared coefficient: 0.84339\n",
            "\n",
            "Dettagli parametri GridSearch:\n"
          ],
          "name": "stdout"
        },
        {
          "output_type": "display_data",
          "data": {
            "text/html": [
              "<div>\n",
              "<style scoped>\n",
              "    .dataframe tbody tr th:only-of-type {\n",
              "        vertical-align: middle;\n",
              "    }\n",
              "\n",
              "    .dataframe tbody tr th {\n",
              "        vertical-align: top;\n",
              "    }\n",
              "\n",
              "    .dataframe thead th {\n",
              "        text-align: right;\n",
              "    }\n",
              "</style>\n",
              "<table border=\"1\" class=\"dataframe\">\n",
              "  <thead>\n",
              "    <tr style=\"text-align: right;\">\n",
              "      <th></th>\n",
              "      <th>rank_test_score</th>\n",
              "      <th>mean_test_score</th>\n",
              "      <th>params</th>\n",
              "    </tr>\n",
              "  </thead>\n",
              "  <tbody>\n",
              "    <tr>\n",
              "      <th>0</th>\n",
              "      <td>1</td>\n",
              "      <td>0.852014</td>\n",
              "      <td>{'preproc__numeric__poly__degree': 2}</td>\n",
              "    </tr>\n",
              "    <tr>\n",
              "      <th>1</th>\n",
              "      <td>2</td>\n",
              "      <td>0.842893</td>\n",
              "      <td>{'preproc__numeric__poly__degree': 3}</td>\n",
              "    </tr>\n",
              "    <tr>\n",
              "      <th>2</th>\n",
              "      <td>3</td>\n",
              "      <td>0.674819</td>\n",
              "      <td>{'preproc__numeric__poly__degree': 4}</td>\n",
              "    </tr>\n",
              "  </tbody>\n",
              "</table>\n",
              "</div>"
            ],
            "text/plain": [
              "   rank_test_score  mean_test_score                                 params\n",
              "0                1         0.852014  {'preproc__numeric__poly__degree': 2}\n",
              "1                2         0.842893  {'preproc__numeric__poly__degree': 3}\n",
              "2                3         0.674819  {'preproc__numeric__poly__degree': 4}"
            ]
          },
          "metadata": {
            "tags": []
          }
        }
      ]
    },
    {
      "cell_type": "markdown",
      "metadata": {
        "id": "0HSVneY9sveV"
      },
      "source": [
        "###Regressione Ridge\n",
        "\n",
        "Proviamo ad applicare un modello di regressione lineare con regolarizzazione"
      ]
    },
    {
      "cell_type": "code",
      "metadata": {
        "colab": {
          "base_uri": "https://localhost:8080/"
        },
        "id": "brBNDRNNspk4",
        "outputId": "80a1737c-5641-4307-8032-50dc06c0b14e"
      },
      "source": [
        "model = Pipeline([\n",
        "    (\"preproc\", ColumnTransformer([\n",
        "        (\"numeric\", StandardScaler(), numeric_features),\n",
        "        (\"categoric\", OneHotEncoder(handle_unknown=\"ignore\"), categoric_features)\n",
        "    ])),\n",
        "    (\"reg\" , Ridge())\n",
        "])\n",
        "grid = {\n",
        "    \"reg__alpha\":[0.01,0.1,1,10]\n",
        "}\n",
        "kf = KFold(4, shuffle=True, random_state=42)\n",
        "gs = GridSearchCV(model, grid, cv=kf, refit=True)\n",
        "gs.fit(X_train, y_train)\n",
        "print_eval_scaled(X_val,y_val,gs)\n",
        "print_param_eval(gs)"
      ],
      "execution_count": null,
      "outputs": [
        {
          "output_type": "stream",
          "text": [
            "   Mean squared error: 3.7266e+07\n",
            "       Relative error: 17.44905%\n",
            "R-squared coefficient: 0.75504\n",
            "\n",
            "Dettagli parametri GridSearch:\n",
            "   rank_test_score  mean_test_score                params\n",
            "0                1         0.782540  {'reg__alpha': 0.01}\n",
            "1                2         0.782462   {'reg__alpha': 0.1}\n",
            "2                3         0.781721     {'reg__alpha': 1}\n",
            "3                4         0.773634    {'reg__alpha': 10}\n"
          ],
          "name": "stdout"
        }
      ]
    },
    {
      "cell_type": "markdown",
      "metadata": {
        "id": "H-wV8miWyJnK"
      },
      "source": [
        "In questo caso notiamo che, tranne con alpha molto grande (e quindi con molta regolarizzazione), lo score rimanga più o meno lo stesso."
      ]
    },
    {
      "cell_type": "markdown",
      "metadata": {
        "id": "h09teW18jR52"
      },
      "source": [
        "###Regressione Ridge Polinomiale\n",
        "Testiamo di nuovo la regressione ridge, ma in questo caso aumentiamo la dimensionalità"
      ]
    },
    {
      "cell_type": "code",
      "metadata": {
        "colab": {
          "base_uri": "https://localhost:8080/",
          "height": 289
        },
        "id": "mslzzOMKiuHe",
        "outputId": "63b10c32-f659-4cf6-c1c5-d800b3a2ced4"
      },
      "source": [
        "numeric_preproc = Pipeline([\n",
        "    (\"std\",StandardScaler()),\n",
        "    (\"poly\",PolynomialFeatures(include_bias=False))\n",
        "]);\n",
        "\n",
        "model = Pipeline([\n",
        "    (\"preproc\", ColumnTransformer([\n",
        "        (\"numeric\", numeric_preproc, numeric_features),\n",
        "        (\"categoric\", OneHotEncoder(handle_unknown=\"ignore\"), categoric_features)\n",
        "    ])),\n",
        "    (\"reg\" , Ridge())\n",
        "])\n",
        "grid = {\n",
        "    \"preproc__numeric__poly__degree\": [2, 3, 4],\n",
        "    \"reg__alpha\":[0.01,0.1,1,10]\n",
        "}\n",
        "kf = KFold(4, shuffle=True, random_state=42)\n",
        "gs = GridSearchCV(model, grid, cv=kf, refit=True)\n",
        "gs.fit(X_train, y_train)\n",
        "print_eval_scaled(X_val,y_val,gs)\n",
        "print_param_eval(gs)"
      ],
      "execution_count": null,
      "outputs": [
        {
          "output_type": "stream",
          "text": [
            "   Mean squared error: 2.3825e+07\n",
            "       Relative error: 11.64999%\n",
            "R-squared coefficient: 0.84339\n",
            "\n",
            "Dettagli parametri GridSearch:\n"
          ],
          "name": "stdout"
        },
        {
          "output_type": "display_data",
          "data": {
            "text/html": [
              "<div>\n",
              "<style scoped>\n",
              "    .dataframe tbody tr th:only-of-type {\n",
              "        vertical-align: middle;\n",
              "    }\n",
              "\n",
              "    .dataframe tbody tr th {\n",
              "        vertical-align: top;\n",
              "    }\n",
              "\n",
              "    .dataframe thead th {\n",
              "        text-align: right;\n",
              "    }\n",
              "</style>\n",
              "<table border=\"1\" class=\"dataframe\">\n",
              "  <thead>\n",
              "    <tr style=\"text-align: right;\">\n",
              "      <th></th>\n",
              "      <th>rank_test_score</th>\n",
              "      <th>mean_test_score</th>\n",
              "      <th>params</th>\n",
              "    </tr>\n",
              "  </thead>\n",
              "  <tbody>\n",
              "    <tr>\n",
              "      <th>0</th>\n",
              "      <td>1</td>\n",
              "      <td>0.851355</td>\n",
              "      <td>{'preproc__numeric__poly__degree': 2, 'reg__alpha': 0.01}</td>\n",
              "    </tr>\n",
              "    <tr>\n",
              "      <th>1</th>\n",
              "      <td>2</td>\n",
              "      <td>0.851344</td>\n",
              "      <td>{'preproc__numeric__poly__degree': 2, 'reg__alpha': 0.1}</td>\n",
              "    </tr>\n",
              "    <tr>\n",
              "      <th>2</th>\n",
              "      <td>3</td>\n",
              "      <td>0.850906</td>\n",
              "      <td>{'preproc__numeric__poly__degree': 2, 'reg__alpha': 1}</td>\n",
              "    </tr>\n",
              "    <tr>\n",
              "      <th>3</th>\n",
              "      <td>4</td>\n",
              "      <td>0.845975</td>\n",
              "      <td>{'preproc__numeric__poly__degree': 2, 'reg__alpha': 10}</td>\n",
              "    </tr>\n",
              "    <tr>\n",
              "      <th>4</th>\n",
              "      <td>5</td>\n",
              "      <td>0.837739</td>\n",
              "      <td>{'preproc__numeric__poly__degree': 3, 'reg__alpha': 0.01}</td>\n",
              "    </tr>\n",
              "  </tbody>\n",
              "</table>\n",
              "</div>"
            ],
            "text/plain": [
              "   rank_test_score  ...                                                     params\n",
              "0                1  ...  {'preproc__numeric__poly__degree': 2, 'reg__alpha': 0.01}\n",
              "1                2  ...   {'preproc__numeric__poly__degree': 2, 'reg__alpha': 0.1}\n",
              "2                3  ...     {'preproc__numeric__poly__degree': 2, 'reg__alpha': 1}\n",
              "3                4  ...    {'preproc__numeric__poly__degree': 2, 'reg__alpha': 10}\n",
              "4                5  ...  {'preproc__numeric__poly__degree': 3, 'reg__alpha': 0.01}\n",
              "\n",
              "[5 rows x 3 columns]"
            ]
          },
          "metadata": {
            "tags": []
          }
        }
      ]
    },
    {
      "cell_type": "markdown",
      "metadata": {
        "id": "nU3Bdee8zqik"
      },
      "source": [
        "Notiamo subito un grande miglioramento per quanto riguarda lo score, che ora si aggira sul 0.84. Nonostante ciò, tale score risulta essere simile a quello ottenuto senza regolarizzazione."
      ]
    },
    {
      "cell_type": "markdown",
      "metadata": {
        "id": "3xqRsf_q1y6a"
      },
      "source": [
        "###Regressione Ridge Polinomiale (includendo feature categoriche polinomiali)\n",
        "\n",
        "In questo caso, invece di elevare la dimensionalità delle sole feature numeriche, generiamo le feature polinomiali di tutte le colonne ottenute in seguito al preprocessing. "
      ]
    },
    {
      "cell_type": "code",
      "metadata": {
        "colab": {
          "base_uri": "https://localhost:8080/",
          "height": 258
        },
        "id": "56wCa3-r0xoo",
        "outputId": "a3033d6c-bf98-4a4b-a513-0db997ac1af1"
      },
      "source": [
        "model = Pipeline([\n",
        "    (\"preproc\", ColumnTransformer([\n",
        "        (\"numeric\", StandardScaler(), numeric_features),\n",
        "        (\"categoric\", OneHotEncoder(handle_unknown=\"ignore\"), categoric_features)\n",
        "    ])),\n",
        "    (\"poly\", PolynomialFeatures(include_bias=False)),\n",
        "    (\"reg\" , Ridge())\n",
        "])\n",
        "grid = {\n",
        "    \"reg__alpha\":[0.01,0.1,1,10]\n",
        "}\n",
        "kf = KFold(4, shuffle=True, random_state=42)\n",
        "gs = GridSearchCV(model, grid, cv=kf, refit=True)\n",
        "gs.fit(X_train, y_train)\n",
        "print_eval_scaled(X_val,y_val,gs)\n",
        "print_param_eval(gs)"
      ],
      "execution_count": null,
      "outputs": [
        {
          "output_type": "stream",
          "text": [
            "   Mean squared error: 1.4889e+07\n",
            "       Relative error: 10.10878%\n",
            "R-squared coefficient: 0.90213\n",
            "\n",
            "Dettagli parametri GridSearch:\n"
          ],
          "name": "stdout"
        },
        {
          "output_type": "display_data",
          "data": {
            "text/html": [
              "<div>\n",
              "<style scoped>\n",
              "    .dataframe tbody tr th:only-of-type {\n",
              "        vertical-align: middle;\n",
              "    }\n",
              "\n",
              "    .dataframe tbody tr th {\n",
              "        vertical-align: top;\n",
              "    }\n",
              "\n",
              "    .dataframe thead th {\n",
              "        text-align: right;\n",
              "    }\n",
              "</style>\n",
              "<table border=\"1\" class=\"dataframe\">\n",
              "  <thead>\n",
              "    <tr style=\"text-align: right;\">\n",
              "      <th></th>\n",
              "      <th>rank_test_score</th>\n",
              "      <th>mean_test_score</th>\n",
              "      <th>params</th>\n",
              "    </tr>\n",
              "  </thead>\n",
              "  <tbody>\n",
              "    <tr>\n",
              "      <th>3</th>\n",
              "      <td>1</td>\n",
              "      <td>0.894426</td>\n",
              "      <td>{'reg__alpha': 10}</td>\n",
              "    </tr>\n",
              "    <tr>\n",
              "      <th>2</th>\n",
              "      <td>2</td>\n",
              "      <td>0.893167</td>\n",
              "      <td>{'reg__alpha': 1}</td>\n",
              "    </tr>\n",
              "    <tr>\n",
              "      <th>1</th>\n",
              "      <td>3</td>\n",
              "      <td>0.891477</td>\n",
              "      <td>{'reg__alpha': 0.1}</td>\n",
              "    </tr>\n",
              "    <tr>\n",
              "      <th>0</th>\n",
              "      <td>4</td>\n",
              "      <td>0.891461</td>\n",
              "      <td>{'reg__alpha': 0.01}</td>\n",
              "    </tr>\n",
              "  </tbody>\n",
              "</table>\n",
              "</div>"
            ],
            "text/plain": [
              "   rank_test_score  mean_test_score                params\n",
              "3                1         0.894426    {'reg__alpha': 10}\n",
              "2                2         0.893167     {'reg__alpha': 1}\n",
              "1                3         0.891477   {'reg__alpha': 0.1}\n",
              "0                4         0.891461  {'reg__alpha': 0.01}"
            ]
          },
          "metadata": {
            "tags": []
          }
        }
      ]
    },
    {
      "cell_type": "markdown",
      "metadata": {
        "id": "gg_D7DGp3Cf6"
      },
      "source": [
        "Notiamo un ulteriore miglioramento rispetto al modello precedente; in questo caso viene preferita una regolarizzazione più elevata."
      ]
    },
    {
      "cell_type": "markdown",
      "metadata": {
        "id": "eS_mDrJas2w5"
      },
      "source": [
        "###Regressione Lasso"
      ]
    },
    {
      "cell_type": "code",
      "metadata": {
        "colab": {
          "base_uri": "https://localhost:8080/"
        },
        "id": "2V5Po3hcs2U1",
        "outputId": "2a3f421d-1cc6-4bd0-c326-8c0d598d530b"
      },
      "source": [
        "model = Pipeline([\n",
        "    (\"preproc\", ColumnTransformer([\n",
        "        (\"numeric\", StandardScaler(), numeric_features),\n",
        "        (\"categoric\", OneHotEncoder(handle_unknown=\"ignore\"), categoric_features)\n",
        "    ])),\n",
        "    (\"reg\" , Lasso())\n",
        "])\n",
        "grid = {\n",
        "    \"reg__alpha\":[0.01,0.1,1,10]\n",
        "}\n",
        "kf = KFold(3, shuffle=True, random_state=42)\n",
        "gs = GridSearchCV(model, grid, cv=kf, refit=True)\n",
        "gs.fit(X_train, y_train)\n",
        "print_eval_scaled(X_val,y_val,gs)\n",
        "print(gs.best_params_)"
      ],
      "execution_count": null,
      "outputs": [
        {
          "output_type": "stream",
          "text": [
            "   Mean squared error: 4.5563e+07\n",
            "       Relative error: 18.23235%\n",
            "R-squared coefficient: 0.7005\n",
            "{'reg__alpha': 0.01}\n"
          ],
          "name": "stdout"
        }
      ]
    },
    {
      "cell_type": "markdown",
      "metadata": {
        "id": "FEj6g-fovwyY"
      },
      "source": [
        "###Regressione Lasso polinomiale\n",
        "Testiamo ora la regressione Lasso utilizzando anche le feature polinomiali generate partendo dalle sole variabili numeriche."
      ]
    },
    {
      "cell_type": "code",
      "metadata": {
        "colab": {
          "base_uri": "https://localhost:8080/",
          "height": 479
        },
        "id": "WBpndm0MvwGU",
        "outputId": "b626b671-4dff-4c3d-b272-9e302d2f8116"
      },
      "source": [
        "numeric_preproc = Pipeline([\n",
        "    (\"std\",StandardScaler()),\n",
        "    (\"poly\",PolynomialFeatures(include_bias=False))\n",
        "]);\n",
        "\n",
        "model = Pipeline([\n",
        "    (\"preproc\", ColumnTransformer([\n",
        "        (\"numeric\", numeric_preproc, numeric_features),\n",
        "        (\"categoric\", OneHotEncoder(handle_unknown=\"ignore\"), categoric_features)\n",
        "    ])),\n",
        "    (\"reg\" , Lasso())\n",
        "])\n",
        "grid = {\n",
        "    \"preproc__numeric__poly__degree\": [2, 3, 4],\n",
        "    \"reg__alpha\":[0.01,0.1,1,10],\n",
        "}\n",
        "kf = KFold(3, shuffle=True, random_state=42)\n",
        "gs = GridSearchCV(model, grid, cv=kf, refit=True)\n",
        "gs.fit(X_train, y_train)\n",
        "print_eval_scaled(X_val,y_val,gs)\n",
        "print_param_eval(gs)"
      ],
      "execution_count": null,
      "outputs": [
        {
          "output_type": "stream",
          "text": [
            "/usr/local/lib/python3.7/dist-packages/sklearn/linear_model/_coordinate_descent.py:476: ConvergenceWarning: Objective did not converge. You might want to increase the number of iterations. Duality gap: 133.91571002572186, tolerance: 0.5486416389008448\n",
            "  positive)\n",
            "/usr/local/lib/python3.7/dist-packages/sklearn/linear_model/_coordinate_descent.py:476: ConvergenceWarning: Objective did not converge. You might want to increase the number of iterations. Duality gap: 160.55077290992676, tolerance: 0.5553808828451668\n",
            "  positive)\n",
            "/usr/local/lib/python3.7/dist-packages/sklearn/linear_model/_coordinate_descent.py:476: ConvergenceWarning: Objective did not converge. You might want to increase the number of iterations. Duality gap: 258.1931474496295, tolerance: 0.5696096229296246\n",
            "  positive)\n",
            "/usr/local/lib/python3.7/dist-packages/sklearn/linear_model/_coordinate_descent.py:476: ConvergenceWarning: Objective did not converge. You might want to increase the number of iterations. Duality gap: 1.6459018212983665, tolerance: 0.5486416389008448\n",
            "  positive)\n",
            "/usr/local/lib/python3.7/dist-packages/sklearn/linear_model/_coordinate_descent.py:476: ConvergenceWarning: Objective did not converge. You might want to increase the number of iterations. Duality gap: 18.953890203337778, tolerance: 0.5553808828451668\n",
            "  positive)\n"
          ],
          "name": "stderr"
        },
        {
          "output_type": "stream",
          "text": [
            "   Mean squared error: 2.6897e+07\n",
            "       Relative error: 12.19569%\n",
            "R-squared coefficient: 0.8232\n",
            "\n",
            "Dettagli parametri GridSearch:\n"
          ],
          "name": "stdout"
        },
        {
          "output_type": "display_data",
          "data": {
            "text/html": [
              "<div>\n",
              "<style scoped>\n",
              "    .dataframe tbody tr th:only-of-type {\n",
              "        vertical-align: middle;\n",
              "    }\n",
              "\n",
              "    .dataframe tbody tr th {\n",
              "        vertical-align: top;\n",
              "    }\n",
              "\n",
              "    .dataframe thead th {\n",
              "        text-align: right;\n",
              "    }\n",
              "</style>\n",
              "<table border=\"1\" class=\"dataframe\">\n",
              "  <thead>\n",
              "    <tr style=\"text-align: right;\">\n",
              "      <th></th>\n",
              "      <th>rank_test_score</th>\n",
              "      <th>mean_test_score</th>\n",
              "      <th>params</th>\n",
              "    </tr>\n",
              "  </thead>\n",
              "  <tbody>\n",
              "    <tr>\n",
              "      <th>4</th>\n",
              "      <td>1</td>\n",
              "      <td>0.823918</td>\n",
              "      <td>{'preproc__numeric__poly__degree': 3, 'reg__alpha': 0.01}</td>\n",
              "    </tr>\n",
              "    <tr>\n",
              "      <th>8</th>\n",
              "      <td>2</td>\n",
              "      <td>0.814874</td>\n",
              "      <td>{'preproc__numeric__poly__degree': 4, 'reg__alpha': 0.01}</td>\n",
              "    </tr>\n",
              "    <tr>\n",
              "      <th>0</th>\n",
              "      <td>3</td>\n",
              "      <td>0.810928</td>\n",
              "      <td>{'preproc__numeric__poly__degree': 2, 'reg__alpha': 0.01}</td>\n",
              "    </tr>\n",
              "    <tr>\n",
              "      <th>5</th>\n",
              "      <td>4</td>\n",
              "      <td>0.733577</td>\n",
              "      <td>{'preproc__numeric__poly__degree': 3, 'reg__alpha': 0.1}</td>\n",
              "    </tr>\n",
              "    <tr>\n",
              "      <th>1</th>\n",
              "      <td>5</td>\n",
              "      <td>0.733304</td>\n",
              "      <td>{'preproc__numeric__poly__degree': 2, 'reg__alpha': 0.1}</td>\n",
              "    </tr>\n",
              "  </tbody>\n",
              "</table>\n",
              "</div>"
            ],
            "text/plain": [
              "   rank_test_score  ...                                                     params\n",
              "4                1  ...  {'preproc__numeric__poly__degree': 3, 'reg__alpha': 0.01}\n",
              "8                2  ...  {'preproc__numeric__poly__degree': 4, 'reg__alpha': 0.01}\n",
              "0                3  ...  {'preproc__numeric__poly__degree': 2, 'reg__alpha': 0.01}\n",
              "5                4  ...   {'preproc__numeric__poly__degree': 3, 'reg__alpha': 0.1}\n",
              "1                5  ...   {'preproc__numeric__poly__degree': 2, 'reg__alpha': 0.1}\n",
              "\n",
              "[5 rows x 3 columns]"
            ]
          },
          "metadata": {
            "tags": []
          }
        }
      ]
    },
    {
      "cell_type": "markdown",
      "metadata": {
        "id": "dcIFPMMY4kTA"
      },
      "source": [
        "Come nel caso della regressione Ridge, anche in questo caso l'utilizzo delle feature polinomiali porta ad un sensibile miglioramento dello score."
      ]
    },
    {
      "cell_type": "markdown",
      "metadata": {
        "id": "_lpZO8o73tR3"
      },
      "source": [
        "###Regressione Lasso Polinomiale (includendo feature categoriche polinomiali)"
      ]
    },
    {
      "cell_type": "code",
      "metadata": {
        "colab": {
          "base_uri": "https://localhost:8080/",
          "height": 258
        },
        "id": "lotIYsQO3Rww",
        "outputId": "3350df8c-1e6c-4b87-9e8b-ab286f67df70"
      },
      "source": [
        "model = Pipeline([\n",
        "    (\"preproc\", ColumnTransformer([\n",
        "        (\"numeric\", StandardScaler(), numeric_features),\n",
        "        (\"categoric\", OneHotEncoder(handle_unknown=\"ignore\"), categoric_features)\n",
        "    ])),\n",
        "    (\"poly\",PolynomialFeatures(include_bias=False)),\n",
        "    (\"reg\" , Lasso())\n",
        "])\n",
        "grid = {\n",
        "    \"reg__alpha\":[0.01,0.1,1,10],\n",
        "}\n",
        "kf = KFold(3, shuffle=True, random_state=42)\n",
        "gs = GridSearchCV(model, grid, cv=kf, refit=True)\n",
        "gs.fit(X_train, y_train)\n",
        "print_eval_scaled(X_val,y_val,gs)\n",
        "print_param_eval(gs)"
      ],
      "execution_count": null,
      "outputs": [
        {
          "output_type": "stream",
          "text": [
            "   Mean squared error: 2.5568e+07\n",
            "       Relative error: 12.07877%\n",
            "R-squared coefficient: 0.83193\n",
            "\n",
            "Dettagli parametri GridSearch:\n"
          ],
          "name": "stdout"
        },
        {
          "output_type": "display_data",
          "data": {
            "text/html": [
              "<div>\n",
              "<style scoped>\n",
              "    .dataframe tbody tr th:only-of-type {\n",
              "        vertical-align: middle;\n",
              "    }\n",
              "\n",
              "    .dataframe tbody tr th {\n",
              "        vertical-align: top;\n",
              "    }\n",
              "\n",
              "    .dataframe thead th {\n",
              "        text-align: right;\n",
              "    }\n",
              "</style>\n",
              "<table border=\"1\" class=\"dataframe\">\n",
              "  <thead>\n",
              "    <tr style=\"text-align: right;\">\n",
              "      <th></th>\n",
              "      <th>rank_test_score</th>\n",
              "      <th>mean_test_score</th>\n",
              "      <th>params</th>\n",
              "    </tr>\n",
              "  </thead>\n",
              "  <tbody>\n",
              "    <tr>\n",
              "      <th>0</th>\n",
              "      <td>1</td>\n",
              "      <td>0.828521</td>\n",
              "      <td>{'reg__alpha': 0.01}</td>\n",
              "    </tr>\n",
              "    <tr>\n",
              "      <th>1</th>\n",
              "      <td>2</td>\n",
              "      <td>0.733304</td>\n",
              "      <td>{'reg__alpha': 0.1}</td>\n",
              "    </tr>\n",
              "    <tr>\n",
              "      <th>2</th>\n",
              "      <td>3</td>\n",
              "      <td>0.042982</td>\n",
              "      <td>{'reg__alpha': 1}</td>\n",
              "    </tr>\n",
              "    <tr>\n",
              "      <th>3</th>\n",
              "      <td>4</td>\n",
              "      <td>-0.000108</td>\n",
              "      <td>{'reg__alpha': 10}</td>\n",
              "    </tr>\n",
              "  </tbody>\n",
              "</table>\n",
              "</div>"
            ],
            "text/plain": [
              "   rank_test_score  mean_test_score                params\n",
              "0                1         0.828521  {'reg__alpha': 0.01}\n",
              "1                2         0.733304   {'reg__alpha': 0.1}\n",
              "2                3         0.042982     {'reg__alpha': 1}\n",
              "3                4        -0.000108    {'reg__alpha': 10}"
            ]
          },
          "metadata": {
            "tags": []
          }
        }
      ]
    },
    {
      "cell_type": "markdown",
      "metadata": {
        "id": "pOh-kH7GlJAx"
      },
      "source": [
        "###Elastic Net"
      ]
    },
    {
      "cell_type": "code",
      "metadata": {
        "colab": {
          "base_uri": "https://localhost:8080/",
          "height": 289
        },
        "id": "CLxwwr-P47Mk",
        "outputId": "a1b73223-29d1-43ad-ca88-da196718436b"
      },
      "source": [
        "model = Pipeline([\n",
        "    (\"preproc\", ColumnTransformer([\n",
        "        (\"numeric\", StandardScaler(), numeric_features),\n",
        "        (\"categoric\", OneHotEncoder(handle_unknown=\"ignore\"), categoric_features)\n",
        "    ])),\n",
        "    (\"reg\" , ElasticNet())\n",
        "])\n",
        "grid = {\n",
        "    \"reg__alpha\":[0.01,0.1,1,10],\n",
        "    \"reg__l1_ratio\": [0.1, 0.2, 0.3]\n",
        "}\n",
        "kf = KFold(3, shuffle=True, random_state=42)\n",
        "gs = GridSearchCV(model, grid, cv=kf, refit=True)\n",
        "gs.fit(X_train, y_train)\n",
        "print_eval_scaled(X_val,y_val,gs)\n",
        "print_param_eval(gs)"
      ],
      "execution_count": null,
      "outputs": [
        {
          "output_type": "stream",
          "text": [
            "   Mean squared error: 4.1879e+07\n",
            "       Relative error: 17.60562%\n",
            "R-squared coefficient: 0.72472\n",
            "\n",
            "Dettagli parametri GridSearch:\n"
          ],
          "name": "stdout"
        },
        {
          "output_type": "display_data",
          "data": {
            "text/html": [
              "<div>\n",
              "<style scoped>\n",
              "    .dataframe tbody tr th:only-of-type {\n",
              "        vertical-align: middle;\n",
              "    }\n",
              "\n",
              "    .dataframe tbody tr th {\n",
              "        vertical-align: top;\n",
              "    }\n",
              "\n",
              "    .dataframe thead th {\n",
              "        text-align: right;\n",
              "    }\n",
              "</style>\n",
              "<table border=\"1\" class=\"dataframe\">\n",
              "  <thead>\n",
              "    <tr style=\"text-align: right;\">\n",
              "      <th></th>\n",
              "      <th>rank_test_score</th>\n",
              "      <th>mean_test_score</th>\n",
              "      <th>params</th>\n",
              "    </tr>\n",
              "  </thead>\n",
              "  <tbody>\n",
              "    <tr>\n",
              "      <th>0</th>\n",
              "      <td>1</td>\n",
              "      <td>0.757148</td>\n",
              "      <td>{'reg__alpha': 0.01, 'reg__l1_ratio': 0.1}</td>\n",
              "    </tr>\n",
              "    <tr>\n",
              "      <th>1</th>\n",
              "      <td>2</td>\n",
              "      <td>0.753378</td>\n",
              "      <td>{'reg__alpha': 0.01, 'reg__l1_ratio': 0.2}</td>\n",
              "    </tr>\n",
              "    <tr>\n",
              "      <th>2</th>\n",
              "      <td>3</td>\n",
              "      <td>0.749976</td>\n",
              "      <td>{'reg__alpha': 0.01, 'reg__l1_ratio': 0.3}</td>\n",
              "    </tr>\n",
              "    <tr>\n",
              "      <th>3</th>\n",
              "      <td>4</td>\n",
              "      <td>0.709981</td>\n",
              "      <td>{'reg__alpha': 0.1, 'reg__l1_ratio': 0.1}</td>\n",
              "    </tr>\n",
              "    <tr>\n",
              "      <th>4</th>\n",
              "      <td>5</td>\n",
              "      <td>0.697944</td>\n",
              "      <td>{'reg__alpha': 0.1, 'reg__l1_ratio': 0.2}</td>\n",
              "    </tr>\n",
              "  </tbody>\n",
              "</table>\n",
              "</div>"
            ],
            "text/plain": [
              "   rank_test_score  mean_test_score                                      params\n",
              "0                1         0.757148  {'reg__alpha': 0.01, 'reg__l1_ratio': 0.1}\n",
              "1                2         0.753378  {'reg__alpha': 0.01, 'reg__l1_ratio': 0.2}\n",
              "2                3         0.749976  {'reg__alpha': 0.01, 'reg__l1_ratio': 0.3}\n",
              "3                4         0.709981   {'reg__alpha': 0.1, 'reg__l1_ratio': 0.1}\n",
              "4                5         0.697944   {'reg__alpha': 0.1, 'reg__l1_ratio': 0.2}"
            ]
          },
          "metadata": {
            "tags": []
          }
        }
      ]
    },
    {
      "cell_type": "markdown",
      "metadata": {
        "id": "9CGLUYwT44ao"
      },
      "source": [
        "###Elastic Net polinomiale"
      ]
    },
    {
      "cell_type": "code",
      "metadata": {
        "colab": {
          "base_uri": "https://localhost:8080/",
          "height": 1000
        },
        "id": "ALqk4uk8jWPZ",
        "outputId": "09379385-1b4d-47a2-9403-b4b6fa48fbdb"
      },
      "source": [
        "numeric_preproc = Pipeline([\n",
        "    (\"std\",StandardScaler()),\n",
        "    (\"poly\",PolynomialFeatures(include_bias=False))\n",
        "]);\n",
        "\n",
        "model = Pipeline([\n",
        "    (\"preproc\", ColumnTransformer([\n",
        "        (\"numeric\", numeric_preproc, numeric_features),\n",
        "        (\"categoric\", OneHotEncoder(handle_unknown=\"ignore\"), categoric_features)\n",
        "    ])),\n",
        "    (\"reg\" , ElasticNet())\n",
        "])\n",
        "grid = {\n",
        "    \"preproc__numeric__poly__degree\": [2, 3, 4],\n",
        "    \"reg__alpha\":[0.01,0.1,1,10],\n",
        "    \"reg__l1_ratio\": [0.1, 0.2, 0.3]\n",
        "}\n",
        "kf = KFold(3, shuffle=True, random_state=42)\n",
        "gs = GridSearchCV(model, grid, cv=kf, refit=True)\n",
        "gs.fit(X_train, y_train)\n",
        "print_eval_scaled(X_val,y_val,gs)\n",
        "print_param_eval(gs)"
      ],
      "execution_count": null,
      "outputs": [
        {
          "output_type": "stream",
          "text": [
            "/usr/local/lib/python3.7/dist-packages/sklearn/linear_model/_coordinate_descent.py:476: ConvergenceWarning: Objective did not converge. You might want to increase the number of iterations. Duality gap: 50.609922359521306, tolerance: 0.5486416389008448\n",
            "  positive)\n",
            "/usr/local/lib/python3.7/dist-packages/sklearn/linear_model/_coordinate_descent.py:476: ConvergenceWarning: Objective did not converge. You might want to increase the number of iterations. Duality gap: 4.955127471077162, tolerance: 0.5553808828451668\n",
            "  positive)\n",
            "/usr/local/lib/python3.7/dist-packages/sklearn/linear_model/_coordinate_descent.py:476: ConvergenceWarning: Objective did not converge. You might want to increase the number of iterations. Duality gap: 2.7071188631545056, tolerance: 0.5696096229296246\n",
            "  positive)\n",
            "/usr/local/lib/python3.7/dist-packages/sklearn/linear_model/_coordinate_descent.py:476: ConvergenceWarning: Objective did not converge. You might want to increase the number of iterations. Duality gap: 31.33496377453389, tolerance: 0.5486416389008448\n",
            "  positive)\n",
            "/usr/local/lib/python3.7/dist-packages/sklearn/linear_model/_coordinate_descent.py:476: ConvergenceWarning: Objective did not converge. You might want to increase the number of iterations. Duality gap: 0.768317955814382, tolerance: 0.5553808828451668\n",
            "  positive)\n",
            "/usr/local/lib/python3.7/dist-packages/sklearn/linear_model/_coordinate_descent.py:476: ConvergenceWarning: Objective did not converge. You might want to increase the number of iterations. Duality gap: 0.7359986460280652, tolerance: 0.5696096229296246\n",
            "  positive)\n",
            "/usr/local/lib/python3.7/dist-packages/sklearn/linear_model/_coordinate_descent.py:476: ConvergenceWarning: Objective did not converge. You might want to increase the number of iterations. Duality gap: 9.515528904105963, tolerance: 0.5486416389008448\n",
            "  positive)\n",
            "/usr/local/lib/python3.7/dist-packages/sklearn/linear_model/_coordinate_descent.py:476: ConvergenceWarning: Objective did not converge. You might want to increase the number of iterations. Duality gap: 356.44026103270465, tolerance: 0.5486416389008448\n",
            "  positive)\n",
            "/usr/local/lib/python3.7/dist-packages/sklearn/linear_model/_coordinate_descent.py:476: ConvergenceWarning: Objective did not converge. You might want to increase the number of iterations. Duality gap: 352.63294742734826, tolerance: 0.5553808828451668\n",
            "  positive)\n",
            "/usr/local/lib/python3.7/dist-packages/sklearn/linear_model/_coordinate_descent.py:476: ConvergenceWarning: Objective did not converge. You might want to increase the number of iterations. Duality gap: 359.2367712302351, tolerance: 0.5696096229296246\n",
            "  positive)\n",
            "/usr/local/lib/python3.7/dist-packages/sklearn/linear_model/_coordinate_descent.py:476: ConvergenceWarning: Objective did not converge. You might want to increase the number of iterations. Duality gap: 341.4389594814131, tolerance: 0.5486416389008448\n",
            "  positive)\n",
            "/usr/local/lib/python3.7/dist-packages/sklearn/linear_model/_coordinate_descent.py:476: ConvergenceWarning: Objective did not converge. You might want to increase the number of iterations. Duality gap: 334.57738823844005, tolerance: 0.5553808828451668\n",
            "  positive)\n",
            "/usr/local/lib/python3.7/dist-packages/sklearn/linear_model/_coordinate_descent.py:476: ConvergenceWarning: Objective did not converge. You might want to increase the number of iterations. Duality gap: 328.846541547294, tolerance: 0.5696096229296246\n",
            "  positive)\n",
            "/usr/local/lib/python3.7/dist-packages/sklearn/linear_model/_coordinate_descent.py:476: ConvergenceWarning: Objective did not converge. You might want to increase the number of iterations. Duality gap: 316.60846429041527, tolerance: 0.5486416389008448\n",
            "  positive)\n",
            "/usr/local/lib/python3.7/dist-packages/sklearn/linear_model/_coordinate_descent.py:476: ConvergenceWarning: Objective did not converge. You might want to increase the number of iterations. Duality gap: 274.1556223615586, tolerance: 0.5553808828451668\n",
            "  positive)\n",
            "/usr/local/lib/python3.7/dist-packages/sklearn/linear_model/_coordinate_descent.py:476: ConvergenceWarning: Objective did not converge. You might want to increase the number of iterations. Duality gap: 347.8822383863198, tolerance: 0.5696096229296246\n",
            "  positive)\n",
            "/usr/local/lib/python3.7/dist-packages/sklearn/linear_model/_coordinate_descent.py:476: ConvergenceWarning: Objective did not converge. You might want to increase the number of iterations. Duality gap: 290.9675857362279, tolerance: 0.5486416389008448\n",
            "  positive)\n",
            "/usr/local/lib/python3.7/dist-packages/sklearn/linear_model/_coordinate_descent.py:476: ConvergenceWarning: Objective did not converge. You might want to increase the number of iterations. Duality gap: 216.7826188687397, tolerance: 0.5553808828451668\n",
            "  positive)\n",
            "/usr/local/lib/python3.7/dist-packages/sklearn/linear_model/_coordinate_descent.py:476: ConvergenceWarning: Objective did not converge. You might want to increase the number of iterations. Duality gap: 303.92443863854504, tolerance: 0.5696096229296246\n",
            "  positive)\n",
            "/usr/local/lib/python3.7/dist-packages/sklearn/linear_model/_coordinate_descent.py:476: ConvergenceWarning: Objective did not converge. You might want to increase the number of iterations. Duality gap: 86.8853925194486, tolerance: 0.5486416389008448\n",
            "  positive)\n",
            "/usr/local/lib/python3.7/dist-packages/sklearn/linear_model/_coordinate_descent.py:476: ConvergenceWarning: Objective did not converge. You might want to increase the number of iterations. Duality gap: 164.31145131072083, tolerance: 0.5553808828451668\n",
            "  positive)\n",
            "/usr/local/lib/python3.7/dist-packages/sklearn/linear_model/_coordinate_descent.py:476: ConvergenceWarning: Objective did not converge. You might want to increase the number of iterations. Duality gap: 8.72336035022522, tolerance: 0.5696096229296246\n",
            "  positive)\n",
            "/usr/local/lib/python3.7/dist-packages/sklearn/linear_model/_coordinate_descent.py:476: ConvergenceWarning: Objective did not converge. You might want to increase the number of iterations. Duality gap: 45.31728292455534, tolerance: 0.5486416389008448\n",
            "  positive)\n",
            "/usr/local/lib/python3.7/dist-packages/sklearn/linear_model/_coordinate_descent.py:476: ConvergenceWarning: Objective did not converge. You might want to increase the number of iterations. Duality gap: 164.31671213699065, tolerance: 0.5553808828451668\n",
            "  positive)\n",
            "/usr/local/lib/python3.7/dist-packages/sklearn/linear_model/_coordinate_descent.py:476: ConvergenceWarning: Objective did not converge. You might want to increase the number of iterations. Duality gap: 5.028014141442782, tolerance: 0.5696096229296246\n",
            "  positive)\n",
            "/usr/local/lib/python3.7/dist-packages/sklearn/linear_model/_coordinate_descent.py:476: ConvergenceWarning: Objective did not converge. You might want to increase the number of iterations. Duality gap: 0.7805046185956144, tolerance: 0.5486416389008448\n",
            "  positive)\n",
            "/usr/local/lib/python3.7/dist-packages/sklearn/linear_model/_coordinate_descent.py:476: ConvergenceWarning: Objective did not converge. You might want to increase the number of iterations. Duality gap: 1.935686070150723, tolerance: 0.5553808828451668\n",
            "  positive)\n",
            "/usr/local/lib/python3.7/dist-packages/sklearn/linear_model/_coordinate_descent.py:476: ConvergenceWarning: Objective did not converge. You might want to increase the number of iterations. Duality gap: 1.323930924183287, tolerance: 0.5696096229296246\n",
            "  positive)\n",
            "/usr/local/lib/python3.7/dist-packages/sklearn/linear_model/_coordinate_descent.py:476: ConvergenceWarning: Objective did not converge. You might want to increase the number of iterations. Duality gap: 0.6064051732942062, tolerance: 0.5696096229296246\n",
            "  positive)\n"
          ],
          "name": "stderr"
        },
        {
          "output_type": "stream",
          "text": [
            "   Mean squared error: 2.3024e+07\n",
            "       Relative error: 11.76037%\n",
            "R-squared coefficient: 0.84866\n",
            "\n",
            "Dettagli parametri GridSearch:\n"
          ],
          "name": "stdout"
        },
        {
          "output_type": "stream",
          "text": [
            "/usr/local/lib/python3.7/dist-packages/sklearn/linear_model/_coordinate_descent.py:476: ConvergenceWarning: Objective did not converge. You might want to increase the number of iterations. Duality gap: 429.0641071094372, tolerance: 0.8368258700431763\n",
            "  positive)\n"
          ],
          "name": "stderr"
        },
        {
          "output_type": "display_data",
          "data": {
            "text/html": [
              "<div>\n",
              "<style scoped>\n",
              "    .dataframe tbody tr th:only-of-type {\n",
              "        vertical-align: middle;\n",
              "    }\n",
              "\n",
              "    .dataframe tbody tr th {\n",
              "        vertical-align: top;\n",
              "    }\n",
              "\n",
              "    .dataframe thead th {\n",
              "        text-align: right;\n",
              "    }\n",
              "</style>\n",
              "<table border=\"1\" class=\"dataframe\">\n",
              "  <thead>\n",
              "    <tr style=\"text-align: right;\">\n",
              "      <th></th>\n",
              "      <th>rank_test_score</th>\n",
              "      <th>mean_test_score</th>\n",
              "      <th>params</th>\n",
              "    </tr>\n",
              "  </thead>\n",
              "  <tbody>\n",
              "    <tr>\n",
              "      <th>25</th>\n",
              "      <td>1</td>\n",
              "      <td>0.839297</td>\n",
              "      <td>{'preproc__numeric__poly__degree': 4, 'reg__alpha': 0.01, 'reg__l1_ratio': 0.2}</td>\n",
              "    </tr>\n",
              "    <tr>\n",
              "      <th>26</th>\n",
              "      <td>2</td>\n",
              "      <td>0.838563</td>\n",
              "      <td>{'preproc__numeric__poly__degree': 4, 'reg__alpha': 0.01, 'reg__l1_ratio': 0.3}</td>\n",
              "    </tr>\n",
              "    <tr>\n",
              "      <th>24</th>\n",
              "      <td>3</td>\n",
              "      <td>0.837798</td>\n",
              "      <td>{'preproc__numeric__poly__degree': 4, 'reg__alpha': 0.01, 'reg__l1_ratio': 0.1}</td>\n",
              "    </tr>\n",
              "    <tr>\n",
              "      <th>13</th>\n",
              "      <td>4</td>\n",
              "      <td>0.836987</td>\n",
              "      <td>{'preproc__numeric__poly__degree': 3, 'reg__alpha': 0.01, 'reg__l1_ratio': 0.2}</td>\n",
              "    </tr>\n",
              "    <tr>\n",
              "      <th>14</th>\n",
              "      <td>5</td>\n",
              "      <td>0.836540</td>\n",
              "      <td>{'preproc__numeric__poly__degree': 3, 'reg__alpha': 0.01, 'reg__l1_ratio': 0.3}</td>\n",
              "    </tr>\n",
              "  </tbody>\n",
              "</table>\n",
              "</div>"
            ],
            "text/plain": [
              "    rank_test_score  ...                                                                           params\n",
              "25                1  ...  {'preproc__numeric__poly__degree': 4, 'reg__alpha': 0.01, 'reg__l1_ratio': 0.2}\n",
              "26                2  ...  {'preproc__numeric__poly__degree': 4, 'reg__alpha': 0.01, 'reg__l1_ratio': 0.3}\n",
              "24                3  ...  {'preproc__numeric__poly__degree': 4, 'reg__alpha': 0.01, 'reg__l1_ratio': 0.1}\n",
              "13                4  ...  {'preproc__numeric__poly__degree': 3, 'reg__alpha': 0.01, 'reg__l1_ratio': 0.2}\n",
              "14                5  ...  {'preproc__numeric__poly__degree': 3, 'reg__alpha': 0.01, 'reg__l1_ratio': 0.3}\n",
              "\n",
              "[5 rows x 3 columns]"
            ]
          },
          "metadata": {
            "tags": []
          }
        }
      ]
    },
    {
      "cell_type": "markdown",
      "metadata": {
        "id": "gSMnxwWLGQuM"
      },
      "source": [
        "###Elastic Net polinomiale (includendo feature categoriche polinomiali)"
      ]
    },
    {
      "cell_type": "code",
      "metadata": {
        "colab": {
          "base_uri": "https://localhost:8080/",
          "height": 289
        },
        "id": "G8CJXzseBgVu",
        "outputId": "d6d9169e-d7a5-43d9-c851-5b6b7fa40ef0"
      },
      "source": [
        "model = Pipeline([\n",
        "    (\"preproc\", ColumnTransformer([\n",
        "        (\"numeric\", StandardScaler(), numeric_features),\n",
        "        (\"categoric\", OneHotEncoder(handle_unknown=\"ignore\"), categoric_features)\n",
        "    ])),\n",
        "    (\"poly\",PolynomialFeatures(include_bias=False)),\n",
        "    (\"reg\" , ElasticNet())\n",
        "])\n",
        "grid = {\n",
        "    \"reg__alpha\":[0.01,0.1,1,10],\n",
        "    \"reg__l1_ratio\": [0.1, 0.2, 0.3]\n",
        "}\n",
        "kf = KFold(3, shuffle=True, random_state=42)\n",
        "gs = GridSearchCV(model, grid, cv=kf, refit=True)\n",
        "gs.fit(X_train, y_train)\n",
        "print_eval_scaled(X_val,y_val,gs)\n",
        "print_param_eval(gs)"
      ],
      "execution_count": null,
      "outputs": [
        {
          "output_type": "stream",
          "text": [
            "   Mean squared error: 1.7137e+07\n",
            "       Relative error: 10.23014%\n",
            "R-squared coefficient: 0.88735\n",
            "\n",
            "Dettagli parametri GridSearch:\n"
          ],
          "name": "stdout"
        },
        {
          "output_type": "display_data",
          "data": {
            "text/html": [
              "<div>\n",
              "<style scoped>\n",
              "    .dataframe tbody tr th:only-of-type {\n",
              "        vertical-align: middle;\n",
              "    }\n",
              "\n",
              "    .dataframe tbody tr th {\n",
              "        vertical-align: top;\n",
              "    }\n",
              "\n",
              "    .dataframe thead th {\n",
              "        text-align: right;\n",
              "    }\n",
              "</style>\n",
              "<table border=\"1\" class=\"dataframe\">\n",
              "  <thead>\n",
              "    <tr style=\"text-align: right;\">\n",
              "      <th></th>\n",
              "      <th>rank_test_score</th>\n",
              "      <th>mean_test_score</th>\n",
              "      <th>params</th>\n",
              "    </tr>\n",
              "  </thead>\n",
              "  <tbody>\n",
              "    <tr>\n",
              "      <th>0</th>\n",
              "      <td>1</td>\n",
              "      <td>0.880275</td>\n",
              "      <td>{'reg__alpha': 0.01, 'reg__l1_ratio': 0.1}</td>\n",
              "    </tr>\n",
              "    <tr>\n",
              "      <th>1</th>\n",
              "      <td>2</td>\n",
              "      <td>0.873757</td>\n",
              "      <td>{'reg__alpha': 0.01, 'reg__l1_ratio': 0.2}</td>\n",
              "    </tr>\n",
              "    <tr>\n",
              "      <th>2</th>\n",
              "      <td>3</td>\n",
              "      <td>0.867150</td>\n",
              "      <td>{'reg__alpha': 0.01, 'reg__l1_ratio': 0.3}</td>\n",
              "    </tr>\n",
              "    <tr>\n",
              "      <th>3</th>\n",
              "      <td>4</td>\n",
              "      <td>0.814014</td>\n",
              "      <td>{'reg__alpha': 0.1, 'reg__l1_ratio': 0.1}</td>\n",
              "    </tr>\n",
              "    <tr>\n",
              "      <th>4</th>\n",
              "      <td>5</td>\n",
              "      <td>0.795209</td>\n",
              "      <td>{'reg__alpha': 0.1, 'reg__l1_ratio': 0.2}</td>\n",
              "    </tr>\n",
              "  </tbody>\n",
              "</table>\n",
              "</div>"
            ],
            "text/plain": [
              "   rank_test_score  mean_test_score                                      params\n",
              "0                1         0.880275  {'reg__alpha': 0.01, 'reg__l1_ratio': 0.1}\n",
              "1                2         0.873757  {'reg__alpha': 0.01, 'reg__l1_ratio': 0.2}\n",
              "2                3         0.867150  {'reg__alpha': 0.01, 'reg__l1_ratio': 0.3}\n",
              "3                4         0.814014   {'reg__alpha': 0.1, 'reg__l1_ratio': 0.1}\n",
              "4                5         0.795209   {'reg__alpha': 0.1, 'reg__l1_ratio': 0.2}"
            ]
          },
          "metadata": {
            "tags": []
          }
        }
      ]
    },
    {
      "cell_type": "markdown",
      "metadata": {
        "id": "60qJJxybxjPd"
      },
      "source": [
        "###Kernel Ridge\n",
        "\n",
        "In questa modellazione verranno valutate due funzioni kernel:\n",
        "\n",
        "*   Kernel Polinomiale\n",
        "*   Radial Basis Function\n",
        "\n",
        "In base alla funzione kernel verranno verificati gli iperparametri alpha (poly) e gamma (rbf).\n"
      ]
    },
    {
      "cell_type": "code",
      "metadata": {
        "colab": {
          "base_uri": "https://localhost:8080/",
          "height": 289
        },
        "id": "bHknYyjLxnXh",
        "outputId": "884abbe7-fa2e-49a6-ca63-93efecbc31e3"
      },
      "source": [
        "model = Pipeline([\n",
        "    (\"preproc\", ColumnTransformer([\n",
        "        (\"numeric\", StandardScaler(), numeric_features),\n",
        "        (\"categoric\", OneHotEncoder(handle_unknown=\"ignore\"), categoric_features)\n",
        "    ])),\n",
        "    (\"reg\" , KernelRidge(kernel=\"poly\"))\n",
        "])\n",
        "grid = [\n",
        "    {\n",
        "      \"reg__degree\":[2,3,4],\n",
        "      \"reg__alpha\":[0.01,0.1,1,10]\n",
        "    }\n",
        "]\n",
        "kf = KFold(3, shuffle=True, random_state=42)\n",
        "gs = GridSearchCV(model, grid, cv=kf, refit=True)\n",
        "gs.fit(X_train, y_train)\n",
        "print_eval_scaled(X_val,y_val,gs)\n",
        "print_param_eval(gs)"
      ],
      "execution_count": null,
      "outputs": [
        {
          "output_type": "stream",
          "text": [
            "   Mean squared error: 1.3041e+07\n",
            "       Relative error: 8.90446%\n",
            "R-squared coefficient: 0.91428\n",
            "\n",
            "Dettagli parametri GridSearch:\n"
          ],
          "name": "stdout"
        },
        {
          "output_type": "display_data",
          "data": {
            "text/html": [
              "<div>\n",
              "<style scoped>\n",
              "    .dataframe tbody tr th:only-of-type {\n",
              "        vertical-align: middle;\n",
              "    }\n",
              "\n",
              "    .dataframe tbody tr th {\n",
              "        vertical-align: top;\n",
              "    }\n",
              "\n",
              "    .dataframe thead th {\n",
              "        text-align: right;\n",
              "    }\n",
              "</style>\n",
              "<table border=\"1\" class=\"dataframe\">\n",
              "  <thead>\n",
              "    <tr style=\"text-align: right;\">\n",
              "      <th></th>\n",
              "      <th>rank_test_score</th>\n",
              "      <th>mean_test_score</th>\n",
              "      <th>params</th>\n",
              "    </tr>\n",
              "  </thead>\n",
              "  <tbody>\n",
              "    <tr>\n",
              "      <th>5</th>\n",
              "      <td>1</td>\n",
              "      <td>0.912347</td>\n",
              "      <td>{'reg__alpha': 0.1, 'reg__degree': 4}</td>\n",
              "    </tr>\n",
              "    <tr>\n",
              "      <th>4</th>\n",
              "      <td>2</td>\n",
              "      <td>0.906572</td>\n",
              "      <td>{'reg__alpha': 0.1, 'reg__degree': 3}</td>\n",
              "    </tr>\n",
              "    <tr>\n",
              "      <th>8</th>\n",
              "      <td>3</td>\n",
              "      <td>0.902997</td>\n",
              "      <td>{'reg__alpha': 1, 'reg__degree': 4}</td>\n",
              "    </tr>\n",
              "    <tr>\n",
              "      <th>0</th>\n",
              "      <td>4</td>\n",
              "      <td>0.894397</td>\n",
              "      <td>{'reg__alpha': 0.01, 'reg__degree': 2}</td>\n",
              "    </tr>\n",
              "    <tr>\n",
              "      <th>3</th>\n",
              "      <td>5</td>\n",
              "      <td>0.892275</td>\n",
              "      <td>{'reg__alpha': 0.1, 'reg__degree': 2}</td>\n",
              "    </tr>\n",
              "  </tbody>\n",
              "</table>\n",
              "</div>"
            ],
            "text/plain": [
              "   rank_test_score  mean_test_score                                  params\n",
              "5                1         0.912347   {'reg__alpha': 0.1, 'reg__degree': 4}\n",
              "4                2         0.906572   {'reg__alpha': 0.1, 'reg__degree': 3}\n",
              "8                3         0.902997     {'reg__alpha': 1, 'reg__degree': 4}\n",
              "0                4         0.894397  {'reg__alpha': 0.01, 'reg__degree': 2}\n",
              "3                5         0.892275   {'reg__alpha': 0.1, 'reg__degree': 2}"
            ]
          },
          "metadata": {
            "tags": []
          }
        }
      ]
    },
    {
      "cell_type": "markdown",
      "metadata": {
        "id": "vFMZ-pGn2bnw"
      },
      "source": [
        "La creazione del modello kernel ridge ha richiesto un tempo considerevolmente più alto rispetto agli altri modelli. Questo è dovuto all'elevato numero di istanze di training e validazione, in quanto la complessità del calcolo di un modello mediante funzioni kernel risulta essere il quadrato delle istanze.\n",
        "Il risultato però è un modello molto accurato, che ottiene uno score di 0.91.\n",
        "\n",
        "Testiamo di nuovo la Kernel Ridge Regression, ma questa volta proviamo ad utilizzare un kernel di tipo RBF."
      ]
    },
    {
      "cell_type": "code",
      "metadata": {
        "colab": {
          "base_uri": "https://localhost:8080/",
          "height": 258
        },
        "id": "MNH7Jhk03fwG",
        "outputId": "b640c1fb-db51-4953-b901-4aec264328aa"
      },
      "source": [
        "model = Pipeline([\n",
        "    (\"preproc\", ColumnTransformer([\n",
        "        (\"numeric\", StandardScaler(), numeric_features),\n",
        "        (\"categoric\", OneHotEncoder(handle_unknown=\"ignore\"), categoric_features)\n",
        "    ])),\n",
        "    (\"reg\" , KernelRidge(kernel=\"rbf\"))\n",
        "])\n",
        "grid = {\n",
        "      \"reg__gamma\":[0.01,0.1,1,10],\n",
        "}\n",
        "kf = KFold(3, shuffle=True, random_state=42)\n",
        "gs = GridSearchCV(model, grid, cv=kf, refit=True)\n",
        "gs.fit(X_train, y_train)\n",
        "print_eval_scaled(X_val,y_val,gs)\n",
        "print_param_eval(gs)"
      ],
      "execution_count": null,
      "outputs": [
        {
          "output_type": "stream",
          "text": [
            "   Mean squared error: 1.1545e+07\n",
            "       Relative error: 8.64967%\n",
            "R-squared coefficient: 0.92411\n",
            "\n",
            "Dettagli parametri GridSearch:\n"
          ],
          "name": "stdout"
        },
        {
          "output_type": "display_data",
          "data": {
            "text/html": [
              "<div>\n",
              "<style scoped>\n",
              "    .dataframe tbody tr th:only-of-type {\n",
              "        vertical-align: middle;\n",
              "    }\n",
              "\n",
              "    .dataframe tbody tr th {\n",
              "        vertical-align: top;\n",
              "    }\n",
              "\n",
              "    .dataframe thead th {\n",
              "        text-align: right;\n",
              "    }\n",
              "</style>\n",
              "<table border=\"1\" class=\"dataframe\">\n",
              "  <thead>\n",
              "    <tr style=\"text-align: right;\">\n",
              "      <th></th>\n",
              "      <th>rank_test_score</th>\n",
              "      <th>mean_test_score</th>\n",
              "      <th>params</th>\n",
              "    </tr>\n",
              "  </thead>\n",
              "  <tbody>\n",
              "    <tr>\n",
              "      <th>1</th>\n",
              "      <td>1</td>\n",
              "      <td>0.903889</td>\n",
              "      <td>{'reg__gamma': 0.1}</td>\n",
              "    </tr>\n",
              "    <tr>\n",
              "      <th>0</th>\n",
              "      <td>2</td>\n",
              "      <td>0.840827</td>\n",
              "      <td>{'reg__gamma': 0.01}</td>\n",
              "    </tr>\n",
              "    <tr>\n",
              "      <th>2</th>\n",
              "      <td>3</td>\n",
              "      <td>0.832079</td>\n",
              "      <td>{'reg__gamma': 1}</td>\n",
              "    </tr>\n",
              "    <tr>\n",
              "      <th>3</th>\n",
              "      <td>4</td>\n",
              "      <td>0.613597</td>\n",
              "      <td>{'reg__gamma': 10}</td>\n",
              "    </tr>\n",
              "  </tbody>\n",
              "</table>\n",
              "</div>"
            ],
            "text/plain": [
              "   rank_test_score  mean_test_score                params\n",
              "1                1         0.903889   {'reg__gamma': 0.1}\n",
              "0                2         0.840827  {'reg__gamma': 0.01}\n",
              "2                3         0.832079     {'reg__gamma': 1}\n",
              "3                4         0.613597    {'reg__gamma': 10}"
            ]
          },
          "metadata": {
            "tags": []
          }
        }
      ]
    },
    {
      "cell_type": "markdown",
      "metadata": {
        "id": "ZPD-7K62AV_J"
      },
      "source": [
        "Confrontando il modello che utilizza RBF con quello che fa uso di kernel polinomiale, notiamo che il primo risulta essere leggermente più accurato. "
      ]
    },
    {
      "cell_type": "markdown",
      "metadata": {
        "id": "kqWjYpjnlooG"
      },
      "source": [
        "###Decision Tree Regressor\n",
        "\n",
        "Come ultimo, testiamo un modello Decision Tree Regressor"
      ]
    },
    {
      "cell_type": "code",
      "metadata": {
        "colab": {
          "base_uri": "https://localhost:8080/",
          "height": 289
        },
        "id": "fB51BfpHlVkw",
        "outputId": "4229d316-fba2-4701-cf1f-6f14093756bb"
      },
      "source": [
        "model = Pipeline([\n",
        "    (\"preproc\", ColumnTransformer([\n",
        "        (\"numeric\", StandardScaler(), numeric_features),\n",
        "        (\"categoric\", OneHotEncoder(handle_unknown=\"ignore\"), categoric_features)\n",
        "    ])),\n",
        "    (\"reg\" , DecisionTreeRegressor())\n",
        "])\n",
        "grid = {\n",
        "    \"reg__max_depth\": [3, 5, 10, None],\n",
        "    \"reg__min_samples_split\": [2, 0.02, 0.05, 0.1]\n",
        "}\n",
        "\n",
        "kf = KFold(3, shuffle=True, random_state=42)\n",
        "gs = GridSearchCV(model, grid, cv=kf, refit=True)\n",
        "gs.fit(X_train, y_train)\n",
        "print_eval_scaled(X_val,y_val,gs)\n",
        "print_param_eval(gs)"
      ],
      "execution_count": null,
      "outputs": [
        {
          "output_type": "stream",
          "text": [
            "   Mean squared error: 1.3097e+07\n",
            "       Relative error: 8.64541%\n",
            "R-squared coefficient: 0.91391\n",
            "\n",
            "Dettagli parametri GridSearch:\n"
          ],
          "name": "stdout"
        },
        {
          "output_type": "display_data",
          "data": {
            "text/html": [
              "<div>\n",
              "<style scoped>\n",
              "    .dataframe tbody tr th:only-of-type {\n",
              "        vertical-align: middle;\n",
              "    }\n",
              "\n",
              "    .dataframe tbody tr th {\n",
              "        vertical-align: top;\n",
              "    }\n",
              "\n",
              "    .dataframe thead th {\n",
              "        text-align: right;\n",
              "    }\n",
              "</style>\n",
              "<table border=\"1\" class=\"dataframe\">\n",
              "  <thead>\n",
              "    <tr style=\"text-align: right;\">\n",
              "      <th></th>\n",
              "      <th>rank_test_score</th>\n",
              "      <th>mean_test_score</th>\n",
              "      <th>params</th>\n",
              "    </tr>\n",
              "  </thead>\n",
              "  <tbody>\n",
              "    <tr>\n",
              "      <th>12</th>\n",
              "      <td>1</td>\n",
              "      <td>0.874773</td>\n",
              "      <td>{'reg__max_depth': None, 'reg__min_samples_split': 2}</td>\n",
              "    </tr>\n",
              "    <tr>\n",
              "      <th>8</th>\n",
              "      <td>2</td>\n",
              "      <td>0.870725</td>\n",
              "      <td>{'reg__max_depth': 10, 'reg__min_samples_split': 2}</td>\n",
              "    </tr>\n",
              "    <tr>\n",
              "      <th>13</th>\n",
              "      <td>3</td>\n",
              "      <td>0.830026</td>\n",
              "      <td>{'reg__max_depth': None, 'reg__min_samples_split': 0.02}</td>\n",
              "    </tr>\n",
              "    <tr>\n",
              "      <th>9</th>\n",
              "      <td>4</td>\n",
              "      <td>0.827448</td>\n",
              "      <td>{'reg__max_depth': 10, 'reg__min_samples_split': 0.02}</td>\n",
              "    </tr>\n",
              "    <tr>\n",
              "      <th>14</th>\n",
              "      <td>5</td>\n",
              "      <td>0.797481</td>\n",
              "      <td>{'reg__max_depth': None, 'reg__min_samples_split': 0.05}</td>\n",
              "    </tr>\n",
              "  </tbody>\n",
              "</table>\n",
              "</div>"
            ],
            "text/plain": [
              "    rank_test_score  ...                                                    params\n",
              "12                1  ...     {'reg__max_depth': None, 'reg__min_samples_split': 2}\n",
              "8                 2  ...       {'reg__max_depth': 10, 'reg__min_samples_split': 2}\n",
              "13                3  ...  {'reg__max_depth': None, 'reg__min_samples_split': 0.02}\n",
              "9                 4  ...    {'reg__max_depth': 10, 'reg__min_samples_split': 0.02}\n",
              "14                5  ...  {'reg__max_depth': None, 'reg__min_samples_split': 0.05}\n",
              "\n",
              "[5 rows x 3 columns]"
            ]
          },
          "metadata": {
            "tags": []
          }
        }
      ]
    },
    {
      "cell_type": "code",
      "metadata": {
        "colab": {
          "base_uri": "https://localhost:8080/"
        },
        "id": "5wmwBOKbHAp0",
        "outputId": "eec755eb-4267-45fe-e5a8-75311163aa72"
      },
      "source": [
        "gs.best_estimator_[1].feature_importances_"
      ],
      "execution_count": null,
      "outputs": [
        {
          "output_type": "execute_result",
          "data": {
            "text/plain": [
              "array([3.36617635e-01, 2.70410652e-02, 1.40314382e-01, 3.16144973e-01,\n",
              "       7.80257698e-02, 2.67190194e-02, 3.94253706e-03, 4.11588219e-03,\n",
              "       9.71001140e-04, 2.12851104e-04, 9.65444279e-08, 0.00000000e+00,\n",
              "       1.34458359e-03, 2.95583763e-03, 2.09749627e-03, 6.86784096e-04,\n",
              "       6.40987136e-04, 1.91848474e-07, 1.07808730e-02, 1.51280873e-02,\n",
              "       3.01080587e-03, 4.55652888e-05, 0.00000000e+00, 1.45281870e-02,\n",
              "       5.99802556e-04, 6.49519410e-05, 3.41469206e-03, 4.46640699e-06,\n",
              "       0.00000000e+00, 0.00000000e+00, 0.00000000e+00, 2.12003079e-03,\n",
              "       4.45449630e-03, 1.29534930e-03, 8.56867065e-04, 1.37624096e-04,\n",
              "       1.72710884e-03])"
            ]
          },
          "metadata": {
            "tags": []
          },
          "execution_count": 116
        }
      ]
    }
  ]
}