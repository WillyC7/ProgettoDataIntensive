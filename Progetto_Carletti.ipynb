{
  "nbformat": 4,
  "nbformat_minor": 0,
  "metadata": {
    "colab": {
      "name": "Progetto_Carletti.ipynb",
      "provenance": [],
      "collapsed_sections": [],
      "toc_visible": true,
      "authorship_tag": "ABX9TyMX+JyL7ffFKCDbHo6CBUQe",
      "include_colab_link": true
    },
    "kernelspec": {
      "name": "python3",
      "display_name": "Python 3"
    },
    "language_info": {
      "name": "python"
    }
  },
  "cells": [
    {
      "cell_type": "markdown",
      "metadata": {
        "id": "view-in-github",
        "colab_type": "text"
      },
      "source": [
        "<a href=\"https://colab.research.google.com/github/WillyC7/ProgettoDataIntensive/blob/main/Progetto_Carletti.ipynb\" target=\"_parent\"><img src=\"https://colab.research.google.com/assets/colab-badge.svg\" alt=\"Open In Colab\"/></a>"
      ]
    },
    {
      "cell_type": "markdown",
      "metadata": {
        "id": "C3jN-1mu8LI1"
      },
      "source": [
        "# Determinare il prezzo di un automobile usata\n",
        "\n",
        "**Progetto finale Programmazione di Applicazioni Data Intensive**\n",
        "\n",
        "Creato da: Carletti William\n"
      ]
    },
    {
      "cell_type": "markdown",
      "metadata": {
        "id": "ZojUrWmr8oKC"
      },
      "source": [
        "## Parte 1a - Descrizione del problema\n",
        "\n",
        "Lo scopo di questo progetto è quello di creare un modello capace di predire il prezzo di vendita di un'automobile usata in base ai dati relativi alle auto attualmente presenti sul mercato.\n",
        "Il progetto considererà solo le auto usate di uno specifico brand (Mercedes), presenti nel mercato inglese."
      ]
    },
    {
      "cell_type": "markdown",
      "metadata": {
        "id": "oXQvHh38_At4"
      },
      "source": [
        "###Caricamento dei dati:"
      ]
    },
    {
      "cell_type": "code",
      "metadata": {
        "id": "lgpX7gSfztTO"
      },
      "source": [
        "import numpy as np\n",
        "import pandas as pd\n",
        "import matplotlib.pyplot as plt\n",
        "import sklearn\n",
        "%matplotlib inline"
      ],
      "execution_count": 1,
      "outputs": []
    },
    {
      "cell_type": "code",
      "metadata": {
        "colab": {
          "base_uri": "https://localhost:8080/",
          "height": 419
        },
        "id": "9I9anqjL0csi",
        "outputId": "6848b87f-86f1-4633-ef89-bcf95a849bf6"
      },
      "source": [
        "data = pd.read_csv(\"merc.csv\",)\n",
        "data[\"price\"] = data[\"price\"].astype(\"float64\")\n",
        "data"
      ],
      "execution_count": 2,
      "outputs": [
        {
          "output_type": "execute_result",
          "data": {
            "text/html": [
              "<div>\n",
              "<style scoped>\n",
              "    .dataframe tbody tr th:only-of-type {\n",
              "        vertical-align: middle;\n",
              "    }\n",
              "\n",
              "    .dataframe tbody tr th {\n",
              "        vertical-align: top;\n",
              "    }\n",
              "\n",
              "    .dataframe thead th {\n",
              "        text-align: right;\n",
              "    }\n",
              "</style>\n",
              "<table border=\"1\" class=\"dataframe\">\n",
              "  <thead>\n",
              "    <tr style=\"text-align: right;\">\n",
              "      <th></th>\n",
              "      <th>model</th>\n",
              "      <th>year</th>\n",
              "      <th>price</th>\n",
              "      <th>transmission</th>\n",
              "      <th>mileage</th>\n",
              "      <th>fuelType</th>\n",
              "      <th>tax</th>\n",
              "      <th>mpg</th>\n",
              "      <th>engineSize</th>\n",
              "    </tr>\n",
              "  </thead>\n",
              "  <tbody>\n",
              "    <tr>\n",
              "      <th>0</th>\n",
              "      <td>SLK</td>\n",
              "      <td>2005</td>\n",
              "      <td>5200.0</td>\n",
              "      <td>Automatic</td>\n",
              "      <td>63000</td>\n",
              "      <td>Petrol</td>\n",
              "      <td>325</td>\n",
              "      <td>32.1</td>\n",
              "      <td>1.8</td>\n",
              "    </tr>\n",
              "    <tr>\n",
              "      <th>1</th>\n",
              "      <td>S Class</td>\n",
              "      <td>2017</td>\n",
              "      <td>34948.0</td>\n",
              "      <td>Automatic</td>\n",
              "      <td>27000</td>\n",
              "      <td>Hybrid</td>\n",
              "      <td>20</td>\n",
              "      <td>61.4</td>\n",
              "      <td>2.1</td>\n",
              "    </tr>\n",
              "    <tr>\n",
              "      <th>2</th>\n",
              "      <td>SL CLASS</td>\n",
              "      <td>2016</td>\n",
              "      <td>49948.0</td>\n",
              "      <td>Automatic</td>\n",
              "      <td>6200</td>\n",
              "      <td>Petrol</td>\n",
              "      <td>555</td>\n",
              "      <td>28.0</td>\n",
              "      <td>5.5</td>\n",
              "    </tr>\n",
              "    <tr>\n",
              "      <th>3</th>\n",
              "      <td>G Class</td>\n",
              "      <td>2016</td>\n",
              "      <td>61948.0</td>\n",
              "      <td>Automatic</td>\n",
              "      <td>16000</td>\n",
              "      <td>Petrol</td>\n",
              "      <td>325</td>\n",
              "      <td>30.4</td>\n",
              "      <td>4.0</td>\n",
              "    </tr>\n",
              "    <tr>\n",
              "      <th>4</th>\n",
              "      <td>G Class</td>\n",
              "      <td>2016</td>\n",
              "      <td>73948.0</td>\n",
              "      <td>Automatic</td>\n",
              "      <td>4000</td>\n",
              "      <td>Petrol</td>\n",
              "      <td>325</td>\n",
              "      <td>30.1</td>\n",
              "      <td>4.0</td>\n",
              "    </tr>\n",
              "    <tr>\n",
              "      <th>...</th>\n",
              "      <td>...</td>\n",
              "      <td>...</td>\n",
              "      <td>...</td>\n",
              "      <td>...</td>\n",
              "      <td>...</td>\n",
              "      <td>...</td>\n",
              "      <td>...</td>\n",
              "      <td>...</td>\n",
              "      <td>...</td>\n",
              "    </tr>\n",
              "    <tr>\n",
              "      <th>13114</th>\n",
              "      <td>C Class</td>\n",
              "      <td>2020</td>\n",
              "      <td>35999.0</td>\n",
              "      <td>Automatic</td>\n",
              "      <td>500</td>\n",
              "      <td>Diesel</td>\n",
              "      <td>145</td>\n",
              "      <td>55.4</td>\n",
              "      <td>2.0</td>\n",
              "    </tr>\n",
              "    <tr>\n",
              "      <th>13115</th>\n",
              "      <td>B Class</td>\n",
              "      <td>2020</td>\n",
              "      <td>24699.0</td>\n",
              "      <td>Automatic</td>\n",
              "      <td>2500</td>\n",
              "      <td>Diesel</td>\n",
              "      <td>145</td>\n",
              "      <td>55.4</td>\n",
              "      <td>2.0</td>\n",
              "    </tr>\n",
              "    <tr>\n",
              "      <th>13116</th>\n",
              "      <td>GLC Class</td>\n",
              "      <td>2019</td>\n",
              "      <td>30999.0</td>\n",
              "      <td>Automatic</td>\n",
              "      <td>11612</td>\n",
              "      <td>Diesel</td>\n",
              "      <td>145</td>\n",
              "      <td>41.5</td>\n",
              "      <td>2.1</td>\n",
              "    </tr>\n",
              "    <tr>\n",
              "      <th>13117</th>\n",
              "      <td>CLS Class</td>\n",
              "      <td>2019</td>\n",
              "      <td>37990.0</td>\n",
              "      <td>Automatic</td>\n",
              "      <td>2426</td>\n",
              "      <td>Diesel</td>\n",
              "      <td>145</td>\n",
              "      <td>45.6</td>\n",
              "      <td>2.0</td>\n",
              "    </tr>\n",
              "    <tr>\n",
              "      <th>13118</th>\n",
              "      <td>S Class</td>\n",
              "      <td>2019</td>\n",
              "      <td>54999.0</td>\n",
              "      <td>Automatic</td>\n",
              "      <td>2075</td>\n",
              "      <td>Diesel</td>\n",
              "      <td>145</td>\n",
              "      <td>52.3</td>\n",
              "      <td>2.9</td>\n",
              "    </tr>\n",
              "  </tbody>\n",
              "</table>\n",
              "<p>13119 rows × 9 columns</p>\n",
              "</div>"
            ],
            "text/plain": [
              "            model  year    price transmission  ...  fuelType  tax   mpg  engineSize\n",
              "0             SLK  2005   5200.0    Automatic  ...    Petrol  325  32.1         1.8\n",
              "1         S Class  2017  34948.0    Automatic  ...    Hybrid   20  61.4         2.1\n",
              "2        SL CLASS  2016  49948.0    Automatic  ...    Petrol  555  28.0         5.5\n",
              "3         G Class  2016  61948.0    Automatic  ...    Petrol  325  30.4         4.0\n",
              "4         G Class  2016  73948.0    Automatic  ...    Petrol  325  30.1         4.0\n",
              "...           ...   ...      ...          ...  ...       ...  ...   ...         ...\n",
              "13114     C Class  2020  35999.0    Automatic  ...    Diesel  145  55.4         2.0\n",
              "13115     B Class  2020  24699.0    Automatic  ...    Diesel  145  55.4         2.0\n",
              "13116   GLC Class  2019  30999.0    Automatic  ...    Diesel  145  41.5         2.1\n",
              "13117   CLS Class  2019  37990.0    Automatic  ...    Diesel  145  45.6         2.0\n",
              "13118     S Class  2019  54999.0    Automatic  ...    Diesel  145  52.3         2.9\n",
              "\n",
              "[13119 rows x 9 columns]"
            ]
          },
          "metadata": {
            "tags": []
          },
          "execution_count": 2
        }
      ]
    },
    {
      "cell_type": "markdown",
      "metadata": {
        "id": "CxiKgweR7J6Q"
      },
      "source": [
        "Il numero totale di record si attesta a 13119, con 9 feature.\n",
        "Di seguito trovamo l'occupazione di memoria del dataset grezzo."
      ]
    },
    {
      "cell_type": "code",
      "metadata": {
        "colab": {
          "base_uri": "https://localhost:8080/"
        },
        "id": "lIsQxXCX7ozK",
        "outputId": "cb237ec1-c6f4-42ad-eeb4-8c98d2ce2a5c"
      },
      "source": [
        "data.info()"
      ],
      "execution_count": 3,
      "outputs": [
        {
          "output_type": "stream",
          "text": [
            "<class 'pandas.core.frame.DataFrame'>\n",
            "RangeIndex: 13119 entries, 0 to 13118\n",
            "Data columns (total 9 columns):\n",
            " #   Column        Non-Null Count  Dtype  \n",
            "---  ------        --------------  -----  \n",
            " 0   model         13119 non-null  object \n",
            " 1   year          13119 non-null  int64  \n",
            " 2   price         13119 non-null  float64\n",
            " 3   transmission  13119 non-null  object \n",
            " 4   mileage       13119 non-null  int64  \n",
            " 5   fuelType      13119 non-null  object \n",
            " 6   tax           13119 non-null  int64  \n",
            " 7   mpg           13119 non-null  float64\n",
            " 8   engineSize    13119 non-null  float64\n",
            "dtypes: float64(3), int64(3), object(3)\n",
            "memory usage: 922.6+ KB\n"
          ],
          "name": "stdout"
        }
      ]
    },
    {
      "cell_type": "markdown",
      "metadata": {
        "id": "iqUSnDNNAPDE"
      },
      "source": [
        "###Significato dei dati:"
      ]
    },
    {
      "cell_type": "markdown",
      "metadata": {
        "id": "fpkGXkXYAZsm"
      },
      "source": [
        "Le feature del dataset sono le seguenti:\n",
        "\n",
        "\n",
        "#### Dati categorici\n",
        "*   model : il modello di auto;\n",
        "*   transmission: il tipo di trasmissione;\n",
        "*   fuelType: il carburante utilizzato.\n",
        "\n",
        "#### Dati numerici\n",
        "*   year: anno di immatricolazione del mezzo;\n",
        "*   mileage: le miglia totali percorse;\n",
        "*   tax: tassa annuale (in sterline);\n",
        "*   mpg: miglia percorse con un gallone di carburante;\n",
        "*   engineSize: dimensioni del motore, indicato come i litri di carburante e aria che esso è in grado di iniettare nei cilindri;\n",
        "*   price: prezzo (in sterline) a cui viene proposta l'automobile.\n",
        "\n",
        "Quest'ultima rappresenta anche la variabile di cui vogliamo predire il valore. Essa è continua, dunque ci troviamo davanti ad un problema di regressione.\n",
        "\n"
      ]
    },
    {
      "cell_type": "markdown",
      "metadata": {
        "id": "BcA5iztxRd8Q"
      },
      "source": [
        "Per ottimizzare l'occupazione in memoria, benchè il numero di righe non sia molto elevato, si convertono le feature model, transmission e fuelType da tipo object a category."
      ]
    },
    {
      "cell_type": "code",
      "metadata": {
        "id": "00J7KE9yIIjJ"
      },
      "source": [
        "categoric_features = [\"model\",\"transmission\",\"fuelType\"];\n",
        "numeric_features = [\"year\",\"price\",\"mileage\",\"tax\",\"mpg\",\"engineSize\"];"
      ],
      "execution_count": 4,
      "outputs": []
    },
    {
      "cell_type": "code",
      "metadata": {
        "id": "oA9Zke5ZQsHP"
      },
      "source": [
        "for feature in categoric_features:\n",
        "    data[feature] = data[feature].astype(\"category\")"
      ],
      "execution_count": 5,
      "outputs": []
    },
    {
      "cell_type": "code",
      "metadata": {
        "colab": {
          "base_uri": "https://localhost:8080/"
        },
        "id": "wNomY-JjR3fM",
        "outputId": "5b5d3639-9412-40d3-ef33-1b475a5a4311"
      },
      "source": [
        "data.info()"
      ],
      "execution_count": 6,
      "outputs": [
        {
          "output_type": "stream",
          "text": [
            "<class 'pandas.core.frame.DataFrame'>\n",
            "RangeIndex: 13119 entries, 0 to 13118\n",
            "Data columns (total 9 columns):\n",
            " #   Column        Non-Null Count  Dtype   \n",
            "---  ------        --------------  -----   \n",
            " 0   model         13119 non-null  category\n",
            " 1   year          13119 non-null  int64   \n",
            " 2   price         13119 non-null  float64 \n",
            " 3   transmission  13119 non-null  category\n",
            " 4   mileage       13119 non-null  int64   \n",
            " 5   fuelType      13119 non-null  category\n",
            " 6   tax           13119 non-null  int64   \n",
            " 7   mpg           13119 non-null  float64 \n",
            " 8   engineSize    13119 non-null  float64 \n",
            "dtypes: category(3), float64(3), int64(3)\n",
            "memory usage: 655.3 KB\n"
          ],
          "name": "stdout"
        }
      ]
    },
    {
      "cell_type": "markdown",
      "metadata": {
        "id": "SJyhNapoBjz8"
      },
      "source": [
        "###Pulizia dati\n",
        "Per prima cosa, andiamo a controllare l'eventuale presenza di record nulli."
      ]
    },
    {
      "cell_type": "code",
      "metadata": {
        "colab": {
          "base_uri": "https://localhost:8080/"
        },
        "id": "Qwk9X6jKBuyV",
        "outputId": "aa702bb7-067e-402c-94ae-782b89ba024f"
      },
      "source": [
        "data.isna().sum()"
      ],
      "execution_count": 7,
      "outputs": [
        {
          "output_type": "execute_result",
          "data": {
            "text/plain": [
              "model           0\n",
              "year            0\n",
              "price           0\n",
              "transmission    0\n",
              "mileage         0\n",
              "fuelType        0\n",
              "tax             0\n",
              "mpg             0\n",
              "engineSize      0\n",
              "dtype: int64"
            ]
          },
          "metadata": {
            "tags": []
          },
          "execution_count": 7
        }
      ]
    },
    {
      "cell_type": "markdown",
      "metadata": {
        "id": "xSyTSHN8B8OH"
      },
      "source": [
        "Come possiamo notare, nessuna feature presenta valori nulli.\n",
        "\n",
        "In seguito, andiamo ad ricavare da year la feature **age**, ossia l'età della macchina. Questa feature risulta essere più accurata dell'anno di immatricolazione, in quanto è indipendente dall'anno in cui ci troviamo, perciò sostituirà year. Tale operazione viene fatta considerando l'anno in cui sono stati rilevati i dati, ossia il 2020. "
      ]
    },
    {
      "cell_type": "code",
      "metadata": {
        "id": "X0_7Y-gXDbAG"
      },
      "source": [
        "data[\"age\"] = 2020 - data[\"year\"];\n",
        "data.drop(columns=\"year\",inplace=True);\n",
        "numeric_features.append(\"age\");\n",
        "numeric_features.remove(\"year\");"
      ],
      "execution_count": 8,
      "outputs": []
    },
    {
      "cell_type": "markdown",
      "metadata": {
        "id": "8smJ-4ni8PCu"
      },
      "source": [
        "##Parte 1b - Analisi esplorativa"
      ]
    },
    {
      "cell_type": "markdown",
      "metadata": {
        "id": "s_W-3S599B2A"
      },
      "source": [
        "Per prima cosa andiamo ad osservare le caratteristiche di base delle sole feature numeriche appartenenti ai dati analizzati."
      ]
    },
    {
      "cell_type": "code",
      "metadata": {
        "colab": {
          "base_uri": "https://localhost:8080/",
          "height": 297
        },
        "id": "Q2si60pQ9Of5",
        "outputId": "e1f3eb9e-2fb8-45fc-991b-4a3e986b2855"
      },
      "source": [
        "data.describe()"
      ],
      "execution_count": 10,
      "outputs": [
        {
          "output_type": "execute_result",
          "data": {
            "text/html": [
              "<div>\n",
              "<style scoped>\n",
              "    .dataframe tbody tr th:only-of-type {\n",
              "        vertical-align: middle;\n",
              "    }\n",
              "\n",
              "    .dataframe tbody tr th {\n",
              "        vertical-align: top;\n",
              "    }\n",
              "\n",
              "    .dataframe thead th {\n",
              "        text-align: right;\n",
              "    }\n",
              "</style>\n",
              "<table border=\"1\" class=\"dataframe\">\n",
              "  <thead>\n",
              "    <tr style=\"text-align: right;\">\n",
              "      <th></th>\n",
              "      <th>price</th>\n",
              "      <th>mileage</th>\n",
              "      <th>tax</th>\n",
              "      <th>mpg</th>\n",
              "      <th>engineSize</th>\n",
              "      <th>age</th>\n",
              "    </tr>\n",
              "  </thead>\n",
              "  <tbody>\n",
              "    <tr>\n",
              "      <th>count</th>\n",
              "      <td>13119.000000</td>\n",
              "      <td>13119.000000</td>\n",
              "      <td>13119.000000</td>\n",
              "      <td>13119.000000</td>\n",
              "      <td>13119.000000</td>\n",
              "      <td>13119.000000</td>\n",
              "    </tr>\n",
              "    <tr>\n",
              "      <th>mean</th>\n",
              "      <td>24698.596920</td>\n",
              "      <td>21949.559037</td>\n",
              "      <td>129.972178</td>\n",
              "      <td>55.155843</td>\n",
              "      <td>2.071530</td>\n",
              "      <td>2.703712</td>\n",
              "    </tr>\n",
              "    <tr>\n",
              "      <th>std</th>\n",
              "      <td>11842.675542</td>\n",
              "      <td>21176.512267</td>\n",
              "      <td>65.260286</td>\n",
              "      <td>15.220082</td>\n",
              "      <td>0.572426</td>\n",
              "      <td>2.224709</td>\n",
              "    </tr>\n",
              "    <tr>\n",
              "      <th>min</th>\n",
              "      <td>650.000000</td>\n",
              "      <td>1.000000</td>\n",
              "      <td>0.000000</td>\n",
              "      <td>1.100000</td>\n",
              "      <td>0.000000</td>\n",
              "      <td>0.000000</td>\n",
              "    </tr>\n",
              "    <tr>\n",
              "      <th>25%</th>\n",
              "      <td>17450.000000</td>\n",
              "      <td>6097.500000</td>\n",
              "      <td>125.000000</td>\n",
              "      <td>45.600000</td>\n",
              "      <td>1.800000</td>\n",
              "      <td>1.000000</td>\n",
              "    </tr>\n",
              "    <tr>\n",
              "      <th>50%</th>\n",
              "      <td>22480.000000</td>\n",
              "      <td>15189.000000</td>\n",
              "      <td>145.000000</td>\n",
              "      <td>56.500000</td>\n",
              "      <td>2.000000</td>\n",
              "      <td>2.000000</td>\n",
              "    </tr>\n",
              "    <tr>\n",
              "      <th>75%</th>\n",
              "      <td>28980.000000</td>\n",
              "      <td>31779.500000</td>\n",
              "      <td>145.000000</td>\n",
              "      <td>64.200000</td>\n",
              "      <td>2.100000</td>\n",
              "      <td>4.000000</td>\n",
              "    </tr>\n",
              "    <tr>\n",
              "      <th>max</th>\n",
              "      <td>159999.000000</td>\n",
              "      <td>259000.000000</td>\n",
              "      <td>580.000000</td>\n",
              "      <td>217.300000</td>\n",
              "      <td>6.200000</td>\n",
              "      <td>50.000000</td>\n",
              "    </tr>\n",
              "  </tbody>\n",
              "</table>\n",
              "</div>"
            ],
            "text/plain": [
              "               price        mileage  ...    engineSize           age\n",
              "count   13119.000000   13119.000000  ...  13119.000000  13119.000000\n",
              "mean    24698.596920   21949.559037  ...      2.071530      2.703712\n",
              "std     11842.675542   21176.512267  ...      0.572426      2.224709\n",
              "min       650.000000       1.000000  ...      0.000000      0.000000\n",
              "25%     17450.000000    6097.500000  ...      1.800000      1.000000\n",
              "50%     22480.000000   15189.000000  ...      2.000000      2.000000\n",
              "75%     28980.000000   31779.500000  ...      2.100000      4.000000\n",
              "max    159999.000000  259000.000000  ...      6.200000     50.000000\n",
              "\n",
              "[8 rows x 6 columns]"
            ]
          },
          "metadata": {
            "tags": []
          },
          "execution_count": 10
        }
      ]
    },
    {
      "cell_type": "markdown",
      "metadata": {
        "id": "YjpTiSR09rWs"
      },
      "source": [
        "* Come possiamo vedere, le auto analizzate in media hanno sui **3 anni di vita**, e solo il 25% di esse risalgono ad un anno precedente al **2016**.\n",
        "* Il prezzo medio si aggira sulle **24000 sterline**, appropriato se si considera la fama del marchio automobilistico. La deviazione standard si attesta sulle **12000 sterline**, valore dovuto sia alla varietà di tipologie di veicoli che alle condizioni in cui essi si trovano.\n",
        "* Osservando i dati relativi alle miglia percorsa dai veicoli, invece, ci accorgiamo che il 75% di essi non supera le **32000 miglia** (~52000 chilometri), dato sicuramente influenzato dall'età media delle auto.\n",
        "* Passando al costo della tassa di registrazione del mezzo, notiamo che il prezzo medio si attesta sulle **130 £**, ma la deviazione standard del dato risulta essere anch'essa abbastanza elevata: controllando la tassazione effettuata nel Regno Unito, scopriamo che il prezzo deriva dalle emissioni di CO2 prodotte dal veicolo. Ciò ci fa presagire al fatto che il dataset contenga auto con efficienza differente: abbiamo infatti sia vetture ibride che vetture dotate di motore da 6.2L.\n",
        "* Infine, la potenza media del motore si attesta sui **2L**, potenza comune in questa fascia di mercato."
      ]
    },
    {
      "cell_type": "markdown",
      "metadata": {
        "id": "XqSZiW8gH3Dn"
      },
      "source": [
        "Per vedere meglio questi dati, ci affidiamo alle rappresentazioni boxplot."
      ]
    },
    {
      "cell_type": "code",
      "metadata": {
        "colab": {
          "base_uri": "https://localhost:8080/",
          "height": 822
        },
        "id": "X2VOPcp6KaMJ",
        "outputId": "640a86e8-3a1c-450f-c792-825117675718"
      },
      "source": [
        "plt.figure(figsize=(22, 22))\n",
        "for n, col in enumerate(numeric_features, start=1):\n",
        "    data[col].plot.box(showmeans=True,ax=plt.subplot(3, 3, n))"
      ],
      "execution_count": 11,
      "outputs": [
        {
          "output_type": "display_data",
          "data": {
            "image/png": "[encoded data removed]",
            "text/plain": [
              "<Figure size 1584x1584 with 6 Axes>"
            ]
          },
          "metadata": {
            "tags": [],
            "needs_background": "light"
          }
        }
      ]
    },
    {
      "cell_type": "markdown",
      "metadata": {
        "id": "FttKeBAv-nHZ"
      },
      "source": [
        "Come possiamo notare, tutte le feature contengono diversi outliers. In alcune, questi valori sono ben distribuiti, mentre in altre, ossia age e mileage, sono presenti pochi outliers notevolmente distanti da tutti gli altri valori. Si procede perciò alla rimozione delle seguenti righe:"
      ]
    },
    {
      "cell_type": "code",
      "metadata": {
        "id": "d1ulQviF_vCc"
      },
      "source": [
        "data = data.loc[(data.age < 40) & (data.mileage < 200000),:]"
      ],
      "execution_count": 12,
      "outputs": []
    },
    {
      "cell_type": "markdown",
      "metadata": {
        "id": "UgwIf0aFAN2m"
      },
      "source": [
        "Verifichiamo di nuovo il box-plot delle sopracitate feature, così da mostrare la differenza di omogeneità degli outliers."
      ]
    },
    {
      "cell_type": "code",
      "metadata": {
        "colab": {
          "base_uri": "https://localhost:8080/",
          "height": 554
        },
        "id": "6ABJKofoAgDn",
        "outputId": "065e7fd9-6822-4be9-b815-7463014ac2e7"
      },
      "source": [
        "plt.figure(figsize=(12, 9))\n",
        "data.age.plot.box(ax=plt.subplot(1, 2, 1))\n",
        "data.mileage.plot.box(showmeans=True,ax=plt.subplot(1, 2, 2))\n"
      ],
      "execution_count": 14,
      "outputs": [
        {
          "output_type": "execute_result",
          "data": {
            "text/plain": [
              "<matplotlib.axes._subplots.AxesSubplot at 0x7fbdb53bfe50>"
            ]
          },
          "metadata": {
            "tags": []
          },
          "execution_count": 14
        },
        {
          "output_type": "display_data",
          "data": {
            "image/png": "[encoded data removed]",
            "text/plain": [
              "<Figure size 864x648 with 2 Axes>"
            ]
          },
          "metadata": {
            "tags": [],
            "needs_background": "light"
          }
        }
      ]
    },
    {
      "cell_type": "markdown",
      "metadata": {
        "id": "wF_KH_HJEWxx"
      },
      "source": [
        "Passando alle feature categoriche, possiamo osservarne il numero di valori distinti per ciascuna di esse."
      ]
    },
    {
      "cell_type": "code",
      "metadata": {
        "colab": {
          "base_uri": "https://localhost:8080/"
        },
        "id": "XA3ugpMwElRM",
        "outputId": "2a5c77a0-9fc8-48da-c8cc-df96d6be1fae"
      },
      "source": [
        "for feature in categoric_features:\n",
        "  print(\"Count of unique values of feature \" + feature + \" : {}\".format(data.loc[:,feature].nunique()))"
      ],
      "execution_count": 15,
      "outputs": [
        {
          "output_type": "stream",
          "text": [
            "Count of unique values of feature model : 27\n",
            "Count of unique values of feature transmission : 4\n",
            "Count of unique values of feature fuelType : 4\n"
          ],
          "name": "stdout"
        }
      ]
    },
    {
      "cell_type": "markdown",
      "metadata": {
        "id": "pTZobz4EHIwd"
      },
      "source": [
        "Notiamo dunque che sia la trasmissione che il tipo di carburante utilizzato dai mezzi analizzati hanno scarsa variabilità."
      ]
    },
    {
      "cell_type": "code",
      "metadata": {
        "colab": {
          "base_uri": "https://localhost:8080/",
          "height": 651
        },
        "id": "hSlve-hAUdJ0",
        "outputId": "6279fa46-4944-41e2-8cc8-5e7653177868"
      },
      "source": [
        "plt.figure(figsize=(22, 10))\n",
        "for n, col in enumerate(categoric_features, start=1):\n",
        "    data[col].value_counts().plot.bar(ax=plt.subplot(1, 3, n))\n",
        "    plt.title(col)"
      ],
      "execution_count": 16,
      "outputs": [
        {
          "output_type": "display_data",
          "data": {
            "image/png": "[encoded data removed]",
            "text/plain": [
              "<Figure size 1584x720 with 3 Axes>"
            ]
          },
          "metadata": {
            "tags": [],
            "needs_background": "light"
          }
        }
      ]
    },
    {
      "cell_type": "markdown",
      "metadata": {
        "id": "DvZGZNLoJuLi"
      },
      "source": [
        "Da questi grafici notiamo il modello più presente sul mercato, ossia il Classe C. Possiamo inoltre osservare che sono presenti alcuni veicoli con una trasmissione e tipo di carburante definiti come *Other*.\n",
        "Per quanto riguarda la prima feature, i record potrebbero riferirsi ad una trasmissione Continuously Variable Transmission (CVT), ossia una trasmissione per certi versi simile ad una automatica, usata in specifici modelli di automobile."
      ]
    },
    {
      "cell_type": "code",
      "metadata": {
        "colab": {
          "base_uri": "https://localhost:8080/",
          "height": 128
        },
        "id": "h0mgtZ5yLK5Y",
        "outputId": "17e3342f-58f4-4419-fd6d-6f99d428ee4d"
      },
      "source": [
        "otherCars = data.loc[data.transmission == \"Other\"];\n",
        "display(otherCars);\n",
        "print(\"\\nNumero di veicoli con trasmissione 'other': {}\".format(len(otherCars)));"
      ],
      "execution_count": 18,
      "outputs": [
        {
          "output_type": "display_data",
          "data": {
            "text/html": [
              "<div>\n",
              "<style scoped>\n",
              "    .dataframe tbody tr th:only-of-type {\n",
              "        vertical-align: middle;\n",
              "    }\n",
              "\n",
              "    .dataframe tbody tr th {\n",
              "        vertical-align: top;\n",
              "    }\n",
              "\n",
              "    .dataframe thead th {\n",
              "        text-align: right;\n",
              "    }\n",
              "</style>\n",
              "<table border=\"1\" class=\"dataframe\">\n",
              "  <thead>\n",
              "    <tr style=\"text-align: right;\">\n",
              "      <th></th>\n",
              "      <th>model</th>\n",
              "      <th>price</th>\n",
              "      <th>transmission</th>\n",
              "      <th>mileage</th>\n",
              "      <th>fuelType</th>\n",
              "      <th>tax</th>\n",
              "      <th>mpg</th>\n",
              "      <th>engineSize</th>\n",
              "      <th>age</th>\n",
              "    </tr>\n",
              "  </thead>\n",
              "  <tbody>\n",
              "    <tr>\n",
              "      <th>9650</th>\n",
              "      <td>GLA Class</td>\n",
              "      <td>18700.0</td>\n",
              "      <td>Other</td>\n",
              "      <td>30895</td>\n",
              "      <td>Other</td>\n",
              "      <td>125</td>\n",
              "      <td>56.5</td>\n",
              "      <td>0.0</td>\n",
              "      <td>4</td>\n",
              "    </tr>\n",
              "    <tr>\n",
              "      <th>12762</th>\n",
              "      <td>SLK</td>\n",
              "      <td>12995.0</td>\n",
              "      <td>Other</td>\n",
              "      <td>39000</td>\n",
              "      <td>Diesel</td>\n",
              "      <td>150</td>\n",
              "      <td>56.5</td>\n",
              "      <td>2.1</td>\n",
              "      <td>5</td>\n",
              "    </tr>\n",
              "  </tbody>\n",
              "</table>\n",
              "</div>"
            ],
            "text/plain": [
              "            model    price transmission  mileage  ...  tax   mpg  engineSize  age\n",
              "9650    GLA Class  18700.0        Other    30895  ...  125  56.5         0.0    4\n",
              "12762         SLK  12995.0        Other    39000  ...  150  56.5         2.1    5\n",
              "\n",
              "[2 rows x 9 columns]"
            ]
          },
          "metadata": {
            "tags": []
          }
        },
        {
          "output_type": "stream",
          "text": [
            "Numero di veicoli: 2\n"
          ],
          "name": "stdout"
        }
      ]
    },
    {
      "cell_type": "markdown",
      "metadata": {
        "id": "yHejT5k3L_oA"
      },
      "source": [
        "Facendo una ricerca si scopre che nessuno dei due modelli riportati è mai stato equipaggiato con tale trasmissione; si decide quindi di rimuovere i due record.\n",
        "\n",
        "Passando al tipo di carburante, il valore other potrebbe riferirsi ad automobili elettriche, sempre più popolari, oppure a modelli alimentati ad idrogeno, molto meno popolari nel mercato odierno."
      ]
    },
    {
      "cell_type": "code",
      "metadata": {
        "colab": {
          "base_uri": "https://localhost:8080/",
          "height": 300
        },
        "id": "GdaXPJqJM10i",
        "outputId": "fa3cb7bf-21f2-472d-eb50-739f1604868f"
      },
      "source": [
        "otherCars = data.loc[data.fuelType == \"Other\"];\n",
        "display(otherCars);\n",
        "print(\"\\nNumero di veicoli con tipo di carburante 'other': {}\".format(len(otherCars)));"
      ],
      "execution_count": 19,
      "outputs": [
        {
          "output_type": "display_data",
          "data": {
            "text/html": [
              "<div>\n",
              "<style scoped>\n",
              "    .dataframe tbody tr th:only-of-type {\n",
              "        vertical-align: middle;\n",
              "    }\n",
              "\n",
              "    .dataframe tbody tr th {\n",
              "        vertical-align: top;\n",
              "    }\n",
              "\n",
              "    .dataframe thead th {\n",
              "        text-align: right;\n",
              "    }\n",
              "</style>\n",
              "<table border=\"1\" class=\"dataframe\">\n",
              "  <thead>\n",
              "    <tr style=\"text-align: right;\">\n",
              "      <th></th>\n",
              "      <th>model</th>\n",
              "      <th>price</th>\n",
              "      <th>transmission</th>\n",
              "      <th>mileage</th>\n",
              "      <th>fuelType</th>\n",
              "      <th>tax</th>\n",
              "      <th>mpg</th>\n",
              "      <th>engineSize</th>\n",
              "      <th>age</th>\n",
              "    </tr>\n",
              "  </thead>\n",
              "  <tbody>\n",
              "    <tr>\n",
              "      <th>9650</th>\n",
              "      <td>GLA Class</td>\n",
              "      <td>18700.0</td>\n",
              "      <td>Other</td>\n",
              "      <td>30895</td>\n",
              "      <td>Other</td>\n",
              "      <td>125</td>\n",
              "      <td>56.5</td>\n",
              "      <td>0.0</td>\n",
              "      <td>4</td>\n",
              "    </tr>\n",
              "    <tr>\n",
              "      <th>11740</th>\n",
              "      <td>GLE Class</td>\n",
              "      <td>31990.0</td>\n",
              "      <td>Automatic</td>\n",
              "      <td>46000</td>\n",
              "      <td>Other</td>\n",
              "      <td>0</td>\n",
              "      <td>76.4</td>\n",
              "      <td>3.0</td>\n",
              "      <td>4</td>\n",
              "    </tr>\n",
              "    <tr>\n",
              "      <th>12095</th>\n",
              "      <td>C Class</td>\n",
              "      <td>13850.0</td>\n",
              "      <td>Automatic</td>\n",
              "      <td>77814</td>\n",
              "      <td>Other</td>\n",
              "      <td>0</td>\n",
              "      <td>134.5</td>\n",
              "      <td>2.0</td>\n",
              "      <td>4</td>\n",
              "    </tr>\n",
              "    <tr>\n",
              "      <th>12184</th>\n",
              "      <td>C Class</td>\n",
              "      <td>17400.0</td>\n",
              "      <td>Automatic</td>\n",
              "      <td>52897</td>\n",
              "      <td>Other</td>\n",
              "      <td>0</td>\n",
              "      <td>134.5</td>\n",
              "      <td>2.0</td>\n",
              "      <td>3</td>\n",
              "    </tr>\n",
              "    <tr>\n",
              "      <th>12270</th>\n",
              "      <td>C Class</td>\n",
              "      <td>16000.0</td>\n",
              "      <td>Automatic</td>\n",
              "      <td>54011</td>\n",
              "      <td>Other</td>\n",
              "      <td>0</td>\n",
              "      <td>134.5</td>\n",
              "      <td>2.0</td>\n",
              "      <td>3</td>\n",
              "    </tr>\n",
              "    <tr>\n",
              "      <th>12389</th>\n",
              "      <td>C Class</td>\n",
              "      <td>15000.0</td>\n",
              "      <td>Automatic</td>\n",
              "      <td>53400</td>\n",
              "      <td>Other</td>\n",
              "      <td>0</td>\n",
              "      <td>134.5</td>\n",
              "      <td>2.0</td>\n",
              "      <td>5</td>\n",
              "    </tr>\n",
              "    <tr>\n",
              "      <th>12894</th>\n",
              "      <td>C Class</td>\n",
              "      <td>40999.0</td>\n",
              "      <td>Automatic</td>\n",
              "      <td>400</td>\n",
              "      <td>Other</td>\n",
              "      <td>135</td>\n",
              "      <td>217.3</td>\n",
              "      <td>2.0</td>\n",
              "      <td>0</td>\n",
              "    </tr>\n",
              "  </tbody>\n",
              "</table>\n",
              "</div>"
            ],
            "text/plain": [
              "            model    price transmission  mileage  ...  tax    mpg  engineSize  age\n",
              "9650    GLA Class  18700.0        Other    30895  ...  125   56.5         0.0    4\n",
              "11740   GLE Class  31990.0    Automatic    46000  ...    0   76.4         3.0    4\n",
              "12095     C Class  13850.0    Automatic    77814  ...    0  134.5         2.0    4\n",
              "12184     C Class  17400.0    Automatic    52897  ...    0  134.5         2.0    3\n",
              "12270     C Class  16000.0    Automatic    54011  ...    0  134.5         2.0    3\n",
              "12389     C Class  15000.0    Automatic    53400  ...    0  134.5         2.0    5\n",
              "12894     C Class  40999.0    Automatic      400  ...  135  217.3         2.0    0\n",
              "\n",
              "[7 rows x 9 columns]"
            ]
          },
          "metadata": {
            "tags": []
          }
        },
        {
          "output_type": "stream",
          "text": [
            "\n",
            "Numero di veicoli con tipo di carburante 'other': 7\n"
          ],
          "name": "stdout"
        }
      ]
    },
    {
      "cell_type": "markdown",
      "metadata": {
        "id": "D_FxTJuGNzJ5"
      },
      "source": [
        "Anche in questo caso, le auto ottenute non sono modelli elettrici o ad idrogeno, quindi andiamo ad eliminare anche questi 7 record, mostrando di nuovo i grafici a barre dopo la rimozione."
      ]
    },
    {
      "cell_type": "code",
      "metadata": {
        "id": "Tkpd-pcNMbp1"
      },
      "source": [
        "data = data.loc[(data.transmission != \"Other\") & (data.fuelType != \"Other\"),:]\n",
        "data.transmission.cat.remove_categories(removals=[\"Other\"],inplace=True)\n",
        "data.fuelType.cat.remove_categories(removals=[\"Other\"],inplace=True)"
      ],
      "execution_count": 20,
      "outputs": []
    },
    {
      "cell_type": "code",
      "metadata": {
        "colab": {
          "base_uri": "https://localhost:8080/",
          "height": 651
        },
        "id": "yRjwekX3PI3X",
        "outputId": "3e311fb6-18c0-45e6-e7b0-0e25c7e8af54"
      },
      "source": [
        "plt.figure(figsize=(22, 10))\n",
        "for n, col in enumerate(categoric_features, start=1):\n",
        "    data[col].value_counts().plot.bar(ax=plt.subplot(1, 3, n))\n",
        "    plt.title(col)"
      ],
      "execution_count": 21,
      "outputs": [
        {
          "output_type": "display_data",
          "data": {
            "image/png": "[encoded data removed]",
            "text/plain": [
              "<Figure size 1584x720 with 3 Axes>"
            ]
          },
          "metadata": {
            "tags": [],
            "needs_background": "light"
          }
        }
      ]
    },
    {
      "cell_type": "markdown",
      "metadata": {
        "id": "7mxCQuQXM89L"
      },
      "source": [
        "###Correlazione tra coppie di feature"
      ]
    },
    {
      "cell_type": "code",
      "metadata": {
        "colab": {
          "base_uri": "https://localhost:8080/",
          "height": 687
        },
        "id": "9fE0wVYpXg3g",
        "outputId": "b0aa4761-f97a-4734-c395-674f8f21e4de"
      },
      "source": [
        "corr = data.drop(columns=[\"price\"]).corr()\n",
        "\n",
        "fig, ax = plt.subplots(figsize=(12, 12))\n",
        "im = ax.matshow(corr,cmap=\"viridis\")\n",
        "plt.xticks(range(len(corr.columns)), corr.columns);\n",
        "plt.yticks(range(len(corr.columns)), corr.columns);\n",
        "fig.colorbar(im);\n",
        "for (i, j), z in np.ndenumerate(corr):\n",
        "    ax.text(j, i, '{:0.1f}'.format(z), ha='center', va='center',\n",
        "            bbox=dict(boxstyle='round', facecolor='white', edgecolor='0.3'))\n",
        "plt.show();"
      ],
      "execution_count": 22,
      "outputs": [
        {
          "output_type": "display_data",
          "data": {
            "image/png": "[encoded data removed]",
            "text/plain": [
              "<Figure size 864x864 with 2 Axes>"
            ]
          },
          "metadata": {
            "tags": [],
            "needs_background": "light"
          }
        }
      ]
    },
    {
      "cell_type": "markdown",
      "metadata": {
        "id": "NsqBgzzjZyJS"
      },
      "source": [
        "Questo grafico mostra **l'indice di correlazione di Pearson** (quindi compreso tra -1 e 1) tra le coppie di feature numeriche.\n",
        "\n",
        "* Tra prezzo della tassa e miglia per gallone troviamo una correlazione negativa: questo è dovuto probabilmente al fatto che un'auto poco efficiente nell'uso di carburante produrrà anche più anidride carbonica, facendo aumentare così la sopracitata tassa.\n",
        "* Altra correlazione è quella che intercorre tra miglia percorse ed età del mezzo; risulta infatti ovvio che, normalmente, più un auto è recente e meno miglia avrà percorso.\n",
        "* Possiamo notare infine una lieve correlazione tra dimensione del motore e miglia per gallone, indicando che un motore più potente porti solitamente a consumi più elevati ed una efficienza ridotta."
      ]
    },
    {
      "cell_type": "markdown",
      "metadata": {
        "id": "ns9AUpaqFT5J"
      },
      "source": [
        "##Parte 2 - Data Preprocessing"
      ]
    },
    {
      "cell_type": "markdown",
      "metadata": {
        "id": "R9CylzPZFiha"
      },
      "source": [
        "Per prima cosa, andiamo ad estrarre la variabile dipendente da predire dal resto dei dati. Il prezzo da calcolare, inoltre, viene convertito in migliaia di sterline, così da mantenere i coefficienti di regressione più bassi."
      ]
    },
    {
      "cell_type": "code",
      "metadata": {
        "id": "6HWyaiMdFhf2"
      },
      "source": [
        "y = data[\"price\"];\n",
        "X = data.drop(columns=[\"price\"]);\n",
        "numeric_features.remove(\"price\")"
      ],
      "execution_count": 23,
      "outputs": []
    },
    {
      "cell_type": "markdown",
      "metadata": {
        "id": "SdLSZI2kGFMC"
      },
      "source": [
        "###Hold Out\n",
        "Viene in seguito diviso il dataset in training e validation set, con una divisione di 2/3 ed 1/3 rispettivamente."
      ]
    },
    {
      "cell_type": "code",
      "metadata": {
        "id": "VGh-0MadGJ2O"
      },
      "source": [
        "from sklearn.model_selection import train_test_split\n",
        "from sklearn.preprocessing import StandardScaler\n",
        "\n",
        "X_train,X_val,y_train,y_val = train_test_split(X,y,test_size=1/3,random_state=43);\n",
        "\n",
        "y_scaler = StandardScaler();\n",
        "\n",
        "y_scaler.fit(y.values[:,None])\n",
        "\n",
        "y_train_unscaled = y_train\n",
        "y_val_unscaled = y_val\n",
        "\n",
        "y_train = y_scaler.transform(y_train.values[:,None]).ravel()\n",
        "y_val = y_scaler.transform(y_val.values[:,None]).ravel()"
      ],
      "execution_count": 26,
      "outputs": []
    },
    {
      "cell_type": "markdown",
      "metadata": {
        "id": "lbT4vaAWG7Sd"
      },
      "source": [
        "###Utilizzo feature categoriche\n",
        "Per poter utilizzare le variabili categoriche nei modelli che vogliamo costruire, verrà utilizzata la tecnica chiamata **One Hot Encoding**.\n",
        "Questo meccanismo trasforma tali feature in feature numeriche, così da poterle utilizzare nella creazione dei modelli di regressione.\n",
        "Per poter selezionare le sole colonne categoriche ed applicare l'encoding, viene inoltre utilizzato un **ColumnTransformer**; esso ci permetterà in seguito di standardizzare le sole feature numeriche."
      ]
    },
    {
      "cell_type": "markdown",
      "metadata": {
        "id": "Txs_Q5hOzaL_"
      },
      "source": [
        "###Standardizzazione\n",
        "Per quanto riguarda la standardizzazione delle feature numeriche, considerando la differenza delle scale di valore di esse, possiamo ipotizzare che il suo utilizzo migliori i risultati notevolmente. Per dimostrare ciò, verranno creati due modelli di regressione lineare semplice, utlizzando solo nel primo caso uno StandardScaler; questi modelli verranno confrontati mediante l'utilizzo delle tre tecniche principali di valutazione di modelli di regressione."
      ]
    },
    {
      "cell_type": "code",
      "metadata": {
        "id": "tkRZNgEpF6FY"
      },
      "source": [
        "from sklearn.metrics import r2_score\n",
        "from sklearn.metrics import mean_squared_error\n",
        "from scipy.stats import t\n",
        "\n",
        "\n",
        "gsParams = [\"rank_test_score\",\"mean_test_score\",\"params\"]\n",
        "\n",
        "def relative_error(y_true, y_pred):\n",
        "    return np.mean(np.abs((y_true - y_pred) / y_true));\n",
        "\n",
        "def print_eval(X, y, model):\n",
        "    actual_printing(y,model.predict(X))\n",
        "\n",
        "def print_eval_scaled(X, y, model):\n",
        "    preds = model.predict(X)\n",
        "    unscaled_preds = y_scaler.inverse_transform(preds);\n",
        "    unscaled_y = y_scaler.inverse_transform(y);\n",
        "    actual_printing(unscaled_y,unscaled_preds)\n",
        "\n",
        "def actual_printing(y,preds):\n",
        "    print(\"   Mean squared error: {:.5}\".format(mean_squared_error(y, preds)))\n",
        "    print(\"       Relative error: {:.5%}\".format(relative_error(y, preds)))\n",
        "    print(\"R-squared coefficient: {:.5}\".format(r2_score(y, preds)))\n",
        "\n",
        "def print_param_eval(gridSearch):\n",
        "    print(\"\\nDettagli parametri GridSearch:\")\n",
        "    with pd.option_context('display.max_rows', None, 'display.max_colwidth', 100):  \n",
        "      display(pd.DataFrame(gridSearch.cv_results_).sort_values(\"mean_test_score\", ascending=False).head(5)[gsParams])\n",
        "\n",
        "def print_accuracy_with_confidence(X,y,model,confidence):\n",
        "    preds = model.predict(X)\n",
        "    unscaled_preds = y_scaler.inverse_transform(preds);\n",
        "    unscaled_y = y_scaler.inverse_transform(y);\n",
        "    instanceNum = len(X.index);\n",
        "    r2 = r2_score(unscaled_y,unscaled_preds);\n",
        "    Z = t.ppf(1 - ((1-confidence) / 2), instanceNum);\n",
        "    stdDev = np.sqrt((4*r2*np.square(1-r2)*np.square(instanceNum - 1))/((np.square(instanceNum) - 1)*(instanceNum + 3)))\n",
        "    print(\"\\nAccuratezza con il {}% di confidenza:\".format(confidence*100))\n",
        "    print(\"R^2 min: {}\".format(r2 - (Z*stdDev)))\n",
        "    print(\"R^2 max: {}\".format(r2 + (Z*stdDev)))"
      ],
      "execution_count": 27,
      "outputs": []
    },
    {
      "cell_type": "code",
      "metadata": {
        "id": "5fmKzFSy0-3-"
      },
      "source": [
        "from sklearn.linear_model import LinearRegression\n",
        "from sklearn.compose import ColumnTransformer\n",
        "from sklearn.pipeline import Pipeline\n",
        "from sklearn.preprocessing import OneHotEncoder\n",
        "from sklearn.preprocessing import PolynomialFeatures\n",
        "from sklearn.linear_model import Lasso"
      ],
      "execution_count": 28,
      "outputs": []
    },
    {
      "cell_type": "code",
      "metadata": {
        "colab": {
          "base_uri": "https://localhost:8080/"
        },
        "id": "v0lMJ2Rm2iqN",
        "outputId": "c5db6b39-b5c1-47a3-a38d-48e640bce172"
      },
      "source": [
        "model = Pipeline([\n",
        "    (\"preproc\", ColumnTransformer([\n",
        "        (\"numeric\", StandardScaler(), numeric_features),\n",
        "        (\"categorical\", OneHotEncoder(handle_unknown='ignore'), categoric_features)\n",
        "    ])),\n",
        "    (\"linreg\" , LinearRegression())\n",
        "])\n",
        "model.fit(X_train,y_train)\n",
        "print_eval_scaled(X_val,y_val,model)"
      ],
      "execution_count": 29,
      "outputs": [
        {
          "output_type": "stream",
          "text": [
            "   Mean squared error: 3.4283e+07\n",
            "       Relative error: 16.67914%\n",
            "R-squared coefficient: 0.74982\n"
          ],
          "name": "stdout"
        }
      ]
    },
    {
      "cell_type": "code",
      "metadata": {
        "colab": {
          "base_uri": "https://localhost:8080/"
        },
        "id": "mQtUtQmb33O5",
        "outputId": "edd20d86-8853-40a1-8a74-eb8ea33b657d"
      },
      "source": [
        "model = Pipeline([\n",
        "    (\"preproc\", ColumnTransformer([\n",
        "        (\"categorical\", OneHotEncoder(handle_unknown='ignore'), categoric_features)\n",
        "    ])),\n",
        "    (\"linreg\" , LinearRegression())\n",
        "])\n",
        "model.fit(X_train,y_train_unscaled)\n",
        "print_eval(X_val,y_val_unscaled,model)"
      ],
      "execution_count": 30,
      "outputs": [
        {
          "output_type": "stream",
          "text": [
            "   Mean squared error: 8.5196e+07\n",
            "       Relative error: 29.42306%\n",
            "R-squared coefficient: 0.37827\n"
          ],
          "name": "stdout"
        }
      ]
    },
    {
      "cell_type": "markdown",
      "metadata": {
        "id": "VHbWn1t-4FMS"
      },
      "source": [
        "Come possiamo notare, benchè sia stato utilizzato solo un modello lineare, il guadagno in termini di accuratezza risulta essere considerevole."
      ]
    },
    {
      "cell_type": "markdown",
      "metadata": {
        "id": "5yWbMReF_bGz"
      },
      "source": [
        "###Individuazione feature più rilevanti\n",
        "\n",
        "Per rilevare le feature più rilevanti nel problema analizzato, verrà creato un modello di regressione mediante Lasso, che utilizza una regolarizzazione di tipo L1."
      ]
    },
    {
      "cell_type": "code",
      "metadata": {
        "colab": {
          "base_uri": "https://localhost:8080/"
        },
        "id": "pYGJawsWDm88",
        "outputId": "b997d59a-c537-4033-9fcc-4c713682a0c8"
      },
      "source": [
        "scaled_y = y_scaler.fit_transform(y.values[:, None]).ravel();\n",
        "model = Pipeline([\n",
        "    (\"preproc\", ColumnTransformer([\n",
        "        (\"numeric\", StandardScaler(), numeric_features),\n",
        "        (\"categoric\", OneHotEncoder(handle_unknown='ignore'), categoric_features)\n",
        "    ])),\n",
        "    (\"reg\" , Lasso(alpha=0.01))\n",
        "])\n",
        "model.fit(X_train,y_train)\n",
        "coefs = model.named_steps[\"reg\"].coef_;\n",
        "enc_categ_features = model.named_steps[\"preproc\"].named_transformers_['categoric'].get_feature_names()\n",
        "labels = np.concatenate([numeric_features, enc_categ_features]);\n",
        "print(pd.Series(data=coefs,index=labels))\n",
        "print_eval_scaled(X_val,y_val,model)"
      ],
      "execution_count": 31,
      "outputs": [
        {
          "output_type": "stream",
          "text": [
            "mileage         -0.214636\n",
            "tax             -0.055801\n",
            "mpg             -0.170123\n",
            "engineSize       0.524046\n",
            "age             -0.402664\n",
            "x0_ A Class     -0.000000\n",
            "x0_ B Class     -0.004541\n",
            "x0_ C Class     -0.030071\n",
            "x0_ CL Class    -0.000000\n",
            "x0_ CLA Class   -0.000000\n",
            "x0_ CLC Class    0.000000\n",
            "x0_ CLK          0.000000\n",
            "x0_ CLS Class   -0.000000\n",
            "x0_ E Class     -0.000000\n",
            "x0_ G Class      0.000000\n",
            "x0_ GL Class    -0.000000\n",
            "x0_ GLA Class   -0.079161\n",
            "x0_ GLB Class    0.000000\n",
            "x0_ GLC Class    0.143802\n",
            "x0_ GLE Class    0.158881\n",
            "x0_ GLS Class    0.000000\n",
            "x0_ M Class      0.000000\n",
            "x0_ R Class     -0.000000\n",
            "x0_ S Class      0.132043\n",
            "x0_ SL CLASS    -0.000000\n",
            "x0_ SLK          0.000000\n",
            "x0_ V Class      0.000000\n",
            "x0_ X-CLASS     -0.000000\n",
            "x0_200          -0.000000\n",
            "x0_220          -0.000000\n",
            "x0_230           0.000000\n",
            "x1_Automatic     0.000000\n",
            "x1_Manual       -0.079643\n",
            "x1_Semi-Auto     0.000000\n",
            "x2_Diesel       -0.093278\n",
            "x2_Hybrid        0.000000\n",
            "x2_Petrol        0.000000\n",
            "dtype: float64\n",
            "   Mean squared error: 4.0546e+07\n",
            "       Relative error: 17.82186%\n",
            "R-squared coefficient: 0.70411\n"
          ],
          "name": "stdout"
        }
      ]
    },
    {
      "cell_type": "markdown",
      "metadata": {
        "id": "HafgzZquFcKB"
      },
      "source": [
        "Osservando i coefficienti di regressione associati alle relative variabili di input, possiamo vedere che diversi di loro sono stati annullati, non perdendo nulla in accuratezza. Notiamo inoltre che per la feature transmission solo un coefficiente è non nullo: questo ci fa capire che il cambio dell'automobile non incida particolarmente sul suo prezzo."
      ]
    },
    {
      "cell_type": "code",
      "metadata": {
        "colab": {
          "base_uri": "https://localhost:8080/"
        },
        "id": "C2UyVEhvGZOO",
        "outputId": "f87a5570-a51f-4852-97e6-b3b5b77990e3"
      },
      "source": [
        "print(pd.Series(data=coefs,index=labels).abs().sort_values(ascending=False).head(5))"
      ],
      "execution_count": 32,
      "outputs": [
        {
          "output_type": "stream",
          "text": [
            "engineSize       0.524046\n",
            "age              0.402664\n",
            "mileage          0.214636\n",
            "mpg              0.170123\n",
            "x0_ GLE Class    0.158881\n",
            "dtype: float64\n"
          ],
          "name": "stdout"
        }
      ]
    },
    {
      "cell_type": "markdown",
      "metadata": {
        "id": "6Uyc770KQLDH"
      },
      "source": [
        "Settando l'iperparametro alpha a 0.1, il modello ci indica l'importanza che la **motorizzazione**, l'**età** del mezzo e le **miglia percorse** in totale, hanno nel calcolo del prezzo di un'auto usata. In seguito, troviamo le **miglia percorribili per gallone** ed il **modello** dell'automobile. Verrà verificato nella parte 5 se il modello migliore consideri tali feature fondamentali per il calcolo del prezzo."
      ]
    },
    {
      "cell_type": "markdown",
      "metadata": {
        "id": "3ubrAYqoLhSf"
      },
      "source": [
        "##Parte 3 - Modellazione\n",
        "\n",
        "Vengono in seguito creati diversi modelli di regressione.\n",
        "Per ogni modello vengono mostrate:\n",
        "* le tre principali metriche di valutazione (ossia MSE, errore relativo e coefficiente r^2);\n",
        "* le medie degli score sulle istanze di training con degli specifici parametri;\n",
        "* il valore del coefficiente r^2 con confidenza del 95%."
      ]
    },
    {
      "cell_type": "code",
      "metadata": {
        "id": "9swkBk7mL4tb"
      },
      "source": [
        "from sklearn.linear_model import Ridge\n",
        "from sklearn.linear_model import ElasticNet\n",
        "from sklearn.kernel_ridge import KernelRidge\n",
        "from sklearn.model_selection import GridSearchCV\n",
        "from sklearn.tree import DecisionTreeRegressor\n",
        "from sklearn.model_selection import KFold\n",
        "import warnings\n",
        "from sklearn.exceptions import ConvergenceWarning\n",
        "warnings.filterwarnings(\"ignore\", category=ConvergenceWarning)\n",
        "\n",
        "kf = KFold(n_splits=4,shuffle=True,random_state=42)"
      ],
      "execution_count": 33,
      "outputs": []
    },
    {
      "cell_type": "markdown",
      "metadata": {
        "id": "SbPiql4rWisf"
      },
      "source": [
        "###Regressione Polinomiale"
      ]
    },
    {
      "cell_type": "markdown",
      "metadata": {
        "id": "vXgEdj0V1_nJ"
      },
      "source": [
        "Partiamo con la creazone di un modello di regressione polinomiale senza regolarizzazione, facendo una grid search per il grado migliore a cui elevare i dati."
      ]
    },
    {
      "cell_type": "code",
      "metadata": {
        "colab": {
          "base_uri": "https://localhost:8080/",
          "height": 295
        },
        "id": "Hgp_e3MZWlik",
        "outputId": "afc5280d-b501-45ea-8e7c-84ff54ab818f"
      },
      "source": [
        "numeric_preproc = Pipeline([\n",
        "    (\"std\",StandardScaler()),\n",
        "    (\"poly\",PolynomialFeatures(include_bias=False))\n",
        "]);\n",
        "\n",
        "model = Pipeline([\n",
        "    (\"preproc\", ColumnTransformer([\n",
        "        (\"numeric\", numeric_preproc, numeric_features),\n",
        "        (\"categoric\", OneHotEncoder(handle_unknown=\"ignore\"), categoric_features)\n",
        "    ])),\n",
        "    (\"reg\" , LinearRegression())\n",
        "])\n",
        "grid = {\n",
        "    \"preproc__numeric__poly__degree\": [2, 3, 4]\n",
        "}\n",
        "gsPol = GridSearchCV(model, grid, cv=kf)\n",
        "gsPol.fit(X_train, y_train)\n",
        "print_eval_scaled(X_val,y_val,gsPol)\n",
        "print_param_eval(gsPol)\n",
        "print_accuracy_with_confidence(X_val,y_val,gsPol,0.95)"
      ],
      "execution_count": 34,
      "outputs": [
        {
          "output_type": "stream",
          "text": [
            "   Mean squared error: 2.218e+07\n",
            "       Relative error: 11.69574%\n",
            "R-squared coefficient: 0.83814\n",
            "\n",
            "Dettagli parametri GridSearch:\n"
          ],
          "name": "stdout"
        },
        {
          "output_type": "display_data",
          "data": {
            "text/html": [
              "<div>\n",
              "<style scoped>\n",
              "    .dataframe tbody tr th:only-of-type {\n",
              "        vertical-align: middle;\n",
              "    }\n",
              "\n",
              "    .dataframe tbody tr th {\n",
              "        vertical-align: top;\n",
              "    }\n",
              "\n",
              "    .dataframe thead th {\n",
              "        text-align: right;\n",
              "    }\n",
              "</style>\n",
              "<table border=\"1\" class=\"dataframe\">\n",
              "  <thead>\n",
              "    <tr style=\"text-align: right;\">\n",
              "      <th></th>\n",
              "      <th>rank_test_score</th>\n",
              "      <th>mean_test_score</th>\n",
              "      <th>params</th>\n",
              "    </tr>\n",
              "  </thead>\n",
              "  <tbody>\n",
              "    <tr>\n",
              "      <th>0</th>\n",
              "      <td>1</td>\n",
              "      <td>0.848578</td>\n",
              "      <td>{'preproc__numeric__poly__degree': 2}</td>\n",
              "    </tr>\n",
              "    <tr>\n",
              "      <th>2</th>\n",
              "      <td>2</td>\n",
              "      <td>0.847114</td>\n",
              "      <td>{'preproc__numeric__poly__degree': 4}</td>\n",
              "    </tr>\n",
              "    <tr>\n",
              "      <th>1</th>\n",
              "      <td>3</td>\n",
              "      <td>0.845186</td>\n",
              "      <td>{'preproc__numeric__poly__degree': 3}</td>\n",
              "    </tr>\n",
              "  </tbody>\n",
              "</table>\n",
              "</div>"
            ],
            "text/plain": [
              "   rank_test_score  mean_test_score                                 params\n",
              "0                1         0.848578  {'preproc__numeric__poly__degree': 2}\n",
              "2                2         0.847114  {'preproc__numeric__poly__degree': 4}\n",
              "1                3         0.845186  {'preproc__numeric__poly__degree': 3}"
            ]
          },
          "metadata": {
            "tags": []
          }
        },
        {
          "output_type": "stream",
          "text": [
            "\n",
            "Accuratezza con il 95.0% di confidenza:\n",
            "R^2 min: 0.8293526364240574\n",
            "R^2 max: 0.8469215201372758\n"
          ],
          "name": "stdout"
        }
      ]
    },
    {
      "cell_type": "markdown",
      "metadata": {
        "id": "0HSVneY9sveV"
      },
      "source": [
        "###Regressione Ridge\n",
        "\n",
        "Proviamo ad applicare un modello di regressione lineare con regolarizzazione. Nella grid search verrà variato l'iperparametro *alpha*, ossia l'intensità della regolarizzazione"
      ]
    },
    {
      "cell_type": "code",
      "metadata": {
        "colab": {
          "base_uri": "https://localhost:8080/",
          "height": 326
        },
        "id": "brBNDRNNspk4",
        "outputId": "fc6e6d42-477e-4684-fe83-c5e4da3cac1e"
      },
      "source": [
        "model = Pipeline([\n",
        "    (\"preproc\", ColumnTransformer([\n",
        "        (\"numeric\", StandardScaler(), numeric_features),\n",
        "        (\"categoric\", OneHotEncoder(handle_unknown=\"ignore\"), categoric_features)\n",
        "    ])),\n",
        "    (\"reg\" , Ridge())\n",
        "])\n",
        "grid = {\n",
        "    \"reg__alpha\":[0.01,0.1,1,10]\n",
        "}\n",
        "gsRid1 = GridSearchCV(model, grid, cv=kf, refit=True)\n",
        "gsRid1.fit(X_train, y_train)\n",
        "print_eval_scaled(X_val,y_val,gsRid1)\n",
        "print_param_eval(gsRid1)\n",
        "\n",
        "print_accuracy_with_confidence(X_val,y_val,gsRid1,0.95)"
      ],
      "execution_count": 35,
      "outputs": [
        {
          "output_type": "stream",
          "text": [
            "   Mean squared error: 3.3825e+07\n",
            "       Relative error: 16.64138%\n",
            "R-squared coefficient: 0.75316\n",
            "\n",
            "Dettagli parametri GridSearch:\n"
          ],
          "name": "stdout"
        },
        {
          "output_type": "display_data",
          "data": {
            "text/html": [
              "<div>\n",
              "<style scoped>\n",
              "    .dataframe tbody tr th:only-of-type {\n",
              "        vertical-align: middle;\n",
              "    }\n",
              "\n",
              "    .dataframe tbody tr th {\n",
              "        vertical-align: top;\n",
              "    }\n",
              "\n",
              "    .dataframe thead th {\n",
              "        text-align: right;\n",
              "    }\n",
              "</style>\n",
              "<table border=\"1\" class=\"dataframe\">\n",
              "  <thead>\n",
              "    <tr style=\"text-align: right;\">\n",
              "      <th></th>\n",
              "      <th>rank_test_score</th>\n",
              "      <th>mean_test_score</th>\n",
              "      <th>params</th>\n",
              "    </tr>\n",
              "  </thead>\n",
              "  <tbody>\n",
              "    <tr>\n",
              "      <th>2</th>\n",
              "      <td>1</td>\n",
              "      <td>0.779509</td>\n",
              "      <td>{'reg__alpha': 1}</td>\n",
              "    </tr>\n",
              "    <tr>\n",
              "      <th>1</th>\n",
              "      <td>2</td>\n",
              "      <td>0.777929</td>\n",
              "      <td>{'reg__alpha': 0.1}</td>\n",
              "    </tr>\n",
              "    <tr>\n",
              "      <th>0</th>\n",
              "      <td>3</td>\n",
              "      <td>0.777599</td>\n",
              "      <td>{'reg__alpha': 0.01}</td>\n",
              "    </tr>\n",
              "    <tr>\n",
              "      <th>3</th>\n",
              "      <td>4</td>\n",
              "      <td>0.771553</td>\n",
              "      <td>{'reg__alpha': 10}</td>\n",
              "    </tr>\n",
              "  </tbody>\n",
              "</table>\n",
              "</div>"
            ],
            "text/plain": [
              "   rank_test_score  mean_test_score                params\n",
              "2                1         0.779509     {'reg__alpha': 1}\n",
              "1                2         0.777929   {'reg__alpha': 0.1}\n",
              "0                3         0.777599  {'reg__alpha': 0.01}\n",
              "3                4         0.771553    {'reg__alpha': 10}"
            ]
          },
          "metadata": {
            "tags": []
          }
        },
        {
          "output_type": "stream",
          "text": [
            "\n",
            "Accuratezza con il 95.0% di confidenza:\n",
            "R^2 min: 0.7404574538211867\n",
            "R^2 max: 0.765855685108307\n"
          ],
          "name": "stdout"
        }
      ]
    },
    {
      "cell_type": "markdown",
      "metadata": {
        "id": "H-wV8miWyJnK"
      },
      "source": [
        "In questo caso notiamo che, tranne con alpha molto grande (e quindi con molta regolarizzazione), lo score rimanga più o meno lo stesso."
      ]
    },
    {
      "cell_type": "markdown",
      "metadata": {
        "id": "h09teW18jR52"
      },
      "source": [
        "###Regressione Ridge Polinomiale\n",
        "Testiamo di nuovo la regressione ridge, ma in questo caso aumentiamo la dimensionalità. La Grid Search, quindi constaterà il grado migliore a cui elevare le feature numeriche per ottenere un miglior score."
      ]
    },
    {
      "cell_type": "code",
      "metadata": {
        "colab": {
          "base_uri": "https://localhost:8080/",
          "height": 357
        },
        "id": "mslzzOMKiuHe",
        "outputId": "27391b8c-f527-469b-ea14-9e9bd6235d35"
      },
      "source": [
        "numeric_preproc = Pipeline([\n",
        "    (\"std\",StandardScaler()),\n",
        "    (\"poly\",PolynomialFeatures(include_bias=False))\n",
        "]);\n",
        "\n",
        "model = Pipeline([\n",
        "    (\"preproc\", ColumnTransformer([\n",
        "        (\"numeric\", numeric_preproc, numeric_features),\n",
        "        (\"categoric\", OneHotEncoder(handle_unknown=\"ignore\"), categoric_features)\n",
        "    ])),\n",
        "    (\"reg\" , Ridge())\n",
        "])\n",
        "grid = {\n",
        "    \"preproc__numeric__poly__degree\": [2, 3, 4],\n",
        "    \"reg__alpha\":[0.01,0.1,1,10]\n",
        "}\n",
        "gsRid2 = GridSearchCV(model, grid, cv=kf, refit=True)\n",
        "gsRid2.fit(X_train, y_train)\n",
        "print_eval_scaled(X_val,y_val,gsRid2)\n",
        "print_param_eval(gsRid2)\n",
        "print_accuracy_with_confidence(X_val,y_val,gsRid2,0.95)"
      ],
      "execution_count": 36,
      "outputs": [
        {
          "output_type": "stream",
          "text": [
            "   Mean squared error: 2.1743e+07\n",
            "       Relative error: 11.56841%\n",
            "R-squared coefficient: 0.84133\n",
            "\n",
            "Dettagli parametri GridSearch:\n"
          ],
          "name": "stdout"
        },
        {
          "output_type": "display_data",
          "data": {
            "text/html": [
              "<div>\n",
              "<style scoped>\n",
              "    .dataframe tbody tr th:only-of-type {\n",
              "        vertical-align: middle;\n",
              "    }\n",
              "\n",
              "    .dataframe tbody tr th {\n",
              "        vertical-align: top;\n",
              "    }\n",
              "\n",
              "    .dataframe thead th {\n",
              "        text-align: right;\n",
              "    }\n",
              "</style>\n",
              "<table border=\"1\" class=\"dataframe\">\n",
              "  <thead>\n",
              "    <tr style=\"text-align: right;\">\n",
              "      <th></th>\n",
              "      <th>rank_test_score</th>\n",
              "      <th>mean_test_score</th>\n",
              "      <th>params</th>\n",
              "    </tr>\n",
              "  </thead>\n",
              "  <tbody>\n",
              "    <tr>\n",
              "      <th>2</th>\n",
              "      <td>1</td>\n",
              "      <td>0.850740</td>\n",
              "      <td>{'preproc__numeric__poly__degree': 2, 'reg__alpha': 1}</td>\n",
              "    </tr>\n",
              "    <tr>\n",
              "      <th>1</th>\n",
              "      <td>2</td>\n",
              "      <td>0.848950</td>\n",
              "      <td>{'preproc__numeric__poly__degree': 2, 'reg__alpha': 0.1}</td>\n",
              "    </tr>\n",
              "    <tr>\n",
              "      <th>0</th>\n",
              "      <td>3</td>\n",
              "      <td>0.848617</td>\n",
              "      <td>{'preproc__numeric__poly__degree': 2, 'reg__alpha': 0.01}</td>\n",
              "    </tr>\n",
              "    <tr>\n",
              "      <th>8</th>\n",
              "      <td>4</td>\n",
              "      <td>0.847789</td>\n",
              "      <td>{'preproc__numeric__poly__degree': 4, 'reg__alpha': 0.01}</td>\n",
              "    </tr>\n",
              "    <tr>\n",
              "      <th>9</th>\n",
              "      <td>5</td>\n",
              "      <td>0.847783</td>\n",
              "      <td>{'preproc__numeric__poly__degree': 4, 'reg__alpha': 0.1}</td>\n",
              "    </tr>\n",
              "  </tbody>\n",
              "</table>\n",
              "</div>"
            ],
            "text/plain": [
              "   rank_test_score  ...                                                     params\n",
              "2                1  ...     {'preproc__numeric__poly__degree': 2, 'reg__alpha': 1}\n",
              "1                2  ...   {'preproc__numeric__poly__degree': 2, 'reg__alpha': 0.1}\n",
              "0                3  ...  {'preproc__numeric__poly__degree': 2, 'reg__alpha': 0.01}\n",
              "8                4  ...  {'preproc__numeric__poly__degree': 4, 'reg__alpha': 0.01}\n",
              "9                5  ...   {'preproc__numeric__poly__degree': 4, 'reg__alpha': 0.1}\n",
              "\n",
              "[5 rows x 3 columns]"
            ]
          },
          "metadata": {
            "tags": []
          }
        },
        {
          "output_type": "stream",
          "text": [
            "\n",
            "Accuratezza con il 95.0% di confidenza:\n",
            "R^2 min: 0.8326988305362005\n",
            "R^2 max: 0.8499542625268633\n"
          ],
          "name": "stdout"
        }
      ]
    },
    {
      "cell_type": "markdown",
      "metadata": {
        "id": "nU3Bdee8zqik"
      },
      "source": [
        "Rispetto al modello lineare, notiamo subito un grande miglioramento per quanto riguarda lo score, che ora si aggira sul 0.84. Nonostante ciò, tale score risulta essere simile a quello ottenuto senza regolarizzazione."
      ]
    },
    {
      "cell_type": "markdown",
      "metadata": {
        "id": "3xqRsf_q1y6a"
      },
      "source": [
        "###Regressione Ridge Polinomiale (includendo feature categoriche polinomiali)\n",
        "\n",
        "In questo caso, invece di elevare la dimensionalità delle sole feature numeriche, generiamo le feature polinomiali di tutte le colonne ottenute in seguito al preprocessing. Per evitare di avere le feature polinomiali delle variabili categoriche encoded, le quali sarebbero ridondanti, si imposterà il parametro **interaction_only a True**, così da utilizzare solo le combinazioni tra le variabili prodotte dal preprocessore."
      ]
    },
    {
      "cell_type": "code",
      "metadata": {
        "colab": {
          "base_uri": "https://localhost:8080/",
          "height": 326
        },
        "id": "56wCa3-r0xoo",
        "outputId": "de0bc9ef-f142-49c5-daa4-c0699245e90b"
      },
      "source": [
        "model = Pipeline([\n",
        "    (\"preproc\", ColumnTransformer([\n",
        "        (\"numeric\", StandardScaler(), numeric_features),\n",
        "        (\"categoric\", OneHotEncoder(handle_unknown=\"ignore\"), categoric_features)\n",
        "    ])),\n",
        "    (\"poly\", PolynomialFeatures(include_bias=False,interaction_only=True)),\n",
        "    (\"reg\" , Ridge())\n",
        "])\n",
        "grid = {\n",
        "    \"reg__alpha\":[0.01,0.1,1,10]\n",
        "}\n",
        "gsRid3 = GridSearchCV(model, grid, cv=kf, refit=True)\n",
        "gsRid3.fit(X_train, y_train)\n",
        "print_eval_scaled(X_val,y_val,gsRid3)\n",
        "print_param_eval(gsRid3)\n",
        "print_accuracy_with_confidence(X_val,y_val,gsRid3,0.95)"
      ],
      "execution_count": null,
      "outputs": [
        {
          "output_type": "stream",
          "text": [
            "   Mean squared error: 1.6385e+07\n",
            "       Relative error: 10.19223%\n",
            "R-squared coefficient: 0.88043\n",
            "\n",
            "Dettagli parametri GridSearch:\n"
          ],
          "name": "stdout"
        },
        {
          "output_type": "display_data",
          "data": {
            "text/html": [
              "<div>\n",
              "<style scoped>\n",
              "    .dataframe tbody tr th:only-of-type {\n",
              "        vertical-align: middle;\n",
              "    }\n",
              "\n",
              "    .dataframe tbody tr th {\n",
              "        vertical-align: top;\n",
              "    }\n",
              "\n",
              "    .dataframe thead th {\n",
              "        text-align: right;\n",
              "    }\n",
              "</style>\n",
              "<table border=\"1\" class=\"dataframe\">\n",
              "  <thead>\n",
              "    <tr style=\"text-align: right;\">\n",
              "      <th></th>\n",
              "      <th>rank_test_score</th>\n",
              "      <th>mean_test_score</th>\n",
              "      <th>params</th>\n",
              "    </tr>\n",
              "  </thead>\n",
              "  <tbody>\n",
              "    <tr>\n",
              "      <th>3</th>\n",
              "      <td>1</td>\n",
              "      <td>0.900943</td>\n",
              "      <td>{'reg__alpha': 10}</td>\n",
              "    </tr>\n",
              "    <tr>\n",
              "      <th>2</th>\n",
              "      <td>2</td>\n",
              "      <td>0.899753</td>\n",
              "      <td>{'reg__alpha': 1}</td>\n",
              "    </tr>\n",
              "    <tr>\n",
              "      <th>1</th>\n",
              "      <td>3</td>\n",
              "      <td>0.898768</td>\n",
              "      <td>{'reg__alpha': 0.1}</td>\n",
              "    </tr>\n",
              "    <tr>\n",
              "      <th>0</th>\n",
              "      <td>4</td>\n",
              "      <td>0.898092</td>\n",
              "      <td>{'reg__alpha': 0.01}</td>\n",
              "    </tr>\n",
              "  </tbody>\n",
              "</table>\n",
              "</div>"
            ],
            "text/plain": [
              "   rank_test_score  mean_test_score                params\n",
              "3                1         0.900943    {'reg__alpha': 10}\n",
              "2                2         0.899753     {'reg__alpha': 1}\n",
              "1                3         0.898768   {'reg__alpha': 0.1}\n",
              "0                4         0.898092  {'reg__alpha': 0.01}"
            ]
          },
          "metadata": {
            "tags": []
          }
        },
        {
          "output_type": "stream",
          "text": [
            "\n",
            "Accuratezza con il 95.0% di confidenza:\n",
            "R^2 min: 0.8737801918573658\n",
            "R^2 max: 0.8870818404769072\n"
          ],
          "name": "stdout"
        }
      ]
    },
    {
      "cell_type": "markdown",
      "metadata": {
        "id": "gg_D7DGp3Cf6"
      },
      "source": [
        "Notiamo un ulteriore miglioramento rispetto al modello precedente; in questo caso viene preferita una regolarizzazione più elevata."
      ]
    },
    {
      "cell_type": "markdown",
      "metadata": {
        "id": "eS_mDrJas2w5"
      },
      "source": [
        "###Regressione Lasso\n",
        "\n",
        "Creiamo ora dei modelli che utilizzano la regolarizzazione L1 mediante Lasso."
      ]
    },
    {
      "cell_type": "code",
      "metadata": {
        "id": "2V5Po3hcs2U1",
        "colab": {
          "base_uri": "https://localhost:8080/",
          "height": 326
        },
        "outputId": "c9be85d1-2409-4fd4-8d73-95ff74cecac5"
      },
      "source": [
        "model = Pipeline([\n",
        "    (\"preproc\", ColumnTransformer([\n",
        "        (\"numeric\", StandardScaler(), numeric_features),\n",
        "        (\"categoric\", OneHotEncoder(handle_unknown=\"ignore\"), categoric_features)\n",
        "    ])),\n",
        "    (\"reg\" , Lasso())\n",
        "])\n",
        "grid = {\n",
        "    \"reg__alpha\":[0.01,0.1,1,10]\n",
        "}\n",
        "gsLas1 = GridSearchCV(model, grid, cv=kf, refit=True)\n",
        "gsLas1.fit(X_train, y_train)\n",
        "print_eval_scaled(X_val,y_val,gsLas1)\n",
        "print_param_eval(gsLas1)\n",
        "print_accuracy_with_confidence(X_val,y_val,gsLas1,0.95)"
      ],
      "execution_count": 37,
      "outputs": [
        {
          "output_type": "stream",
          "text": [
            "   Mean squared error: 4.0546e+07\n",
            "       Relative error: 17.82186%\n",
            "R-squared coefficient: 0.70411\n",
            "\n",
            "Dettagli parametri GridSearch:\n"
          ],
          "name": "stdout"
        },
        {
          "output_type": "display_data",
          "data": {
            "text/html": [
              "<div>\n",
              "<style scoped>\n",
              "    .dataframe tbody tr th:only-of-type {\n",
              "        vertical-align: middle;\n",
              "    }\n",
              "\n",
              "    .dataframe tbody tr th {\n",
              "        vertical-align: top;\n",
              "    }\n",
              "\n",
              "    .dataframe thead th {\n",
              "        text-align: right;\n",
              "    }\n",
              "</style>\n",
              "<table border=\"1\" class=\"dataframe\">\n",
              "  <thead>\n",
              "    <tr style=\"text-align: right;\">\n",
              "      <th></th>\n",
              "      <th>rank_test_score</th>\n",
              "      <th>mean_test_score</th>\n",
              "      <th>params</th>\n",
              "    </tr>\n",
              "  </thead>\n",
              "  <tbody>\n",
              "    <tr>\n",
              "      <th>0</th>\n",
              "      <td>1</td>\n",
              "      <td>0.721737</td>\n",
              "      <td>{'reg__alpha': 0.01}</td>\n",
              "    </tr>\n",
              "    <tr>\n",
              "      <th>1</th>\n",
              "      <td>2</td>\n",
              "      <td>0.678031</td>\n",
              "      <td>{'reg__alpha': 0.1}</td>\n",
              "    </tr>\n",
              "    <tr>\n",
              "      <th>2</th>\n",
              "      <td>3</td>\n",
              "      <td>-0.000803</td>\n",
              "      <td>{'reg__alpha': 1}</td>\n",
              "    </tr>\n",
              "    <tr>\n",
              "      <th>3</th>\n",
              "      <td>3</td>\n",
              "      <td>-0.000803</td>\n",
              "      <td>{'reg__alpha': 10}</td>\n",
              "    </tr>\n",
              "  </tbody>\n",
              "</table>\n",
              "</div>"
            ],
            "text/plain": [
              "   rank_test_score  mean_test_score                params\n",
              "0                1         0.721737  {'reg__alpha': 0.01}\n",
              "1                2         0.678031   {'reg__alpha': 0.1}\n",
              "2                3        -0.000803     {'reg__alpha': 1}\n",
              "3                3        -0.000803    {'reg__alpha': 10}"
            ]
          },
          "metadata": {
            "tags": []
          }
        },
        {
          "output_type": "stream",
          "text": [
            "\n",
            "Accuratezza con il 95.0% di confidenza:\n",
            "R^2 min: 0.6893947553732059\n",
            "R^2 max: 0.7188312654541674\n"
          ],
          "name": "stdout"
        }
      ]
    },
    {
      "cell_type": "markdown",
      "metadata": {
        "id": "X4V2kfvKOlV5"
      },
      "source": [
        "Otteniamo in questo caso uno score più basso del modello Ridge lineare."
      ]
    },
    {
      "cell_type": "markdown",
      "metadata": {
        "id": "FEj6g-fovwyY"
      },
      "source": [
        "###Regressione Lasso polinomiale\n",
        "Testiamo ora la regressione Lasso utilizzando anche le feature polinomiali generate partendo dalle sole variabili numeriche."
      ]
    },
    {
      "cell_type": "code",
      "metadata": {
        "colab": {
          "base_uri": "https://localhost:8080/",
          "height": 357
        },
        "id": "WBpndm0MvwGU",
        "outputId": "2178e706-43e9-433e-e2e5-834072f6130d"
      },
      "source": [
        "numeric_preproc = Pipeline([\n",
        "    (\"std\",StandardScaler()),\n",
        "    (\"poly\",PolynomialFeatures(include_bias=False))\n",
        "]);\n",
        "\n",
        "model = Pipeline([\n",
        "    (\"preproc\", ColumnTransformer([\n",
        "        (\"numeric\", numeric_preproc, numeric_features),\n",
        "        (\"categoric\", OneHotEncoder(handle_unknown=\"ignore\"), categoric_features)\n",
        "    ])),\n",
        "    (\"reg\" , Lasso())\n",
        "])\n",
        "grid = {\n",
        "    \"preproc__numeric__poly__degree\": [2, 3, 4],\n",
        "    \"reg__alpha\":[0.01,0.1,1,10],\n",
        "}\n",
        "gsLas2 = GridSearchCV(model, grid, cv=kf, refit=True)\n",
        "gsLas2.fit(X_train, y_train)\n",
        "print_eval_scaled(X_val,y_val,gsLas2)\n",
        "print_param_eval(gsLas2)\n",
        "print_accuracy_with_confidence(X_val,y_val,gsLas2,0.95)"
      ],
      "execution_count": 38,
      "outputs": [
        {
          "output_type": "stream",
          "text": [
            "   Mean squared error: 2.574e+07\n",
            "       Relative error: 12.67452%\n",
            "R-squared coefficient: 0.81216\n",
            "\n",
            "Dettagli parametri GridSearch:\n"
          ],
          "name": "stdout"
        },
        {
          "output_type": "display_data",
          "data": {
            "text/html": [
              "<div>\n",
              "<style scoped>\n",
              "    .dataframe tbody tr th:only-of-type {\n",
              "        vertical-align: middle;\n",
              "    }\n",
              "\n",
              "    .dataframe tbody tr th {\n",
              "        vertical-align: top;\n",
              "    }\n",
              "\n",
              "    .dataframe thead th {\n",
              "        text-align: right;\n",
              "    }\n",
              "</style>\n",
              "<table border=\"1\" class=\"dataframe\">\n",
              "  <thead>\n",
              "    <tr style=\"text-align: right;\">\n",
              "      <th></th>\n",
              "      <th>rank_test_score</th>\n",
              "      <th>mean_test_score</th>\n",
              "      <th>params</th>\n",
              "    </tr>\n",
              "  </thead>\n",
              "  <tbody>\n",
              "    <tr>\n",
              "      <th>8</th>\n",
              "      <td>1</td>\n",
              "      <td>0.821883</td>\n",
              "      <td>{'preproc__numeric__poly__degree': 4, 'reg__alpha': 0.01}</td>\n",
              "    </tr>\n",
              "    <tr>\n",
              "      <th>4</th>\n",
              "      <td>2</td>\n",
              "      <td>0.819057</td>\n",
              "      <td>{'preproc__numeric__poly__degree': 3, 'reg__alpha': 0.01}</td>\n",
              "    </tr>\n",
              "    <tr>\n",
              "      <th>0</th>\n",
              "      <td>3</td>\n",
              "      <td>0.805295</td>\n",
              "      <td>{'preproc__numeric__poly__degree': 2, 'reg__alpha': 0.01}</td>\n",
              "    </tr>\n",
              "    <tr>\n",
              "      <th>5</th>\n",
              "      <td>4</td>\n",
              "      <td>0.734444</td>\n",
              "      <td>{'preproc__numeric__poly__degree': 3, 'reg__alpha': 0.1}</td>\n",
              "    </tr>\n",
              "    <tr>\n",
              "      <th>1</th>\n",
              "      <td>5</td>\n",
              "      <td>0.733101</td>\n",
              "      <td>{'preproc__numeric__poly__degree': 2, 'reg__alpha': 0.1}</td>\n",
              "    </tr>\n",
              "  </tbody>\n",
              "</table>\n",
              "</div>"
            ],
            "text/plain": [
              "   rank_test_score  ...                                                     params\n",
              "8                1  ...  {'preproc__numeric__poly__degree': 4, 'reg__alpha': 0.01}\n",
              "4                2  ...  {'preproc__numeric__poly__degree': 3, 'reg__alpha': 0.01}\n",
              "0                3  ...  {'preproc__numeric__poly__degree': 2, 'reg__alpha': 0.01}\n",
              "5                4  ...   {'preproc__numeric__poly__degree': 3, 'reg__alpha': 0.1}\n",
              "1                5  ...   {'preproc__numeric__poly__degree': 2, 'reg__alpha': 0.1}\n",
              "\n",
              "[5 rows x 3 columns]"
            ]
          },
          "metadata": {
            "tags": []
          }
        },
        {
          "output_type": "stream",
          "text": [
            "\n",
            "Accuratezza con il 95.0% di confidenza:\n",
            "R^2 min: 0.8021271017971013\n",
            "R^2 max: 0.8221969461845223\n"
          ],
          "name": "stdout"
        }
      ]
    },
    {
      "cell_type": "markdown",
      "metadata": {
        "id": "dcIFPMMY4kTA"
      },
      "source": [
        "Come nel caso della regressione Ridge, anche in questo caso l'utilizzo delle feature polinomiali porta ad un sensibile miglioramento dello score rispetto al caso lineare."
      ]
    },
    {
      "cell_type": "markdown",
      "metadata": {
        "id": "_lpZO8o73tR3"
      },
      "source": [
        "###Regressione Lasso Polinomiale (includendo feature categoriche polinomiali)"
      ]
    },
    {
      "cell_type": "markdown",
      "metadata": {
        "id": "zuDU1g7PO4tV"
      },
      "source": [
        "Ripetiamo, come con Ridge, la creazione di un modello con feature polinomiali, considerando solo i termini che rappresentano combinazioni di variabili."
      ]
    },
    {
      "cell_type": "code",
      "metadata": {
        "colab": {
          "base_uri": "https://localhost:8080/",
          "height": 326
        },
        "id": "lotIYsQO3Rww",
        "outputId": "0c4a6bc5-db04-4154-ba92-1e79a2eb79ad"
      },
      "source": [
        "model = Pipeline([\n",
        "    (\"preproc\", ColumnTransformer([\n",
        "        (\"numeric\", StandardScaler(), numeric_features),\n",
        "        (\"categoric\", OneHotEncoder(handle_unknown=\"ignore\"), categoric_features)\n",
        "    ])),\n",
        "    (\"poly\",PolynomialFeatures(include_bias=False,interaction_only=True)),\n",
        "    (\"reg\" , Lasso())\n",
        "])\n",
        "grid = {\n",
        "    \"reg__alpha\":[0.01,0.1,1,10],\n",
        "}\n",
        "gsLas3 = GridSearchCV(model, grid, cv=kf, refit=True)\n",
        "gsLas3.fit(X_train, y_train)\n",
        "print_eval_scaled(X_val,y_val,gsLas3)\n",
        "print_param_eval(gsLas3)\n",
        "print_accuracy_with_confidence(X_val,y_val,gsLas3,0.95)"
      ],
      "execution_count": 39,
      "outputs": [
        {
          "output_type": "stream",
          "text": [
            "   Mean squared error: 2.2193e+07\n",
            "       Relative error: 12.61243%\n",
            "R-squared coefficient: 0.83804\n",
            "\n",
            "Dettagli parametri GridSearch:\n"
          ],
          "name": "stdout"
        },
        {
          "output_type": "display_data",
          "data": {
            "text/html": [
              "<div>\n",
              "<style scoped>\n",
              "    .dataframe tbody tr th:only-of-type {\n",
              "        vertical-align: middle;\n",
              "    }\n",
              "\n",
              "    .dataframe tbody tr th {\n",
              "        vertical-align: top;\n",
              "    }\n",
              "\n",
              "    .dataframe thead th {\n",
              "        text-align: right;\n",
              "    }\n",
              "</style>\n",
              "<table border=\"1\" class=\"dataframe\">\n",
              "  <thead>\n",
              "    <tr style=\"text-align: right;\">\n",
              "      <th></th>\n",
              "      <th>rank_test_score</th>\n",
              "      <th>mean_test_score</th>\n",
              "      <th>params</th>\n",
              "    </tr>\n",
              "  </thead>\n",
              "  <tbody>\n",
              "    <tr>\n",
              "      <th>0</th>\n",
              "      <td>1</td>\n",
              "      <td>0.834782</td>\n",
              "      <td>{'reg__alpha': 0.01}</td>\n",
              "    </tr>\n",
              "    <tr>\n",
              "      <th>1</th>\n",
              "      <td>2</td>\n",
              "      <td>0.711374</td>\n",
              "      <td>{'reg__alpha': 0.1}</td>\n",
              "    </tr>\n",
              "    <tr>\n",
              "      <th>2</th>\n",
              "      <td>3</td>\n",
              "      <td>-0.000803</td>\n",
              "      <td>{'reg__alpha': 1}</td>\n",
              "    </tr>\n",
              "    <tr>\n",
              "      <th>3</th>\n",
              "      <td>3</td>\n",
              "      <td>-0.000803</td>\n",
              "      <td>{'reg__alpha': 10}</td>\n",
              "    </tr>\n",
              "  </tbody>\n",
              "</table>\n",
              "</div>"
            ],
            "text/plain": [
              "   rank_test_score  mean_test_score                params\n",
              "0                1         0.834782  {'reg__alpha': 0.01}\n",
              "1                2         0.711374   {'reg__alpha': 0.1}\n",
              "2                3        -0.000803     {'reg__alpha': 1}\n",
              "3                3        -0.000803    {'reg__alpha': 10}"
            ]
          },
          "metadata": {
            "tags": []
          }
        },
        {
          "output_type": "stream",
          "text": [
            "\n",
            "Accuratezza con il 95.0% di confidenza:\n",
            "R^2 min: 0.8292523290647885\n",
            "R^2 max: 0.8468305886761341\n"
          ],
          "name": "stdout"
        }
      ]
    },
    {
      "cell_type": "markdown",
      "metadata": {
        "id": "86qHrTpyJxNG"
      },
      "source": [
        "A dispetto della Ridge Regression, l'inclusione delle feature categoriche polinomiali non ha migliorato di molto lo score r^2."
      ]
    },
    {
      "cell_type": "markdown",
      "metadata": {
        "id": "pOh-kH7GlJAx"
      },
      "source": [
        "###Elastic Net\n",
        "\n",
        "Ora creiamo un modello che utilizza entrambe le regolarizzazioni, partendo dal caso di feature lineari, passando poi per quello con feature polinomiali numeriche e infine quello con tutte le feature polinomiali.\n",
        "In questo caso, si cercherà anche il valore migliore dell'iperparametro l1_ratio, ossia l'importanza della regolarizzazione L1 rispetto a quella L2."
      ]
    },
    {
      "cell_type": "code",
      "metadata": {
        "colab": {
          "base_uri": "https://localhost:8080/",
          "height": 357
        },
        "id": "CLxwwr-P47Mk",
        "outputId": "b0ed55ed-964f-4bac-945e-c6361b43a088"
      },
      "source": [
        "model = Pipeline([\n",
        "    (\"preproc\", ColumnTransformer([\n",
        "        (\"numeric\", StandardScaler(), numeric_features),\n",
        "        (\"categoric\", OneHotEncoder(handle_unknown=\"ignore\"), categoric_features)\n",
        "    ])),\n",
        "    (\"reg\" , ElasticNet())\n",
        "])\n",
        "grid = {\n",
        "    \"reg__alpha\":[0.01,0.1,1,10],\n",
        "    \"reg__l1_ratio\": [0.1, 0.2, 0.3]\n",
        "}\n",
        "gsEla1 = GridSearchCV(model, grid, cv=kf, refit=True)\n",
        "gsEla1.fit(X_train, y_train)\n",
        "print_eval_scaled(X_val,y_val,gsEla1)\n",
        "print_param_eval(gsEla1)\n",
        "print_accuracy_with_confidence(X_val,y_val,gsEla1,0.95)"
      ],
      "execution_count": 40,
      "outputs": [
        {
          "output_type": "stream",
          "text": [
            "   Mean squared error: 3.6454e+07\n",
            "       Relative error: 17.03506%\n",
            "R-squared coefficient: 0.73397\n",
            "\n",
            "Dettagli parametri GridSearch:\n"
          ],
          "name": "stdout"
        },
        {
          "output_type": "display_data",
          "data": {
            "text/html": [
              "<div>\n",
              "<style scoped>\n",
              "    .dataframe tbody tr th:only-of-type {\n",
              "        vertical-align: middle;\n",
              "    }\n",
              "\n",
              "    .dataframe tbody tr th {\n",
              "        vertical-align: top;\n",
              "    }\n",
              "\n",
              "    .dataframe thead th {\n",
              "        text-align: right;\n",
              "    }\n",
              "</style>\n",
              "<table border=\"1\" class=\"dataframe\">\n",
              "  <thead>\n",
              "    <tr style=\"text-align: right;\">\n",
              "      <th></th>\n",
              "      <th>rank_test_score</th>\n",
              "      <th>mean_test_score</th>\n",
              "      <th>params</th>\n",
              "    </tr>\n",
              "  </thead>\n",
              "  <tbody>\n",
              "    <tr>\n",
              "      <th>0</th>\n",
              "      <td>1</td>\n",
              "      <td>0.752276</td>\n",
              "      <td>{'reg__alpha': 0.01, 'reg__l1_ratio': 0.1}</td>\n",
              "    </tr>\n",
              "    <tr>\n",
              "      <th>1</th>\n",
              "      <td>2</td>\n",
              "      <td>0.748884</td>\n",
              "      <td>{'reg__alpha': 0.01, 'reg__l1_ratio': 0.2}</td>\n",
              "    </tr>\n",
              "    <tr>\n",
              "      <th>2</th>\n",
              "      <td>3</td>\n",
              "      <td>0.745056</td>\n",
              "      <td>{'reg__alpha': 0.01, 'reg__l1_ratio': 0.3}</td>\n",
              "    </tr>\n",
              "    <tr>\n",
              "      <th>3</th>\n",
              "      <td>4</td>\n",
              "      <td>0.708183</td>\n",
              "      <td>{'reg__alpha': 0.1, 'reg__l1_ratio': 0.1}</td>\n",
              "    </tr>\n",
              "    <tr>\n",
              "      <th>4</th>\n",
              "      <td>5</td>\n",
              "      <td>0.697787</td>\n",
              "      <td>{'reg__alpha': 0.1, 'reg__l1_ratio': 0.2}</td>\n",
              "    </tr>\n",
              "  </tbody>\n",
              "</table>\n",
              "</div>"
            ],
            "text/plain": [
              "   rank_test_score  mean_test_score                                      params\n",
              "0                1         0.752276  {'reg__alpha': 0.01, 'reg__l1_ratio': 0.1}\n",
              "1                2         0.748884  {'reg__alpha': 0.01, 'reg__l1_ratio': 0.2}\n",
              "2                3         0.745056  {'reg__alpha': 0.01, 'reg__l1_ratio': 0.3}\n",
              "3                4         0.708183   {'reg__alpha': 0.1, 'reg__l1_ratio': 0.1}\n",
              "4                5         0.697787   {'reg__alpha': 0.1, 'reg__l1_ratio': 0.2}"
            ]
          },
          "metadata": {
            "tags": []
          }
        },
        {
          "output_type": "stream",
          "text": [
            "\n",
            "Accuratezza con il 95.0% di confidenza:\n",
            "R^2 min: 0.7204622487740453\n",
            "R^2 max: 0.747483484328842\n"
          ],
          "name": "stdout"
        }
      ]
    },
    {
      "cell_type": "markdown",
      "metadata": {
        "id": "9CGLUYwT44ao"
      },
      "source": [
        "###Elastic Net polinomiale"
      ]
    },
    {
      "cell_type": "code",
      "metadata": {
        "colab": {
          "base_uri": "https://localhost:8080/",
          "height": 357
        },
        "id": "ALqk4uk8jWPZ",
        "outputId": "4f07eb52-c576-4bea-d2cf-b98cc770116f"
      },
      "source": [
        "numeric_preproc = Pipeline([\n",
        "    (\"std\",StandardScaler()),\n",
        "    (\"poly\",PolynomialFeatures(include_bias=False))\n",
        "]);\n",
        "\n",
        "model = Pipeline([\n",
        "    (\"preproc\", ColumnTransformer([\n",
        "        (\"numeric\", numeric_preproc, numeric_features),\n",
        "        (\"categoric\", OneHotEncoder(handle_unknown=\"ignore\"), categoric_features)\n",
        "    ])),\n",
        "    (\"reg\" , ElasticNet())\n",
        "])\n",
        "grid = {\n",
        "    \"preproc__numeric__poly__degree\": [2, 3, 4],\n",
        "    \"reg__alpha\":[0.01,0.1,1,10],\n",
        "    \"reg__l1_ratio\": [0.1, 0.2, 0.3]\n",
        "}\n",
        "gsEla2 = GridSearchCV(model, grid, cv=kf, refit=True)\n",
        "gsEla2.fit(X_train, y_train)\n",
        "print_eval_scaled(X_val,y_val,gsEla2)\n",
        "print_param_eval(gsEla2)\n",
        "print_accuracy_with_confidence(X_val,y_val,gsEla2,0.95)"
      ],
      "execution_count": 41,
      "outputs": [
        {
          "output_type": "stream",
          "text": [
            "   Mean squared error: 2.3476e+07\n",
            "       Relative error: 11.70967%\n",
            "R-squared coefficient: 0.82868\n",
            "\n",
            "Dettagli parametri GridSearch:\n"
          ],
          "name": "stdout"
        },
        {
          "output_type": "display_data",
          "data": {
            "text/html": [
              "<div>\n",
              "<style scoped>\n",
              "    .dataframe tbody tr th:only-of-type {\n",
              "        vertical-align: middle;\n",
              "    }\n",
              "\n",
              "    .dataframe tbody tr th {\n",
              "        vertical-align: top;\n",
              "    }\n",
              "\n",
              "    .dataframe thead th {\n",
              "        text-align: right;\n",
              "    }\n",
              "</style>\n",
              "<table border=\"1\" class=\"dataframe\">\n",
              "  <thead>\n",
              "    <tr style=\"text-align: right;\">\n",
              "      <th></th>\n",
              "      <th>rank_test_score</th>\n",
              "      <th>mean_test_score</th>\n",
              "      <th>params</th>\n",
              "    </tr>\n",
              "  </thead>\n",
              "  <tbody>\n",
              "    <tr>\n",
              "      <th>24</th>\n",
              "      <td>1</td>\n",
              "      <td>0.840802</td>\n",
              "      <td>{'preproc__numeric__poly__degree': 4, 'reg__alpha': 0.01, 'reg__l1_ratio': 0.1}</td>\n",
              "    </tr>\n",
              "    <tr>\n",
              "      <th>25</th>\n",
              "      <td>2</td>\n",
              "      <td>0.840510</td>\n",
              "      <td>{'preproc__numeric__poly__degree': 4, 'reg__alpha': 0.01, 'reg__l1_ratio': 0.2}</td>\n",
              "    </tr>\n",
              "    <tr>\n",
              "      <th>26</th>\n",
              "      <td>3</td>\n",
              "      <td>0.839277</td>\n",
              "      <td>{'preproc__numeric__poly__degree': 4, 'reg__alpha': 0.01, 'reg__l1_ratio': 0.3}</td>\n",
              "    </tr>\n",
              "    <tr>\n",
              "      <th>13</th>\n",
              "      <td>4</td>\n",
              "      <td>0.831790</td>\n",
              "      <td>{'preproc__numeric__poly__degree': 3, 'reg__alpha': 0.01, 'reg__l1_ratio': 0.2}</td>\n",
              "    </tr>\n",
              "    <tr>\n",
              "      <th>12</th>\n",
              "      <td>5</td>\n",
              "      <td>0.831658</td>\n",
              "      <td>{'preproc__numeric__poly__degree': 3, 'reg__alpha': 0.01, 'reg__l1_ratio': 0.1}</td>\n",
              "    </tr>\n",
              "  </tbody>\n",
              "</table>\n",
              "</div>"
            ],
            "text/plain": [
              "    rank_test_score  ...                                                                           params\n",
              "24                1  ...  {'preproc__numeric__poly__degree': 4, 'reg__alpha': 0.01, 'reg__l1_ratio': 0.1}\n",
              "25                2  ...  {'preproc__numeric__poly__degree': 4, 'reg__alpha': 0.01, 'reg__l1_ratio': 0.2}\n",
              "26                3  ...  {'preproc__numeric__poly__degree': 4, 'reg__alpha': 0.01, 'reg__l1_ratio': 0.3}\n",
              "13                4  ...  {'preproc__numeric__poly__degree': 3, 'reg__alpha': 0.01, 'reg__l1_ratio': 0.2}\n",
              "12                5  ...  {'preproc__numeric__poly__degree': 3, 'reg__alpha': 0.01, 'reg__l1_ratio': 0.1}\n",
              "\n",
              "[5 rows x 3 columns]"
            ]
          },
          "metadata": {
            "tags": []
          }
        },
        {
          "output_type": "stream",
          "text": [
            "\n",
            "Accuratezza con il 95.0% di confidenza:\n",
            "R^2 min: 0.8194374139703243\n",
            "R^2 max: 0.8379273474665955\n"
          ],
          "name": "stdout"
        }
      ]
    },
    {
      "cell_type": "markdown",
      "metadata": {
        "id": "M6YevPydQGVB"
      },
      "source": [
        "Lo score si avvicina, ma non supera, quello ottenuto dal modello con la sola regolarizzazione L2."
      ]
    },
    {
      "cell_type": "markdown",
      "metadata": {
        "id": "gSMnxwWLGQuM"
      },
      "source": [
        "###Elastic Net polinomiale (includendo feature categoriche polinomiali)"
      ]
    },
    {
      "cell_type": "code",
      "metadata": {
        "colab": {
          "base_uri": "https://localhost:8080/",
          "height": 357
        },
        "id": "G8CJXzseBgVu",
        "outputId": "eb1386bc-1524-4fa1-e8e5-31e219f10ec6"
      },
      "source": [
        "model = Pipeline([\n",
        "    (\"preproc\", ColumnTransformer([\n",
        "        (\"numeric\", StandardScaler(), numeric_features),\n",
        "        (\"categoric\", OneHotEncoder(handle_unknown=\"ignore\"), categoric_features)\n",
        "    ])),\n",
        "    (\"poly\",PolynomialFeatures(include_bias=False,interaction_only=True)),\n",
        "    (\"reg\" , ElasticNet())\n",
        "])\n",
        "grid = {\n",
        "    \"reg__alpha\":[0.01,0.1,1,10],\n",
        "    \"reg__l1_ratio\": [0.1, 0.2, 0.3]\n",
        "}\n",
        "\n",
        "gsEla3 = GridSearchCV(model, grid, cv=kf, refit=True)\n",
        "gsEla3.fit(X_train, y_train)\n",
        "print_eval_scaled(X_val,y_val,gsEla3)\n",
        "print_param_eval(gsEla3)\n",
        "print_accuracy_with_confidence(X_val,y_val,gsEla3,0.95)"
      ],
      "execution_count": 42,
      "outputs": [
        {
          "output_type": "stream",
          "text": [
            "   Mean squared error: 1.654e+07\n",
            "       Relative error: 10.71328%\n",
            "R-squared coefficient: 0.8793\n",
            "\n",
            "Dettagli parametri GridSearch:\n"
          ],
          "name": "stdout"
        },
        {
          "output_type": "display_data",
          "data": {
            "text/html": [
              "<div>\n",
              "<style scoped>\n",
              "    .dataframe tbody tr th:only-of-type {\n",
              "        vertical-align: middle;\n",
              "    }\n",
              "\n",
              "    .dataframe tbody tr th {\n",
              "        vertical-align: top;\n",
              "    }\n",
              "\n",
              "    .dataframe thead th {\n",
              "        text-align: right;\n",
              "    }\n",
              "</style>\n",
              "<table border=\"1\" class=\"dataframe\">\n",
              "  <thead>\n",
              "    <tr style=\"text-align: right;\">\n",
              "      <th></th>\n",
              "      <th>rank_test_score</th>\n",
              "      <th>mean_test_score</th>\n",
              "      <th>params</th>\n",
              "    </tr>\n",
              "  </thead>\n",
              "  <tbody>\n",
              "    <tr>\n",
              "      <th>0</th>\n",
              "      <td>1</td>\n",
              "      <td>0.884829</td>\n",
              "      <td>{'reg__alpha': 0.01, 'reg__l1_ratio': 0.1}</td>\n",
              "    </tr>\n",
              "    <tr>\n",
              "      <th>1</th>\n",
              "      <td>2</td>\n",
              "      <td>0.877508</td>\n",
              "      <td>{'reg__alpha': 0.01, 'reg__l1_ratio': 0.2}</td>\n",
              "    </tr>\n",
              "    <tr>\n",
              "      <th>2</th>\n",
              "      <td>3</td>\n",
              "      <td>0.871308</td>\n",
              "      <td>{'reg__alpha': 0.01, 'reg__l1_ratio': 0.3}</td>\n",
              "    </tr>\n",
              "    <tr>\n",
              "      <th>3</th>\n",
              "      <td>4</td>\n",
              "      <td>0.808137</td>\n",
              "      <td>{'reg__alpha': 0.1, 'reg__l1_ratio': 0.1}</td>\n",
              "    </tr>\n",
              "    <tr>\n",
              "      <th>4</th>\n",
              "      <td>5</td>\n",
              "      <td>0.790020</td>\n",
              "      <td>{'reg__alpha': 0.1, 'reg__l1_ratio': 0.2}</td>\n",
              "    </tr>\n",
              "  </tbody>\n",
              "</table>\n",
              "</div>"
            ],
            "text/plain": [
              "   rank_test_score  mean_test_score                                      params\n",
              "0                1         0.884829  {'reg__alpha': 0.01, 'reg__l1_ratio': 0.1}\n",
              "1                2         0.877508  {'reg__alpha': 0.01, 'reg__l1_ratio': 0.2}\n",
              "2                3         0.871308  {'reg__alpha': 0.01, 'reg__l1_ratio': 0.3}\n",
              "3                4         0.808137   {'reg__alpha': 0.1, 'reg__l1_ratio': 0.1}\n",
              "4                5         0.790020   {'reg__alpha': 0.1, 'reg__l1_ratio': 0.2}"
            ]
          },
          "metadata": {
            "tags": []
          }
        },
        {
          "output_type": "stream",
          "text": [
            "\n",
            "Accuratezza con il 95.0% di confidenza:\n",
            "R^2 min: 0.8725906302395383\n",
            "R^2 max: 0.8860094681747517\n"
          ],
          "name": "stdout"
        }
      ]
    },
    {
      "cell_type": "markdown",
      "metadata": {
        "id": "VS8-QcosQorh"
      },
      "source": [
        "Come per il modello precedente, lo score è leggermente più basso a quello del modello Ridge."
      ]
    },
    {
      "cell_type": "markdown",
      "metadata": {
        "id": "60qJJxybxjPd"
      },
      "source": [
        "###Kernel Ridge\n",
        "\n",
        "In questa modellazione verranno valutate due funzioni kernel:\n",
        "\n",
        "*   Kernel Polinomiale\n",
        "*   Radial Basis Function\n",
        "\n",
        "In base alla funzione kernel verranno verificati gli iperparametri alpha (poly) e gamma (rbf).\n"
      ]
    },
    {
      "cell_type": "code",
      "metadata": {
        "id": "bHknYyjLxnXh",
        "colab": {
          "base_uri": "https://localhost:8080/",
          "height": 357
        },
        "outputId": "814ced19-953a-432a-b393-72c8de76cd4a"
      },
      "source": [
        "model = Pipeline([\n",
        "    (\"preproc\", ColumnTransformer([\n",
        "        (\"numeric\", StandardScaler(), numeric_features),\n",
        "        (\"categoric\", OneHotEncoder(handle_unknown=\"ignore\"), categoric_features)\n",
        "    ])),\n",
        "    (\"reg\" , KernelRidge(kernel=\"poly\"))\n",
        "])\n",
        "grid = [\n",
        "    {\n",
        "      \"reg__degree\":[2,3,4],\n",
        "      \"reg__alpha\":[0.01,0.1,1,10]\n",
        "    }\n",
        "]\n",
        "\n",
        "gsKerPoly = GridSearchCV(model, grid, cv=kf, refit=True)\n",
        "gsKerPoly.fit(X_train, y_train)\n",
        "print_eval_scaled(X_val,y_val,gsKerPoly)\n",
        "print_param_eval(gsKerPoly)\n",
        "print_accuracy_with_confidence(X_val,y_val,gsKerPoly,0.95)"
      ],
      "execution_count": 46,
      "outputs": [
        {
          "output_type": "stream",
          "text": [
            "   Mean squared error: 1.289e+07\n",
            "       Relative error: 8.32390%\n",
            "R-squared coefficient: 0.90594\n",
            "\n",
            "Dettagli parametri GridSearch:\n"
          ],
          "name": "stdout"
        },
        {
          "output_type": "display_data",
          "data": {
            "text/html": [
              "<div>\n",
              "<style scoped>\n",
              "    .dataframe tbody tr th:only-of-type {\n",
              "        vertical-align: middle;\n",
              "    }\n",
              "\n",
              "    .dataframe tbody tr th {\n",
              "        vertical-align: top;\n",
              "    }\n",
              "\n",
              "    .dataframe thead th {\n",
              "        text-align: right;\n",
              "    }\n",
              "</style>\n",
              "<table border=\"1\" class=\"dataframe\">\n",
              "  <thead>\n",
              "    <tr style=\"text-align: right;\">\n",
              "      <th></th>\n",
              "      <th>rank_test_score</th>\n",
              "      <th>mean_test_score</th>\n",
              "      <th>params</th>\n",
              "    </tr>\n",
              "  </thead>\n",
              "  <tbody>\n",
              "    <tr>\n",
              "      <th>5</th>\n",
              "      <td>1</td>\n",
              "      <td>0.912119</td>\n",
              "      <td>{'reg__alpha': 0.1, 'reg__degree': 4}</td>\n",
              "    </tr>\n",
              "    <tr>\n",
              "      <th>4</th>\n",
              "      <td>2</td>\n",
              "      <td>0.908978</td>\n",
              "      <td>{'reg__alpha': 0.1, 'reg__degree': 3}</td>\n",
              "    </tr>\n",
              "    <tr>\n",
              "      <th>8</th>\n",
              "      <td>3</td>\n",
              "      <td>0.907099</td>\n",
              "      <td>{'reg__alpha': 1, 'reg__degree': 4}</td>\n",
              "    </tr>\n",
              "    <tr>\n",
              "      <th>1</th>\n",
              "      <td>4</td>\n",
              "      <td>0.903456</td>\n",
              "      <td>{'reg__alpha': 0.01, 'reg__degree': 3}</td>\n",
              "    </tr>\n",
              "    <tr>\n",
              "      <th>0</th>\n",
              "      <td>5</td>\n",
              "      <td>0.899065</td>\n",
              "      <td>{'reg__alpha': 0.01, 'reg__degree': 2}</td>\n",
              "    </tr>\n",
              "  </tbody>\n",
              "</table>\n",
              "</div>"
            ],
            "text/plain": [
              "   rank_test_score  mean_test_score                                  params\n",
              "5                1         0.912119   {'reg__alpha': 0.1, 'reg__degree': 4}\n",
              "4                2         0.908978   {'reg__alpha': 0.1, 'reg__degree': 3}\n",
              "8                3         0.907099     {'reg__alpha': 1, 'reg__degree': 4}\n",
              "1                4         0.903456  {'reg__alpha': 0.01, 'reg__degree': 3}\n",
              "0                5         0.899065  {'reg__alpha': 0.01, 'reg__degree': 2}"
            ]
          },
          "metadata": {
            "tags": []
          }
        },
        {
          "output_type": "stream",
          "text": [
            "\n",
            "Accuratezza con il 95.0% di confidenza:\n",
            "R^2 min: 0.9006295158370153\n",
            "R^2 max: 0.9112442147562178\n"
          ],
          "name": "stdout"
        }
      ]
    },
    {
      "cell_type": "markdown",
      "metadata": {
        "id": "vFMZ-pGn2bnw"
      },
      "source": [
        "La creazione del modello kernel ridge ha richiesto un tempo considerevolmente più alto rispetto agli altri modelli. Questo è dovuto all'elevato numero di istanze di training e validazione, in quanto la complessità del calcolo di un modello mediante funzioni kernel risulta essere il quadrato delle istanze.\n",
        "Il risultato però è un modello molto accurato, che ottiene uno score di 0.91.\n",
        "\n",
        "Testiamo di nuovo la Kernel Ridge Regression, ma questa volta proviamo ad utilizzare un kernel di tipo RBF."
      ]
    },
    {
      "cell_type": "code",
      "metadata": {
        "colab": {
          "base_uri": "https://localhost:8080/",
          "height": 326
        },
        "id": "MNH7Jhk03fwG",
        "outputId": "8ba26a20-0774-4486-bc71-5fdeae620508"
      },
      "source": [
        "model = Pipeline([\n",
        "    (\"preproc\", ColumnTransformer([\n",
        "        (\"numeric\", StandardScaler(), numeric_features),\n",
        "        (\"categoric\", OneHotEncoder(handle_unknown=\"ignore\"), categoric_features)\n",
        "    ])),\n",
        "    (\"reg\" , KernelRidge(kernel=\"rbf\"))\n",
        "])\n",
        "grid = {\n",
        "      \"reg__gamma\":[0.01,0.1,1,10],\n",
        "}\n",
        "\n",
        "gsKerRbf = GridSearchCV(model, grid, cv=kf, refit=True)\n",
        "gsKerRbf.fit(X_train, y_train)\n",
        "print_eval_scaled(X_val,y_val,gsKerRbf)\n",
        "print_param_eval(gsKerRbf)\n",
        "print_accuracy_with_confidence(X_val,y_val,gsKerRbf,0.95)"
      ],
      "execution_count": 43,
      "outputs": [
        {
          "output_type": "stream",
          "text": [
            "   Mean squared error: 1.0875e+07\n",
            "       Relative error: 8.40386%\n",
            "R-squared coefficient: 0.92064\n",
            "\n",
            "Dettagli parametri GridSearch:\n"
          ],
          "name": "stdout"
        },
        {
          "output_type": "display_data",
          "data": {
            "text/html": [
              "<div>\n",
              "<style scoped>\n",
              "    .dataframe tbody tr th:only-of-type {\n",
              "        vertical-align: middle;\n",
              "    }\n",
              "\n",
              "    .dataframe tbody tr th {\n",
              "        vertical-align: top;\n",
              "    }\n",
              "\n",
              "    .dataframe thead th {\n",
              "        text-align: right;\n",
              "    }\n",
              "</style>\n",
              "<table border=\"1\" class=\"dataframe\">\n",
              "  <thead>\n",
              "    <tr style=\"text-align: right;\">\n",
              "      <th></th>\n",
              "      <th>rank_test_score</th>\n",
              "      <th>mean_test_score</th>\n",
              "      <th>params</th>\n",
              "    </tr>\n",
              "  </thead>\n",
              "  <tbody>\n",
              "    <tr>\n",
              "      <th>1</th>\n",
              "      <td>1</td>\n",
              "      <td>0.912002</td>\n",
              "      <td>{'reg__gamma': 0.1}</td>\n",
              "    </tr>\n",
              "    <tr>\n",
              "      <th>2</th>\n",
              "      <td>2</td>\n",
              "      <td>0.860690</td>\n",
              "      <td>{'reg__gamma': 1}</td>\n",
              "    </tr>\n",
              "    <tr>\n",
              "      <th>0</th>\n",
              "      <td>3</td>\n",
              "      <td>0.840504</td>\n",
              "      <td>{'reg__gamma': 0.01}</td>\n",
              "    </tr>\n",
              "    <tr>\n",
              "      <th>3</th>\n",
              "      <td>4</td>\n",
              "      <td>0.638903</td>\n",
              "      <td>{'reg__gamma': 10}</td>\n",
              "    </tr>\n",
              "  </tbody>\n",
              "</table>\n",
              "</div>"
            ],
            "text/plain": [
              "   rank_test_score  mean_test_score                params\n",
              "1                1         0.912002   {'reg__gamma': 0.1}\n",
              "2                2         0.860690     {'reg__gamma': 1}\n",
              "0                3         0.840504  {'reg__gamma': 0.01}\n",
              "3                4         0.638903    {'reg__gamma': 10}"
            ]
          },
          "metadata": {
            "tags": []
          }
        },
        {
          "output_type": "stream",
          "text": [
            "\n",
            "Accuratezza con il 95.0% di confidenza:\n",
            "R^2 min: 0.9161230698375868\n",
            "R^2 max: 0.925151259862339\n"
          ],
          "name": "stdout"
        }
      ]
    },
    {
      "cell_type": "markdown",
      "metadata": {
        "id": "ZPD-7K62AV_J"
      },
      "source": [
        "Confrontando il modello che utilizza RBF con quello che fa uso di kernel polinomiale, notiamo che il primo risulta essere leggermente più accurato. "
      ]
    },
    {
      "cell_type": "markdown",
      "metadata": {
        "id": "kqWjYpjnlooG"
      },
      "source": [
        "###Decision Tree Regressor\n",
        "\n",
        "Come ultimo, testiamo un modello Decision Tree Regressor.\n",
        "Gli iperparametri da ottimizzare sono:\n",
        "* min_samples_leaf: numero minimo di istanze per foglia;\n",
        "* max_depth: massima profondità dell'albero di regressione;\n",
        "* min_samples_split: numero di istanze minimo per considerare un possibile split."
      ]
    },
    {
      "cell_type": "code",
      "metadata": {
        "colab": {
          "base_uri": "https://localhost:8080/",
          "height": 357
        },
        "id": "fB51BfpHlVkw",
        "outputId": "0770768c-ea8c-4381-8ffe-bafa94ee676e"
      },
      "source": [
        "model = Pipeline([\n",
        "    (\"preproc\", ColumnTransformer([\n",
        "        (\"numeric\", StandardScaler(), numeric_features),\n",
        "        (\"categoric\", OneHotEncoder(handle_unknown=\"ignore\"), categoric_features)\n",
        "    ])),\n",
        "    (\"reg\" , DecisionTreeRegressor())\n",
        "])\n",
        "grid = {\n",
        "    \"reg__min_samples_leaf\": range(1, 4),\n",
        "    \"reg__max_depth\": [3, 5, 10, None],\n",
        "    \"reg__min_samples_split\": [2, 0.02, 0.05, 0.1]\n",
        "}\n",
        "\n",
        "gsDtr = GridSearchCV(model, grid, cv=kf, refit=True)\n",
        "gsDtr.fit(X_train, y_train)\n",
        "print_eval_scaled(X_val,y_val,gsDtr)\n",
        "print_param_eval(gsDtr)\n",
        "print_accuracy_with_confidence(X_val,y_val,gsDtr,0.95)"
      ],
      "execution_count": 44,
      "outputs": [
        {
          "output_type": "stream",
          "text": [
            "   Mean squared error: 1.154e+07\n",
            "       Relative error: 8.05546%\n",
            "R-squared coefficient: 0.91579\n",
            "\n",
            "Dettagli parametri GridSearch:\n"
          ],
          "name": "stdout"
        },
        {
          "output_type": "display_data",
          "data": {
            "text/html": [
              "<div>\n",
              "<style scoped>\n",
              "    .dataframe tbody tr th:only-of-type {\n",
              "        vertical-align: middle;\n",
              "    }\n",
              "\n",
              "    .dataframe tbody tr th {\n",
              "        vertical-align: top;\n",
              "    }\n",
              "\n",
              "    .dataframe thead th {\n",
              "        text-align: right;\n",
              "    }\n",
              "</style>\n",
              "<table border=\"1\" class=\"dataframe\">\n",
              "  <thead>\n",
              "    <tr style=\"text-align: right;\">\n",
              "      <th></th>\n",
              "      <th>rank_test_score</th>\n",
              "      <th>mean_test_score</th>\n",
              "      <th>params</th>\n",
              "    </tr>\n",
              "  </thead>\n",
              "  <tbody>\n",
              "    <tr>\n",
              "      <th>40</th>\n",
              "      <td>1</td>\n",
              "      <td>0.904773</td>\n",
              "      <td>{'reg__max_depth': None, 'reg__min_samples_leaf': 2, 'reg__min_samples_split': 2}</td>\n",
              "    </tr>\n",
              "    <tr>\n",
              "      <th>44</th>\n",
              "      <td>2</td>\n",
              "      <td>0.901682</td>\n",
              "      <td>{'reg__max_depth': None, 'reg__min_samples_leaf': 3, 'reg__min_samples_split': 2}</td>\n",
              "    </tr>\n",
              "    <tr>\n",
              "      <th>24</th>\n",
              "      <td>3</td>\n",
              "      <td>0.901297</td>\n",
              "      <td>{'reg__max_depth': 10, 'reg__min_samples_leaf': 1, 'reg__min_samples_split': 2}</td>\n",
              "    </tr>\n",
              "    <tr>\n",
              "      <th>36</th>\n",
              "      <td>4</td>\n",
              "      <td>0.899966</td>\n",
              "      <td>{'reg__max_depth': None, 'reg__min_samples_leaf': 1, 'reg__min_samples_split': 2}</td>\n",
              "    </tr>\n",
              "    <tr>\n",
              "      <th>28</th>\n",
              "      <td>5</td>\n",
              "      <td>0.899388</td>\n",
              "      <td>{'reg__max_depth': 10, 'reg__min_samples_leaf': 2, 'reg__min_samples_split': 2}</td>\n",
              "    </tr>\n",
              "  </tbody>\n",
              "</table>\n",
              "</div>"
            ],
            "text/plain": [
              "    rank_test_score  ...                                                                             params\n",
              "40                1  ...  {'reg__max_depth': None, 'reg__min_samples_leaf': 2, 'reg__min_samples_split': 2}\n",
              "44                2  ...  {'reg__max_depth': None, 'reg__min_samples_leaf': 3, 'reg__min_samples_split': 2}\n",
              "24                3  ...    {'reg__max_depth': 10, 'reg__min_samples_leaf': 1, 'reg__min_samples_split': 2}\n",
              "36                4  ...  {'reg__max_depth': None, 'reg__min_samples_leaf': 1, 'reg__min_samples_split': 2}\n",
              "28                5  ...    {'reg__max_depth': 10, 'reg__min_samples_leaf': 2, 'reg__min_samples_split': 2}\n",
              "\n",
              "[5 rows x 3 columns]"
            ]
          },
          "metadata": {
            "tags": []
          }
        },
        {
          "output_type": "stream",
          "text": [
            "\n",
            "Accuratezza con il 95.0% di confidenza:\n",
            "R^2 min: 0.9110109797571363\n",
            "R^2 max: 0.9205655137101879\n"
          ],
          "name": "stdout"
        }
      ]
    },
    {
      "cell_type": "markdown",
      "metadata": {
        "id": "6evlnU7QKsPL"
      },
      "source": [
        "## Parte 4 - Selezione modelli migliori\n",
        "Controllando le tre metriche MSE, Relative Error e coefficiente R^2, così come lo score con il 95% di confidenza, notiamo che i modelli migliori risultano essere **KernelRidge (con kernel RBF)** e **Decision Tree Regressor**.\n",
        "Entrambe, infatti, ottengono uno score che si attesta intorno allo **0,91**. Il modello generato con **Kernel Polinomiale** si avvicina molto a questi due, ma richiede un tempo di training considerevolmente più alto, dovuto al numero di istanze e al numero di iperparametri da testare."
      ]
    },
    {
      "cell_type": "code",
      "metadata": {
        "colab": {
          "base_uri": "https://localhost:8080/"
        },
        "id": "YgsYfAP8VOtk",
        "outputId": "eda60dbf-9d35-442a-d511-c872ab284087"
      },
      "source": [
        "print(\"Modello Kernel Polinomiale:\")\n",
        "print_eval_scaled(X_val,y_val,gsKerPoly)\n",
        "print(\"\\nModello Kernel con Radial Basis Function:\")\n",
        "print_eval_scaled(X_val,y_val,gsKerRbf)\n",
        "print(\"\\nModello Decision Tree Regressor:\")\n",
        "print_eval_scaled(X_val,y_val,gsDtr)"
      ],
      "execution_count": 47,
      "outputs": [
        {
          "output_type": "stream",
          "text": [
            "Modello Kernel Polinomiale:\n",
            "   Mean squared error: 1.289e+07\n",
            "       Relative error: 8.32390%\n",
            "R-squared coefficient: 0.90594\n",
            "\n",
            "Modello Kernel con Radial Basis Function:\n",
            "   Mean squared error: 1.0875e+07\n",
            "       Relative error: 8.40386%\n",
            "R-squared coefficient: 0.92064\n",
            "\n",
            "Modello Decision Tree Regressor:\n",
            "   Mean squared error: 1.154e+07\n",
            "       Relative error: 8.05546%\n",
            "R-squared coefficient: 0.91579\n"
          ],
          "name": "stdout"
        }
      ]
    },
    {
      "cell_type": "markdown",
      "metadata": {
        "id": "C8pRZMxLV7qz"
      },
      "source": [
        "Per la prossima fase viene scelto il modello **Decision Tree Regressor**, che si differenzia dagli altri due per la **velocità di addestramento migliore** ed un **errore relativo più basso**. Inoltre, da esso, è possibile ottenere l'importanza che le diverse feature hanno avuto nel calcolo del modello, utile per la comparazione con la selezione delle feature effettuata nella parte due con regolarizzazione L1."
      ]
    },
    {
      "cell_type": "markdown",
      "metadata": {
        "id": "mPo2LTDKNTHc"
      },
      "source": [
        "##Parte 5 - Interpretazione della conoscenza"
      ]
    },
    {
      "cell_type": "markdown",
      "metadata": {
        "id": "mebS3U_bWm9G"
      },
      "source": [
        "Viene mostrata l'importanza (in percentuale) delle diverse feature nel calcolo del prezzo finale di un'auto usata del modello scelto in precedenza."
      ]
    },
    {
      "cell_type": "code",
      "metadata": {
        "colab": {
          "base_uri": "https://localhost:8080/"
        },
        "id": "5wmwBOKbHAp0",
        "outputId": "09d90143-0f00-4a4e-d03a-9deb2943a224"
      },
      "source": [
        "coefs = gsDtr.best_estimator_[1].feature_importances_\n",
        "enc_categ_features = gsDtr.best_estimator_.named_steps[\"preproc\"].named_transformers_['categoric'].get_feature_names()\n",
        "labels = np.concatenate([numeric_features, enc_categ_features]);\n",
        "print(pd.Series(data=coefs,index=labels).sort_values(ascending=False))"
      ],
      "execution_count": 48,
      "outputs": [
        {
          "output_type": "stream",
          "text": [
            "engineSize       3.700315e-01\n",
            "mileage          3.219403e-01\n",
            "mpg              1.120784e-01\n",
            "age              8.431910e-02\n",
            "tax              2.066179e-02\n",
            "x0_ A Class      2.044856e-02\n",
            "x1_Manual        1.252766e-02\n",
            "x0_ GLC Class    1.050132e-02\n",
            "x0_ GLE Class    9.758203e-03\n",
            "x0_ S Class      9.539618e-03\n",
            "x0_ V Class      5.213598e-03\n",
            "x0_ C Class      4.493476e-03\n",
            "x2_Petrol        3.460438e-03\n",
            "x0_ E Class      3.137799e-03\n",
            "x0_ B Class      2.785518e-03\n",
            "x0_ GLS Class    2.069231e-03\n",
            "x0_ CL Class     1.558860e-03\n",
            "x1_Automatic     1.065260e-03\n",
            "x0_ CLS Class    1.031798e-03\n",
            "x1_Semi-Auto     1.005877e-03\n",
            "x0_ GLA Class    9.233619e-04\n",
            "x0_ SL CLASS     8.219362e-04\n",
            "x2_Diesel        3.331581e-04\n",
            "x0_ GL Class     8.231233e-05\n",
            "x0_ SLK          7.517198e-05\n",
            "x0_ CLA Class    7.022075e-05\n",
            "x2_Hybrid        5.070034e-05\n",
            "x0_ GLB Class    9.624005e-06\n",
            "x0_ M Class      4.821524e-06\n",
            "x0_ X-CLASS      3.896692e-07\n",
            "x0_230           0.000000e+00\n",
            "x0_200           0.000000e+00\n",
            "x0_220           0.000000e+00\n",
            "x0_ CLC Class    0.000000e+00\n",
            "x0_ CLK          0.000000e+00\n",
            "x0_ R Class      0.000000e+00\n",
            "x0_ G Class      0.000000e+00\n",
            "dtype: float64\n"
          ],
          "name": "stdout"
        }
      ]
    },
    {
      "cell_type": "markdown",
      "metadata": {
        "id": "fGmqy5IUW-eT"
      },
      "source": [
        "Confrontando tali valori con quelli ottenuti mediante regolarizzazione L1, notiamo che in entrambi i casi la feature più rilevante sia effettivamente la **dimensione del motore**. Successivamente troviamo le stesse tre variabili, vale a dire **mileage**, miles per gallon (**mpg**) ed **age**. A dispetto dell'analisi fatta in precedenza, però, l'età dell'auto viene ritenuta meno importante rispetto alle miglia percorse dal mezzo e dalle miglia per gallone."
      ]
    },
    {
      "cell_type": "markdown",
      "metadata": {
        "id": "WjkJqc7zZQ42"
      },
      "source": [
        "###Considerazioni finali\n",
        "\n",
        "In questa analisi sono stati trovati tre modelli con coefficienti R^2  piuttosto elevati (**~0.91**), che permettono quindi di ottenere la predizione del prezzo di un veicolo Mercedes con una buona accuratezza. Nonostante ciò, considerando la volatilità del mercato automobilistico, questo genere di modelli necessita di riaddestramenti frequenti: infatti, nel tempo, il valore di specifici modelli potrebbe aumentare (tenendo conto anche del blasone del marchio); oppure, con l'inevitabile passaggio verso la motorizzazione elettrica nel prossimo futuro, tutti i veicoli presenti nel dataset potrebbero diventare obsoleti, perdendo il loro valore."
      ]
    }
  ]
}